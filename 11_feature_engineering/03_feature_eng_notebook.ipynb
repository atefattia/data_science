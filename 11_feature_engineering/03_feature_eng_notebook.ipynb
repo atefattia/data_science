{
 "cells": [
  {
   "cell_type": "code",
   "execution_count": 2,
   "metadata": {},
   "outputs": [
    {
     "data": {
      "text/html": [
       "<div>\n",
       "<style scoped>\n",
       "    .dataframe tbody tr th:only-of-type {\n",
       "        vertical-align: middle;\n",
       "    }\n",
       "\n",
       "    .dataframe tbody tr th {\n",
       "        vertical-align: top;\n",
       "    }\n",
       "\n",
       "    .dataframe thead th {\n",
       "        text-align: right;\n",
       "    }\n",
       "</style>\n",
       "<table border=\"1\" class=\"dataframe\">\n",
       "  <thead>\n",
       "    <tr style=\"text-align: right;\">\n",
       "      <th></th>\n",
       "      <th>PassengerId</th>\n",
       "      <th>Survived</th>\n",
       "      <th>Pclass</th>\n",
       "      <th>Name</th>\n",
       "      <th>Sex</th>\n",
       "      <th>Age</th>\n",
       "      <th>SibSp</th>\n",
       "      <th>Parch</th>\n",
       "      <th>Ticket</th>\n",
       "      <th>Fare</th>\n",
       "      <th>Cabin</th>\n",
       "      <th>Embarked</th>\n",
       "      <th>Age_clean</th>\n",
       "      <th>Embarked_clean</th>\n",
       "      <th>Fare_clean</th>\n",
       "      <th>Fare_clean_tr</th>\n",
       "      <th>Title</th>\n",
       "      <th>Cabin_ind</th>\n",
       "      <th>Family_count</th>\n",
       "    </tr>\n",
       "  </thead>\n",
       "  <tbody>\n",
       "    <tr>\n",
       "      <th>0</th>\n",
       "      <td>1</td>\n",
       "      <td>0</td>\n",
       "      <td>3</td>\n",
       "      <td>Braund, Mr. Owen Harris</td>\n",
       "      <td>1</td>\n",
       "      <td>22.0</td>\n",
       "      <td>1</td>\n",
       "      <td>0</td>\n",
       "      <td>A/5 21171</td>\n",
       "      <td>7.2500</td>\n",
       "      <td>147</td>\n",
       "      <td>2</td>\n",
       "      <td>22.0</td>\n",
       "      <td>3</td>\n",
       "      <td>7.2500</td>\n",
       "      <td>1.486167</td>\n",
       "      <td>11</td>\n",
       "      <td>0</td>\n",
       "      <td>1</td>\n",
       "    </tr>\n",
       "    <tr>\n",
       "      <th>1</th>\n",
       "      <td>2</td>\n",
       "      <td>1</td>\n",
       "      <td>1</td>\n",
       "      <td>Cumings, Mrs. John Bradley (Florence Briggs Th...</td>\n",
       "      <td>0</td>\n",
       "      <td>38.0</td>\n",
       "      <td>1</td>\n",
       "      <td>0</td>\n",
       "      <td>PC 17599</td>\n",
       "      <td>71.2833</td>\n",
       "      <td>81</td>\n",
       "      <td>0</td>\n",
       "      <td>38.0</td>\n",
       "      <td>0</td>\n",
       "      <td>71.2833</td>\n",
       "      <td>2.347457</td>\n",
       "      <td>12</td>\n",
       "      <td>1</td>\n",
       "      <td>1</td>\n",
       "    </tr>\n",
       "    <tr>\n",
       "      <th>2</th>\n",
       "      <td>3</td>\n",
       "      <td>1</td>\n",
       "      <td>3</td>\n",
       "      <td>Heikkinen, Miss. Laina</td>\n",
       "      <td>0</td>\n",
       "      <td>26.0</td>\n",
       "      <td>0</td>\n",
       "      <td>0</td>\n",
       "      <td>STON/O2. 3101282</td>\n",
       "      <td>7.9250</td>\n",
       "      <td>147</td>\n",
       "      <td>2</td>\n",
       "      <td>26.0</td>\n",
       "      <td>3</td>\n",
       "      <td>7.9250</td>\n",
       "      <td>1.512864</td>\n",
       "      <td>8</td>\n",
       "      <td>0</td>\n",
       "      <td>0</td>\n",
       "    </tr>\n",
       "    <tr>\n",
       "      <th>3</th>\n",
       "      <td>4</td>\n",
       "      <td>1</td>\n",
       "      <td>1</td>\n",
       "      <td>Futrelle, Mrs. Jacques Heath (Lily May Peel)</td>\n",
       "      <td>0</td>\n",
       "      <td>35.0</td>\n",
       "      <td>1</td>\n",
       "      <td>0</td>\n",
       "      <td>113803</td>\n",
       "      <td>53.1000</td>\n",
       "      <td>55</td>\n",
       "      <td>2</td>\n",
       "      <td>35.0</td>\n",
       "      <td>3</td>\n",
       "      <td>53.1000</td>\n",
       "      <td>2.213191</td>\n",
       "      <td>12</td>\n",
       "      <td>1</td>\n",
       "      <td>1</td>\n",
       "    </tr>\n",
       "    <tr>\n",
       "      <th>4</th>\n",
       "      <td>5</td>\n",
       "      <td>0</td>\n",
       "      <td>3</td>\n",
       "      <td>Allen, Mr. William Henry</td>\n",
       "      <td>1</td>\n",
       "      <td>35.0</td>\n",
       "      <td>0</td>\n",
       "      <td>0</td>\n",
       "      <td>373450</td>\n",
       "      <td>8.0500</td>\n",
       "      <td>147</td>\n",
       "      <td>2</td>\n",
       "      <td>35.0</td>\n",
       "      <td>3</td>\n",
       "      <td>8.0500</td>\n",
       "      <td>1.517606</td>\n",
       "      <td>11</td>\n",
       "      <td>0</td>\n",
       "      <td>0</td>\n",
       "    </tr>\n",
       "  </tbody>\n",
       "</table>\n",
       "</div>"
      ],
      "text/plain": [
       "   PassengerId  Survived  Pclass  \\\n",
       "0            1         0       3   \n",
       "1            2         1       1   \n",
       "2            3         1       3   \n",
       "3            4         1       1   \n",
       "4            5         0       3   \n",
       "\n",
       "                                                Name  Sex   Age  SibSp  Parch  \\\n",
       "0                            Braund, Mr. Owen Harris    1  22.0      1      0   \n",
       "1  Cumings, Mrs. John Bradley (Florence Briggs Th...    0  38.0      1      0   \n",
       "2                             Heikkinen, Miss. Laina    0  26.0      0      0   \n",
       "3       Futrelle, Mrs. Jacques Heath (Lily May Peel)    0  35.0      1      0   \n",
       "4                           Allen, Mr. William Henry    1  35.0      0      0   \n",
       "\n",
       "             Ticket     Fare  Cabin  Embarked  Age_clean  Embarked_clean  \\\n",
       "0         A/5 21171   7.2500    147         2       22.0               3   \n",
       "1          PC 17599  71.2833     81         0       38.0               0   \n",
       "2  STON/O2. 3101282   7.9250    147         2       26.0               3   \n",
       "3            113803  53.1000     55         2       35.0               3   \n",
       "4            373450   8.0500    147         2       35.0               3   \n",
       "\n",
       "   Fare_clean  Fare_clean_tr  Title  Cabin_ind  Family_count  \n",
       "0      7.2500       1.486167     11          0             1  \n",
       "1     71.2833       2.347457     12          1             1  \n",
       "2      7.9250       1.512864      8          0             0  \n",
       "3     53.1000       2.213191     12          1             1  \n",
       "4      8.0500       1.517606     11          0             0  "
      ]
     },
     "execution_count": 2,
     "metadata": {},
     "output_type": "execute_result"
    }
   ],
   "source": [
    "import pandas as pd\n",
    "from sklearn.model_selection import train_test_split\n",
    "\n",
    "dataset = pd.read_csv('titanic_numeric.csv')\n",
    "dataset.head()"
   ]
  },
  {
   "cell_type": "code",
   "execution_count": 20,
   "metadata": {},
   "outputs": [],
   "source": [
    "features = dataset.drop(['PassengerId', 'Ticket', 'Name', 'Survived'], axis=1)\n",
    "labels = dataset['Survived']\n",
    "\n",
    "X_train, X_test, y_train, y_test = train_test_split(features, labels,\n",
    "                                                   test_size=0.4, random_state=234)\n",
    "X_val, X_test, y_val, y_test = train_test_split(X_test, y_test,\n",
    "                                                   test_size=0.5, random_state=234)"
   ]
  },
  {
   "cell_type": "code",
   "execution_count": 21,
   "metadata": {},
   "outputs": [
    {
     "data": {
      "text/html": [
       "<div>\n",
       "<style scoped>\n",
       "    .dataframe tbody tr th:only-of-type {\n",
       "        vertical-align: middle;\n",
       "    }\n",
       "\n",
       "    .dataframe tbody tr th {\n",
       "        vertical-align: top;\n",
       "    }\n",
       "\n",
       "    .dataframe thead th {\n",
       "        text-align: right;\n",
       "    }\n",
       "</style>\n",
       "<table border=\"1\" class=\"dataframe\">\n",
       "  <thead>\n",
       "    <tr style=\"text-align: right;\">\n",
       "      <th></th>\n",
       "      <th>Pclass</th>\n",
       "      <th>Sex</th>\n",
       "      <th>Age</th>\n",
       "      <th>SibSp</th>\n",
       "      <th>Parch</th>\n",
       "      <th>Fare</th>\n",
       "      <th>Cabin</th>\n",
       "      <th>Embarked</th>\n",
       "      <th>Age_clean</th>\n",
       "      <th>Embarked_clean</th>\n",
       "      <th>Fare_clean</th>\n",
       "      <th>Fare_clean_tr</th>\n",
       "      <th>Title</th>\n",
       "      <th>Cabin_ind</th>\n",
       "      <th>Family_count</th>\n",
       "    </tr>\n",
       "  </thead>\n",
       "  <tbody>\n",
       "    <tr>\n",
       "      <th>673</th>\n",
       "      <td>2</td>\n",
       "      <td>1</td>\n",
       "      <td>31.0</td>\n",
       "      <td>0</td>\n",
       "      <td>0</td>\n",
       "      <td>13.0000</td>\n",
       "      <td>147</td>\n",
       "      <td>2</td>\n",
       "      <td>31.0</td>\n",
       "      <td>3</td>\n",
       "      <td>13.0000</td>\n",
       "      <td>1.670278</td>\n",
       "      <td>11</td>\n",
       "      <td>0</td>\n",
       "      <td>0</td>\n",
       "    </tr>\n",
       "    <tr>\n",
       "      <th>869</th>\n",
       "      <td>3</td>\n",
       "      <td>1</td>\n",
       "      <td>4.0</td>\n",
       "      <td>1</td>\n",
       "      <td>1</td>\n",
       "      <td>11.1333</td>\n",
       "      <td>147</td>\n",
       "      <td>2</td>\n",
       "      <td>4.0</td>\n",
       "      <td>3</td>\n",
       "      <td>11.1333</td>\n",
       "      <td>1.619291</td>\n",
       "      <td>7</td>\n",
       "      <td>0</td>\n",
       "      <td>2</td>\n",
       "    </tr>\n",
       "    <tr>\n",
       "      <th>9</th>\n",
       "      <td>2</td>\n",
       "      <td>0</td>\n",
       "      <td>14.0</td>\n",
       "      <td>1</td>\n",
       "      <td>0</td>\n",
       "      <td>30.0708</td>\n",
       "      <td>147</td>\n",
       "      <td>0</td>\n",
       "      <td>14.0</td>\n",
       "      <td>0</td>\n",
       "      <td>30.0708</td>\n",
       "      <td>1.975282</td>\n",
       "      <td>12</td>\n",
       "      <td>0</td>\n",
       "      <td>1</td>\n",
       "    </tr>\n",
       "    <tr>\n",
       "      <th>851</th>\n",
       "      <td>3</td>\n",
       "      <td>1</td>\n",
       "      <td>74.0</td>\n",
       "      <td>0</td>\n",
       "      <td>0</td>\n",
       "      <td>7.7750</td>\n",
       "      <td>147</td>\n",
       "      <td>2</td>\n",
       "      <td>65.0</td>\n",
       "      <td>3</td>\n",
       "      <td>7.7750</td>\n",
       "      <td>1.507093</td>\n",
       "      <td>11</td>\n",
       "      <td>0</td>\n",
       "      <td>0</td>\n",
       "    </tr>\n",
       "    <tr>\n",
       "      <th>329</th>\n",
       "      <td>1</td>\n",
       "      <td>0</td>\n",
       "      <td>16.0</td>\n",
       "      <td>0</td>\n",
       "      <td>1</td>\n",
       "      <td>57.9792</td>\n",
       "      <td>17</td>\n",
       "      <td>0</td>\n",
       "      <td>16.0</td>\n",
       "      <td>0</td>\n",
       "      <td>57.9792</td>\n",
       "      <td>2.252446</td>\n",
       "      <td>8</td>\n",
       "      <td>1</td>\n",
       "      <td>1</td>\n",
       "    </tr>\n",
       "  </tbody>\n",
       "</table>\n",
       "</div>"
      ],
      "text/plain": [
       "     Pclass  Sex   Age  SibSp  Parch     Fare  Cabin  Embarked  Age_clean  \\\n",
       "673       2    1  31.0      0      0  13.0000    147         2       31.0   \n",
       "869       3    1   4.0      1      1  11.1333    147         2        4.0   \n",
       "9         2    0  14.0      1      0  30.0708    147         0       14.0   \n",
       "851       3    1  74.0      0      0   7.7750    147         2       65.0   \n",
       "329       1    0  16.0      0      1  57.9792     17         0       16.0   \n",
       "\n",
       "     Embarked_clean  Fare_clean  Fare_clean_tr  Title  Cabin_ind  Family_count  \n",
       "673               3     13.0000       1.670278     11          0             0  \n",
       "869               3     11.1333       1.619291      7          0             2  \n",
       "9                 0     30.0708       1.975282     12          0             1  \n",
       "851               3      7.7750       1.507093     11          0             0  \n",
       "329               0     57.9792       2.252446      8          1             1  "
      ]
     },
     "execution_count": 21,
     "metadata": {},
     "output_type": "execute_result"
    }
   ],
   "source": [
    "X_train.head()"
   ]
  },
  {
   "cell_type": "code",
   "execution_count": 22,
   "metadata": {},
   "outputs": [
    {
     "name": "stdout",
     "output_type": "stream",
     "text": [
      "0.6\n",
      "0.2\n",
      "0.2\n"
     ]
    }
   ],
   "source": [
    "for data in [y_train, y_val, y_test]:\n",
    "    print(round(len(data) / len(labels), 2))"
   ]
  },
  {
   "cell_type": "markdown",
   "metadata": {},
   "source": [
    "#### Features scaling"
   ]
  },
  {
   "cell_type": "code",
   "execution_count": 23,
   "metadata": {},
   "outputs": [
    {
     "data": {
      "text/plain": [
       "StandardScaler()"
      ]
     },
     "execution_count": 23,
     "metadata": {},
     "output_type": "execute_result"
    }
   ],
   "source": [
    "from sklearn.preprocessing import StandardScaler\n",
    "scaler = StandardScaler()\n",
    "scaler.fit(X_train)"
   ]
  },
  {
   "cell_type": "code",
   "execution_count": 28,
   "metadata": {},
   "outputs": [
    {
     "data": {
      "text/html": [
       "<div>\n",
       "<style scoped>\n",
       "    .dataframe tbody tr th:only-of-type {\n",
       "        vertical-align: middle;\n",
       "    }\n",
       "\n",
       "    .dataframe tbody tr th {\n",
       "        vertical-align: top;\n",
       "    }\n",
       "\n",
       "    .dataframe thead th {\n",
       "        text-align: right;\n",
       "    }\n",
       "</style>\n",
       "<table border=\"1\" class=\"dataframe\">\n",
       "  <thead>\n",
       "    <tr style=\"text-align: right;\">\n",
       "      <th></th>\n",
       "      <th>Pclass</th>\n",
       "      <th>Sex</th>\n",
       "      <th>Age</th>\n",
       "      <th>SibSp</th>\n",
       "      <th>Parch</th>\n",
       "      <th>Fare</th>\n",
       "      <th>Cabin</th>\n",
       "      <th>Embarked</th>\n",
       "      <th>Age_clean</th>\n",
       "      <th>Embarked_clean</th>\n",
       "      <th>Fare_clean</th>\n",
       "      <th>Fare_clean_tr</th>\n",
       "      <th>Title</th>\n",
       "      <th>Cabin_ind</th>\n",
       "      <th>Family_count</th>\n",
       "    </tr>\n",
       "  </thead>\n",
       "  <tbody>\n",
       "    <tr>\n",
       "      <th>673</th>\n",
       "      <td>-0.371195</td>\n",
       "      <td>0.716064</td>\n",
       "      <td>0.100522</td>\n",
       "      <td>-0.442893</td>\n",
       "      <td>-0.464870</td>\n",
       "      <td>-0.360763</td>\n",
       "      <td>0.448814</td>\n",
       "      <td>0.576755</td>\n",
       "      <td>0.115829</td>\n",
       "      <td>0.562157</td>\n",
       "      <td>-0.419405</td>\n",
       "      <td>-0.280131</td>\n",
       "      <td>0.428018</td>\n",
       "      <td>-0.535488</td>\n",
       "      <td>-0.539757</td>\n",
       "    </tr>\n",
       "    <tr>\n",
       "      <th>869</th>\n",
       "      <td>0.830128</td>\n",
       "      <td>0.716064</td>\n",
       "      <td>-1.756374</td>\n",
       "      <td>0.446223</td>\n",
       "      <td>0.764045</td>\n",
       "      <td>-0.395744</td>\n",
       "      <td>0.448814</td>\n",
       "      <td>0.576755</td>\n",
       "      <td>-1.987539</td>\n",
       "      <td>0.562157</td>\n",
       "      <td>-0.463648</td>\n",
       "      <td>-0.396176</td>\n",
       "      <td>-1.774984</td>\n",
       "      <td>-0.535488</td>\n",
       "      <td>0.691996</td>\n",
       "    </tr>\n",
       "    <tr>\n",
       "      <th>9</th>\n",
       "      <td>-0.371195</td>\n",
       "      <td>-1.396523</td>\n",
       "      <td>-1.068635</td>\n",
       "      <td>0.446223</td>\n",
       "      <td>-0.464870</td>\n",
       "      <td>-0.040859</td>\n",
       "      <td>0.448814</td>\n",
       "      <td>-1.958118</td>\n",
       "      <td>-1.208514</td>\n",
       "      <td>-2.033160</td>\n",
       "      <td>-0.014807</td>\n",
       "      <td>0.414044</td>\n",
       "      <td>0.978768</td>\n",
       "      <td>-0.535488</td>\n",
       "      <td>0.076120</td>\n",
       "    </tr>\n",
       "    <tr>\n",
       "      <th>851</th>\n",
       "      <td>0.830128</td>\n",
       "      <td>0.716064</td>\n",
       "      <td>3.057802</td>\n",
       "      <td>-0.442893</td>\n",
       "      <td>-0.464870</td>\n",
       "      <td>-0.458678</td>\n",
       "      <td>0.448814</td>\n",
       "      <td>0.576755</td>\n",
       "      <td>2.764514</td>\n",
       "      <td>0.562157</td>\n",
       "      <td>-0.543244</td>\n",
       "      <td>-0.651532</td>\n",
       "      <td>0.428018</td>\n",
       "      <td>-0.535488</td>\n",
       "      <td>-0.539757</td>\n",
       "    </tr>\n",
       "    <tr>\n",
       "      <th>329</th>\n",
       "      <td>-1.572519</td>\n",
       "      <td>-1.396523</td>\n",
       "      <td>-0.931087</td>\n",
       "      <td>-0.442893</td>\n",
       "      <td>0.764045</td>\n",
       "      <td>0.482139</td>\n",
       "      <td>-3.230092</td>\n",
       "      <td>-1.958118</td>\n",
       "      <td>-1.052709</td>\n",
       "      <td>-2.033160</td>\n",
       "      <td>0.646656</td>\n",
       "      <td>1.044859</td>\n",
       "      <td>-1.224234</td>\n",
       "      <td>1.867457</td>\n",
       "      <td>0.076120</td>\n",
       "    </tr>\n",
       "  </tbody>\n",
       "</table>\n",
       "</div>"
      ],
      "text/plain": [
       "       Pclass       Sex       Age     SibSp     Parch      Fare     Cabin  \\\n",
       "673 -0.371195  0.716064  0.100522 -0.442893 -0.464870 -0.360763  0.448814   \n",
       "869  0.830128  0.716064 -1.756374  0.446223  0.764045 -0.395744  0.448814   \n",
       "9   -0.371195 -1.396523 -1.068635  0.446223 -0.464870 -0.040859  0.448814   \n",
       "851  0.830128  0.716064  3.057802 -0.442893 -0.464870 -0.458678  0.448814   \n",
       "329 -1.572519 -1.396523 -0.931087 -0.442893  0.764045  0.482139 -3.230092   \n",
       "\n",
       "     Embarked  Age_clean  Embarked_clean  Fare_clean  Fare_clean_tr     Title  \\\n",
       "673  0.576755   0.115829        0.562157   -0.419405      -0.280131  0.428018   \n",
       "869  0.576755  -1.987539        0.562157   -0.463648      -0.396176 -1.774984   \n",
       "9   -1.958118  -1.208514       -2.033160   -0.014807       0.414044  0.978768   \n",
       "851  0.576755   2.764514        0.562157   -0.543244      -0.651532  0.428018   \n",
       "329 -1.958118  -1.052709       -2.033160    0.646656       1.044859 -1.224234   \n",
       "\n",
       "     Cabin_ind  Family_count  \n",
       "673  -0.535488     -0.539757  \n",
       "869  -0.535488      0.691996  \n",
       "9    -0.535488      0.076120  \n",
       "851  -0.535488     -0.539757  \n",
       "329   1.867457      0.076120  "
      ]
     },
     "execution_count": 28,
     "metadata": {},
     "output_type": "execute_result"
    }
   ],
   "source": [
    "features = X_train.columns\n",
    "\n",
    "X_train_scaled = X_train.copy()\n",
    "X_val_scaled = X_val.copy()\n",
    "X_test_scaled = X_test.copy()\n",
    "\n",
    "X_train_scaled[features] = scaler.transform(X_train[features])\n",
    "X_val_scaled[features] = scaler.transform(X_val[features])\n",
    "X_test_scaled[features] = scaler.transform(X_test[features])\n",
    "\n",
    "X_train_scaled.head()"
   ]
  },
  {
   "cell_type": "code",
   "execution_count": 29,
   "metadata": {},
   "outputs": [
    {
     "name": "stdout",
     "output_type": "stream",
     "text": [
      "-1.39652291176834 0.7160641558925483\n"
     ]
    }
   ],
   "source": [
    "print(X_train_scaled.Sex.min(), X_train_scaled.Sex.max())"
   ]
  },
  {
   "cell_type": "code",
   "execution_count": 78,
   "metadata": {},
   "outputs": [],
   "source": [
    "# Define the list of features to be used for each dataset\n",
    "raw_original_features = ['Pclass', 'Sex', 'Age_clean', 'SibSp', 'Parch',\n",
    "                        'Fare', 'Cabin', 'Embarked']\n",
    "\n",
    "cleaned_original_features = ['Pclass', 'Sex', 'Age_clean', 'SibSp', 'Parch',\n",
    "                        'Fare_clean', 'Cabin', 'Embarked_clean']\n",
    "\n",
    "all_features = ['Pclass', 'Sex', 'Age_clean', 'SibSp', 'Parch',\n",
    "                'Fare_clean', 'Fare_clean_tr', 'Cabin', 'Cabin_ind',\n",
    "                'Embarked_clean', 'Title', 'Family_count']\n",
    "\n",
    "reduced_features = ['Pclass', 'Sex', 'Age_clean', 'Family_count',\n",
    "                    'Fare_clean_tr', 'Cabin_ind', 'Title']"
   ]
  },
  {
   "cell_type": "markdown",
   "metadata": {},
   "source": [
    "#### Build and train the models with the different list of features"
   ]
  },
  {
   "cell_type": "code",
   "execution_count": 79,
   "metadata": {},
   "outputs": [],
   "source": [
    "import joblib\n",
    "import matplotlib.pyplot as plt\n",
    "import numpy as np\n",
    "import pandas as pd \n",
    "import seaborn as sns\n",
    "from sklearn.ensemble import RandomForestClassifier\n",
    "from sklearn.model_selection import GridSearchCV\n",
    "%matplotlib inline"
   ]
  },
  {
   "cell_type": "code",
   "execution_count": 80,
   "metadata": {},
   "outputs": [
    {
     "data": {
      "text/plain": [
       "<AxesSubplot:>"
      ]
     },
     "execution_count": 80,
     "metadata": {},
     "output_type": "execute_result"
    },
    {
     "data": {
      "image/png": "[encoded data removed]",
      "text/plain": [
       "<Figure size 432x288 with 2 Axes>"
      ]
     },
     "metadata": {
      "needs_background": "light"
     },
     "output_type": "display_data"
    }
   ],
   "source": [
    "matrix = np.triu(X_train[raw_original_features].corr())\n",
    "sns.heatmap(X_train[raw_original_features].corr(), annot=True, fmt='.1f',\n",
    "           vmin=-1, vmax=1, center=0, cmap='coolwarm', mask=matrix)"
   ]
  },
  {
   "cell_type": "markdown",
   "metadata": {},
   "source": [
    "### GridSearchCV"
   ]
  },
  {
   "cell_type": "code",
   "execution_count": 81,
   "metadata": {},
   "outputs": [],
   "source": [
    "def print_results(results):\n",
    "    print('Best Params: {}\\n'.format(results.best_params_))\n",
    "    \n",
    "    means = results.cv_results_['mean_test_score']\n",
    "    stds = results.cv_results_['std_test_score']\n",
    "    for mean, std, params in zip(means, stds, results.cv_results_['params']):\n",
    "        print('{} (+/-{}) for {}'.format(round(mean, 3), round(std*2, 3), params))\n",
    "    "
   ]
  },
  {
   "cell_type": "code",
   "execution_count": 82,
   "metadata": {},
   "outputs": [
    {
     "name": "stdout",
     "output_type": "stream",
     "text": [
      "(534,)\n",
      "(178,)\n",
      "(179,)\n"
     ]
    }
   ],
   "source": [
    "print(y_train.shape)\n",
    "print(y_val.shape)\n",
    "print(y_test.shape)"
   ]
  },
  {
   "cell_type": "code",
   "execution_count": 83,
   "metadata": {},
   "outputs": [
    {
     "name": "stdout",
     "output_type": "stream",
     "text": [
      "Best Params: {'max_depth': 8, 'n_estimators': 512}\n",
      "\n",
      "0.775 (+/-0.117) for {'max_depth': 2, 'n_estimators': 8}\n",
      "0.775 (+/-0.085) for {'max_depth': 2, 'n_estimators': 16}\n",
      "0.803 (+/-0.095) for {'max_depth': 2, 'n_estimators': 32}\n",
      "0.79 (+/-0.085) for {'max_depth': 2, 'n_estimators': 64}\n",
      "0.794 (+/-0.07) for {'max_depth': 2, 'n_estimators': 128}\n",
      "0.8 (+/-0.083) for {'max_depth': 2, 'n_estimators': 256}\n",
      "0.794 (+/-0.075) for {'max_depth': 2, 'n_estimators': 512}\n",
      "0.835 (+/-0.06) for {'max_depth': 4, 'n_estimators': 8}\n",
      "0.822 (+/-0.081) for {'max_depth': 4, 'n_estimators': 16}\n",
      "0.83 (+/-0.075) for {'max_depth': 4, 'n_estimators': 32}\n",
      "0.832 (+/-0.084) for {'max_depth': 4, 'n_estimators': 64}\n",
      "0.832 (+/-0.1) for {'max_depth': 4, 'n_estimators': 128}\n",
      "0.839 (+/-0.076) for {'max_depth': 4, 'n_estimators': 256}\n",
      "0.83 (+/-0.086) for {'max_depth': 4, 'n_estimators': 512}\n",
      "0.839 (+/-0.05) for {'max_depth': 8, 'n_estimators': 8}\n",
      "0.843 (+/-0.046) for {'max_depth': 8, 'n_estimators': 16}\n",
      "0.835 (+/-0.058) for {'max_depth': 8, 'n_estimators': 32}\n",
      "0.835 (+/-0.057) for {'max_depth': 8, 'n_estimators': 64}\n",
      "0.843 (+/-0.053) for {'max_depth': 8, 'n_estimators': 128}\n",
      "0.843 (+/-0.046) for {'max_depth': 8, 'n_estimators': 256}\n",
      "0.846 (+/-0.049) for {'max_depth': 8, 'n_estimators': 512}\n",
      "0.803 (+/-0.043) for {'max_depth': 16, 'n_estimators': 8}\n",
      "0.82 (+/-0.059) for {'max_depth': 16, 'n_estimators': 16}\n",
      "0.83 (+/-0.038) for {'max_depth': 16, 'n_estimators': 32}\n",
      "0.807 (+/-0.04) for {'max_depth': 16, 'n_estimators': 64}\n",
      "0.815 (+/-0.035) for {'max_depth': 16, 'n_estimators': 128}\n",
      "0.82 (+/-0.029) for {'max_depth': 16, 'n_estimators': 256}\n",
      "0.824 (+/-0.052) for {'max_depth': 16, 'n_estimators': 512}\n",
      "0.805 (+/-0.05) for {'max_depth': 32, 'n_estimators': 8}\n",
      "0.815 (+/-0.054) for {'max_depth': 32, 'n_estimators': 16}\n",
      "0.803 (+/-0.065) for {'max_depth': 32, 'n_estimators': 32}\n",
      "0.82 (+/-0.04) for {'max_depth': 32, 'n_estimators': 64}\n",
      "0.83 (+/-0.05) for {'max_depth': 32, 'n_estimators': 128}\n",
      "0.824 (+/-0.055) for {'max_depth': 32, 'n_estimators': 256}\n",
      "0.826 (+/-0.046) for {'max_depth': 32, 'n_estimators': 512}\n",
      "0.788 (+/-0.049) for {'max_depth': None, 'n_estimators': 8}\n",
      "0.813 (+/-0.031) for {'max_depth': None, 'n_estimators': 16}\n",
      "0.815 (+/-0.021) for {'max_depth': None, 'n_estimators': 32}\n",
      "0.816 (+/-0.026) for {'max_depth': None, 'n_estimators': 64}\n",
      "0.828 (+/-0.053) for {'max_depth': None, 'n_estimators': 128}\n",
      "0.828 (+/-0.05) for {'max_depth': None, 'n_estimators': 256}\n",
      "0.83 (+/-0.054) for {'max_depth': None, 'n_estimators': 512}\n"
     ]
    }
   ],
   "source": [
    "# Conduct search for best params while running cross-validation (GridSearchCV)\n",
    "rf = RandomForestClassifier()\n",
    "parameters = {\n",
    "    'n_estimators': [2**i for i in range(3,10)],\n",
    "    'max_depth': [2, 4, 8, 16, 32, None]\n",
    "}\n",
    "\n",
    "cv = GridSearchCV(rf, parameters, cv=5)\n",
    "cv.fit(X_train[raw_original_features], y_train)\n",
    "\n",
    "print_results(cv)"
   ]
  },
  {
   "cell_type": "markdown",
   "metadata": {},
   "source": [
    "#### Feature Importance"
   ]
  },
  {
   "cell_type": "code",
   "execution_count": 84,
   "metadata": {},
   "outputs": [
    {
     "data": {
      "image/png": "[encoded data removed]",
      "text/plain": [
       "<Figure size 432x288 with 1 Axes>"
      ]
     },
     "metadata": {
      "needs_background": "light"
     },
     "output_type": "display_data"
    }
   ],
   "source": [
    "# Generate feature importance plot\n",
    "feat_imp = cv.best_estimator_.feature_importances_\n",
    "indices = np.argsort(feat_imp)\n",
    "plt.yticks(range(len(indices)), [raw_original_features[i] for i in indices])\n",
    "plt.barh(range(len(indices)), feat_imp[indices], color='r', align='center')\n",
    "plt.show()"
   ]
  },
  {
   "cell_type": "markdown",
   "metadata": {},
   "source": [
    "## Cleaned original feature model"
   ]
  },
  {
   "cell_type": "code",
   "execution_count": 85,
   "metadata": {},
   "outputs": [
    {
     "data": {
      "text/plain": [
       "<AxesSubplot:>"
      ]
     },
     "execution_count": 85,
     "metadata": {},
     "output_type": "execute_result"
    },
    {
     "data": {
      "image/png": "[encoded data removed]",
      "text/plain": [
       "<Figure size 432x288 with 2 Axes>"
      ]
     },
     "metadata": {
      "needs_background": "light"
     },
     "output_type": "display_data"
    }
   ],
   "source": [
    "matrix = np.triu(X_train[cleaned_original_features].corr())\n",
    "sns.heatmap(X_train[cleaned_original_features].corr(), annot=True, fmt='.1f',\n",
    "           vmin=-1, vmax=1, center=0, cmap='coolwarm', mask=matrix)"
   ]
  },
  {
   "cell_type": "code",
   "execution_count": 86,
   "metadata": {},
   "outputs": [
    {
     "name": "stdout",
     "output_type": "stream",
     "text": [
      "Best Params: {'max_depth': 8, 'n_estimators': 128}\n",
      "\n",
      "0.79 (+/-0.074) for {'max_depth': 2, 'n_estimators': 8}\n",
      "0.783 (+/-0.083) for {'max_depth': 2, 'n_estimators': 16}\n",
      "0.792 (+/-0.103) for {'max_depth': 2, 'n_estimators': 32}\n",
      "0.805 (+/-0.081) for {'max_depth': 2, 'n_estimators': 64}\n",
      "0.803 (+/-0.057) for {'max_depth': 2, 'n_estimators': 128}\n",
      "0.794 (+/-0.07) for {'max_depth': 2, 'n_estimators': 256}\n",
      "0.788 (+/-0.076) for {'max_depth': 2, 'n_estimators': 512}\n",
      "0.818 (+/-0.056) for {'max_depth': 4, 'n_estimators': 8}\n",
      "0.805 (+/-0.1) for {'max_depth': 4, 'n_estimators': 16}\n",
      "0.818 (+/-0.075) for {'max_depth': 4, 'n_estimators': 32}\n",
      "0.835 (+/-0.086) for {'max_depth': 4, 'n_estimators': 64}\n",
      "0.837 (+/-0.072) for {'max_depth': 4, 'n_estimators': 128}\n",
      "0.837 (+/-0.069) for {'max_depth': 4, 'n_estimators': 256}\n",
      "0.837 (+/-0.091) for {'max_depth': 4, 'n_estimators': 512}\n",
      "0.824 (+/-0.065) for {'max_depth': 8, 'n_estimators': 8}\n",
      "0.837 (+/-0.057) for {'max_depth': 8, 'n_estimators': 16}\n",
      "0.833 (+/-0.044) for {'max_depth': 8, 'n_estimators': 32}\n",
      "0.835 (+/-0.047) for {'max_depth': 8, 'n_estimators': 64}\n",
      "0.841 (+/-0.048) for {'max_depth': 8, 'n_estimators': 128}\n",
      "0.837 (+/-0.057) for {'max_depth': 8, 'n_estimators': 256}\n",
      "0.839 (+/-0.054) for {'max_depth': 8, 'n_estimators': 512}\n",
      "0.818 (+/-0.04) for {'max_depth': 16, 'n_estimators': 8}\n",
      "0.824 (+/-0.061) for {'max_depth': 16, 'n_estimators': 16}\n",
      "0.826 (+/-0.063) for {'max_depth': 16, 'n_estimators': 32}\n",
      "0.824 (+/-0.038) for {'max_depth': 16, 'n_estimators': 64}\n",
      "0.813 (+/-0.071) for {'max_depth': 16, 'n_estimators': 128}\n",
      "0.832 (+/-0.061) for {'max_depth': 16, 'n_estimators': 256}\n",
      "0.832 (+/-0.064) for {'max_depth': 16, 'n_estimators': 512}\n",
      "0.818 (+/-0.033) for {'max_depth': 32, 'n_estimators': 8}\n",
      "0.826 (+/-0.041) for {'max_depth': 32, 'n_estimators': 16}\n",
      "0.818 (+/-0.022) for {'max_depth': 32, 'n_estimators': 32}\n",
      "0.832 (+/-0.048) for {'max_depth': 32, 'n_estimators': 64}\n",
      "0.824 (+/-0.05) for {'max_depth': 32, 'n_estimators': 128}\n",
      "0.822 (+/-0.047) for {'max_depth': 32, 'n_estimators': 256}\n",
      "0.83 (+/-0.051) for {'max_depth': 32, 'n_estimators': 512}\n",
      "0.83 (+/-0.065) for {'max_depth': None, 'n_estimators': 8}\n",
      "0.811 (+/-0.042) for {'max_depth': None, 'n_estimators': 16}\n",
      "0.826 (+/-0.057) for {'max_depth': None, 'n_estimators': 32}\n",
      "0.82 (+/-0.037) for {'max_depth': None, 'n_estimators': 64}\n",
      "0.822 (+/-0.035) for {'max_depth': None, 'n_estimators': 128}\n",
      "0.83 (+/-0.063) for {'max_depth': None, 'n_estimators': 256}\n",
      "0.826 (+/-0.067) for {'max_depth': None, 'n_estimators': 512}\n"
     ]
    }
   ],
   "source": [
    "rf_clean_original_feat = RandomForestClassifier()\n",
    "cv_clean_original_feat = GridSearchCV(rf_clean_original_feat, parameters, cv=5)\n",
    "cv_clean_original_feat.fit(X_train[cleaned_original_features], y_train)\n",
    "\n",
    "print_results(cv_clean_original_feat)"
   ]
  },
  {
   "cell_type": "code",
   "execution_count": 87,
   "metadata": {},
   "outputs": [
    {
     "data": {
      "image/png": "[encoded data removed]",
      "text/plain": [
       "<Figure size 432x288 with 1 Axes>"
      ]
     },
     "metadata": {
      "needs_background": "light"
     },
     "output_type": "display_data"
    }
   ],
   "source": [
    "# Generate feature importance plot\n",
    "feat_imp_clean_original_feat = cv_clean_original_feat.best_estimator_.feature_importances_\n",
    "indices = np.argsort(feat_imp_clean_original_feat)\n",
    "plt.yticks(range(len(indices)), [cleaned_original_features[i] for i in indices])\n",
    "plt.barh(range(len(indices)), feat_imp_clean_original_feat[indices], color='r', align='center')\n",
    "plt.show()"
   ]
  },
  {
   "cell_type": "markdown",
   "metadata": {},
   "source": [
    "## All features model"
   ]
  },
  {
   "cell_type": "code",
   "execution_count": 88,
   "metadata": {},
   "outputs": [
    {
     "data": {
      "text/plain": [
       "<AxesSubplot:>"
      ]
     },
     "execution_count": 88,
     "metadata": {},
     "output_type": "execute_result"
    },
    {
     "data": {
      "image/png": "[encoded data removed]",
      "text/plain": [
       "<Figure size 432x288 with 2 Axes>"
      ]
     },
     "metadata": {
      "needs_background": "light"
     },
     "output_type": "display_data"
    }
   ],
   "source": [
    "matrix = np.triu(X_train[all_features].corr())\n",
    "sns.heatmap(X_train[all_features].corr(), annot=True, fmt='.1f',\n",
    "           vmin=-1, vmax=1, center=0, cmap='coolwarm', mask=matrix)"
   ]
  },
  {
   "cell_type": "code",
   "execution_count": 89,
   "metadata": {},
   "outputs": [
    {
     "name": "stdout",
     "output_type": "stream",
     "text": [
      "Best Params: {'max_depth': 4, 'n_estimators': 128}\n",
      "\n",
      "0.805 (+/-0.06) for {'max_depth': 2, 'n_estimators': 8}\n",
      "0.802 (+/-0.075) for {'max_depth': 2, 'n_estimators': 16}\n",
      "0.805 (+/-0.044) for {'max_depth': 2, 'n_estimators': 32}\n",
      "0.811 (+/-0.049) for {'max_depth': 2, 'n_estimators': 64}\n",
      "0.822 (+/-0.056) for {'max_depth': 2, 'n_estimators': 128}\n",
      "0.822 (+/-0.042) for {'max_depth': 2, 'n_estimators': 256}\n",
      "0.815 (+/-0.06) for {'max_depth': 2, 'n_estimators': 512}\n",
      "0.832 (+/-0.072) for {'max_depth': 4, 'n_estimators': 8}\n",
      "0.839 (+/-0.068) for {'max_depth': 4, 'n_estimators': 16}\n",
      "0.845 (+/-0.059) for {'max_depth': 4, 'n_estimators': 32}\n",
      "0.843 (+/-0.064) for {'max_depth': 4, 'n_estimators': 64}\n",
      "0.85 (+/-0.067) for {'max_depth': 4, 'n_estimators': 128}\n",
      "0.848 (+/-0.062) for {'max_depth': 4, 'n_estimators': 256}\n",
      "0.845 (+/-0.056) for {'max_depth': 4, 'n_estimators': 512}\n",
      "0.835 (+/-0.038) for {'max_depth': 8, 'n_estimators': 8}\n",
      "0.843 (+/-0.064) for {'max_depth': 8, 'n_estimators': 16}\n",
      "0.841 (+/-0.04) for {'max_depth': 8, 'n_estimators': 32}\n",
      "0.843 (+/-0.051) for {'max_depth': 8, 'n_estimators': 64}\n",
      "0.833 (+/-0.039) for {'max_depth': 8, 'n_estimators': 128}\n",
      "0.845 (+/-0.054) for {'max_depth': 8, 'n_estimators': 256}\n",
      "0.837 (+/-0.055) for {'max_depth': 8, 'n_estimators': 512}\n",
      "0.811 (+/-0.048) for {'max_depth': 16, 'n_estimators': 8}\n",
      "0.818 (+/-0.021) for {'max_depth': 16, 'n_estimators': 16}\n",
      "0.83 (+/-0.04) for {'max_depth': 16, 'n_estimators': 32}\n",
      "0.826 (+/-0.019) for {'max_depth': 16, 'n_estimators': 64}\n",
      "0.813 (+/-0.071) for {'max_depth': 16, 'n_estimators': 128}\n",
      "0.817 (+/-0.038) for {'max_depth': 16, 'n_estimators': 256}\n",
      "0.822 (+/-0.042) for {'max_depth': 16, 'n_estimators': 512}\n",
      "0.807 (+/-0.014) for {'max_depth': 32, 'n_estimators': 8}\n",
      "0.805 (+/-0.036) for {'max_depth': 32, 'n_estimators': 16}\n",
      "0.822 (+/-0.039) for {'max_depth': 32, 'n_estimators': 32}\n",
      "0.82 (+/-0.027) for {'max_depth': 32, 'n_estimators': 64}\n",
      "0.828 (+/-0.034) for {'max_depth': 32, 'n_estimators': 128}\n",
      "0.828 (+/-0.047) for {'max_depth': 32, 'n_estimators': 256}\n",
      "0.828 (+/-0.034) for {'max_depth': 32, 'n_estimators': 512}\n",
      "0.822 (+/-0.042) for {'max_depth': None, 'n_estimators': 8}\n",
      "0.816 (+/-0.031) for {'max_depth': None, 'n_estimators': 16}\n",
      "0.833 (+/-0.052) for {'max_depth': None, 'n_estimators': 32}\n",
      "0.813 (+/-0.07) for {'max_depth': None, 'n_estimators': 64}\n",
      "0.811 (+/-0.031) for {'max_depth': None, 'n_estimators': 128}\n",
      "0.826 (+/-0.034) for {'max_depth': None, 'n_estimators': 256}\n",
      "0.815 (+/-0.059) for {'max_depth': None, 'n_estimators': 512}\n"
     ]
    }
   ],
   "source": [
    "rf_all_features = RandomForestClassifier()\n",
    "cv_all_features = GridSearchCV(rf_all_features, parameters, cv=5)\n",
    "cv_all_features.fit(X_train[all_features], y_train)\n",
    "\n",
    "print_results(cv_all_features)"
   ]
  },
  {
   "cell_type": "code",
   "execution_count": 90,
   "metadata": {},
   "outputs": [
    {
     "data": {
      "image/png": "[encoded data removed]",
      "text/plain": [
       "<Figure size 432x288 with 1 Axes>"
      ]
     },
     "metadata": {
      "needs_background": "light"
     },
     "output_type": "display_data"
    }
   ],
   "source": [
    "# Generate feature importance plot\n",
    "feat_imp_all_features = cv_all_features.best_estimator_.feature_importances_\n",
    "indices = np.argsort(feat_imp_all_features)\n",
    "plt.yticks(range(len(indices)), [all_features[i] for i in indices])\n",
    "plt.barh(range(len(indices)), feat_imp_all_features[indices], color='r', align='center')\n",
    "plt.show()"
   ]
  },
  {
   "cell_type": "markdown",
   "metadata": {},
   "source": [
    "## Reduced features"
   ]
  },
  {
   "cell_type": "code",
   "execution_count": 91,
   "metadata": {},
   "outputs": [
    {
     "data": {
      "text/plain": [
       "<AxesSubplot:>"
      ]
     },
     "execution_count": 91,
     "metadata": {},
     "output_type": "execute_result"
    },
    {
     "data": {
      "image/png": "[encoded data removed]",
      "text/plain": [
       "<Figure size 432x288 with 2 Axes>"
      ]
     },
     "metadata": {
      "needs_background": "light"
     },
     "output_type": "display_data"
    }
   ],
   "source": [
    "matrix = np.triu(X_train[reduced_features].corr())\n",
    "sns.heatmap(X_train[reduced_features].corr(), annot=True, fmt='.1f',\n",
    "           vmin=-1, vmax=1, center=0, cmap='coolwarm', mask=matrix)"
   ]
  },
  {
   "cell_type": "code",
   "execution_count": 92,
   "metadata": {},
   "outputs": [
    {
     "name": "stdout",
     "output_type": "stream",
     "text": [
      "Best Params: {'max_depth': 4, 'n_estimators': 64}\n",
      "\n",
      "0.803 (+/-0.085) for {'max_depth': 2, 'n_estimators': 8}\n",
      "0.816 (+/-0.038) for {'max_depth': 2, 'n_estimators': 16}\n",
      "0.813 (+/-0.051) for {'max_depth': 2, 'n_estimators': 32}\n",
      "0.811 (+/-0.099) for {'max_depth': 2, 'n_estimators': 64}\n",
      "0.807 (+/-0.045) for {'max_depth': 2, 'n_estimators': 128}\n",
      "0.813 (+/-0.048) for {'max_depth': 2, 'n_estimators': 256}\n",
      "0.813 (+/-0.045) for {'max_depth': 2, 'n_estimators': 512}\n",
      "0.839 (+/-0.067) for {'max_depth': 4, 'n_estimators': 8}\n",
      "0.847 (+/-0.067) for {'max_depth': 4, 'n_estimators': 16}\n",
      "0.847 (+/-0.06) for {'max_depth': 4, 'n_estimators': 32}\n",
      "0.852 (+/-0.076) for {'max_depth': 4, 'n_estimators': 64}\n",
      "0.847 (+/-0.069) for {'max_depth': 4, 'n_estimators': 128}\n",
      "0.852 (+/-0.072) for {'max_depth': 4, 'n_estimators': 256}\n",
      "0.85 (+/-0.075) for {'max_depth': 4, 'n_estimators': 512}\n",
      "0.846 (+/-0.038) for {'max_depth': 8, 'n_estimators': 8}\n",
      "0.848 (+/-0.029) for {'max_depth': 8, 'n_estimators': 16}\n",
      "0.846 (+/-0.045) for {'max_depth': 8, 'n_estimators': 32}\n",
      "0.845 (+/-0.018) for {'max_depth': 8, 'n_estimators': 64}\n",
      "0.845 (+/-0.038) for {'max_depth': 8, 'n_estimators': 128}\n",
      "0.845 (+/-0.043) for {'max_depth': 8, 'n_estimators': 256}\n",
      "0.848 (+/-0.043) for {'max_depth': 8, 'n_estimators': 512}\n",
      "0.82 (+/-0.062) for {'max_depth': 16, 'n_estimators': 8}\n",
      "0.826 (+/-0.043) for {'max_depth': 16, 'n_estimators': 16}\n",
      "0.835 (+/-0.052) for {'max_depth': 16, 'n_estimators': 32}\n",
      "0.82 (+/-0.027) for {'max_depth': 16, 'n_estimators': 64}\n",
      "0.822 (+/-0.047) for {'max_depth': 16, 'n_estimators': 128}\n",
      "0.824 (+/-0.054) for {'max_depth': 16, 'n_estimators': 256}\n",
      "0.83 (+/-0.043) for {'max_depth': 16, 'n_estimators': 512}\n",
      "0.828 (+/-0.037) for {'max_depth': 32, 'n_estimators': 8}\n",
      "0.817 (+/-0.05) for {'max_depth': 32, 'n_estimators': 16}\n",
      "0.83 (+/-0.029) for {'max_depth': 32, 'n_estimators': 32}\n",
      "0.83 (+/-0.05) for {'max_depth': 32, 'n_estimators': 64}\n",
      "0.837 (+/-0.034) for {'max_depth': 32, 'n_estimators': 128}\n",
      "0.835 (+/-0.038) for {'max_depth': 32, 'n_estimators': 256}\n",
      "0.831 (+/-0.042) for {'max_depth': 32, 'n_estimators': 512}\n",
      "0.82 (+/-0.056) for {'max_depth': None, 'n_estimators': 8}\n",
      "0.817 (+/-0.034) for {'max_depth': None, 'n_estimators': 16}\n",
      "0.835 (+/-0.042) for {'max_depth': None, 'n_estimators': 32}\n",
      "0.828 (+/-0.038) for {'max_depth': None, 'n_estimators': 64}\n",
      "0.831 (+/-0.035) for {'max_depth': None, 'n_estimators': 128}\n",
      "0.83 (+/-0.038) for {'max_depth': None, 'n_estimators': 256}\n",
      "0.828 (+/-0.038) for {'max_depth': None, 'n_estimators': 512}\n"
     ]
    }
   ],
   "source": [
    "rf_reduced_features = RandomForestClassifier()\n",
    "cv_reduced_features = GridSearchCV(rf_reduced_features, parameters, cv=5)\n",
    "cv_reduced_features.fit(X_train[reduced_features], y_train)\n",
    "\n",
    "print_results(cv_reduced_features)"
   ]
  },
  {
   "cell_type": "code",
   "execution_count": 93,
   "metadata": {},
   "outputs": [
    {
     "data": {
      "image/png": "[encoded data removed]",
      "text/plain": [
       "<Figure size 432x288 with 1 Axes>"
      ]
     },
     "metadata": {
      "needs_background": "light"
     },
     "output_type": "display_data"
    }
   ],
   "source": [
    "# Generate feature importance plot\n",
    "feat_imp_reduced_features = cv_reduced_features.best_estimator_.feature_importances_\n",
    "indices = np.argsort(feat_imp_reduced_features)\n",
    "plt.yticks(range(len(indices)), [reduced_features[i] for i in indices])\n",
    "plt.barh(range(len(indices)), feat_imp_reduced_features[indices], color='r', align='center')\n",
    "plt.show()"
   ]
  },
  {
   "cell_type": "markdown",
   "metadata": {},
   "source": [
    "## Evaluate all models on unseen data"
   ]
  },
  {
   "cell_type": "code",
   "execution_count": 94,
   "metadata": {},
   "outputs": [],
   "source": [
    "from sklearn.metrics import accuracy_score, precision_score, recall_score\n",
    "from time import time\n",
    "\n",
    "mod_list = [cv.best_estimator_, cv_clean_original_feat.best_estimator_,\n",
    "           cv_all_features.best_estimator_, cv_reduced_features.best_estimator_]\n",
    "model_names = ['raw_original', 'cleaned_original', 'all', 'reduced']\n",
    "models = {}\n",
    "\n",
    "for name, mdl in zip(model_names, mod_list):\n",
    "    models[name] = mdl"
   ]
  },
  {
   "cell_type": "code",
   "execution_count": 95,
   "metadata": {},
   "outputs": [
    {
     "name": "stdout",
     "output_type": "stream",
     "text": [
      "{'raw_original': RandomForestClassifier(max_depth=8, n_estimators=512), 'cleaned_original': RandomForestClassifier(max_depth=8, n_estimators=128), 'all': RandomForestClassifier(max_depth=4, n_estimators=128), 'reduced': RandomForestClassifier(max_depth=4, n_estimators=64)}\n"
     ]
    }
   ],
   "source": [
    "print(models)"
   ]
  },
  {
   "cell_type": "code",
   "execution_count": 96,
   "metadata": {},
   "outputs": [],
   "source": [
    "def evaluate_model(name, model, features, labels):\n",
    "    start = time()\n",
    "    pred = model.predict(features)\n",
    "    end = time()\n",
    "    acc = round(accuracy_score(labels, pred), 3)\n",
    "    precision = round(precision_score(labels, pred), 3)\n",
    "    recall = round(recall_score(labels, pred), 3)\n",
    "    print('{} -- \\tAccuracy: {} / Precision: {} / Recall: {} / Latency: {}ms'.format(\n",
    "    name, acc, precision, recall, round((end - start), 3)))"
   ]
  },
  {
   "cell_type": "markdown",
   "metadata": {},
   "source": [
    "#### Validation Set"
   ]
  },
  {
   "cell_type": "code",
   "execution_count": 97,
   "metadata": {},
   "outputs": [
    {
     "name": "stdout",
     "output_type": "stream",
     "text": [
      "Raw Features -- \tAccuracy: 0.803 / Precision: 0.812 / Recall: 0.693 / Latency: 0.188ms\n",
      "Cleaned Features -- \tAccuracy: 0.775 / Precision: 0.761 / Recall: 0.68 / Latency: 0.035ms\n",
      "All Features -- \tAccuracy: 0.764 / Precision: 0.726 / Recall: 0.707 / Latency: 0.028ms\n",
      "Reduced Features -- \tAccuracy: 0.803 / Precision: 0.803 / Recall: 0.707 / Latency: 0.012ms\n"
     ]
    }
   ],
   "source": [
    "evaluate_model('Raw Features', models['raw_original'],\n",
    "               X_val[raw_original_features], y_val)\n",
    "evaluate_model('Cleaned Features', models['cleaned_original'],\n",
    "               X_val[cleaned_original_features], y_val)\n",
    "evaluate_model('All Features', models['all'],\n",
    "               X_val[all_features], y_val)\n",
    "evaluate_model('Reduced Features', models['reduced'],\n",
    "               X_val[reduced_features], y_val)"
   ]
  },
  {
   "cell_type": "markdown",
   "metadata": {},
   "source": [
    "#### Test Set"
   ]
  },
  {
   "cell_type": "code",
   "execution_count": 98,
   "metadata": {},
   "outputs": [
    {
     "name": "stdout",
     "output_type": "stream",
     "text": [
      "Raw Features -- \tAccuracy: 0.804 / Precision: 0.719 / Recall: 0.683 / Latency: 0.1ms\n",
      "Cleaned Features -- \tAccuracy: 0.788 / Precision: 0.683 / Recall: 0.683 / Latency: 0.02ms\n",
      "All Features -- \tAccuracy: 0.788 / Precision: 0.672 / Recall: 0.717 / Latency: 0.019ms\n",
      "Reduced Features -- \tAccuracy: 0.788 / Precision: 0.683 / Recall: 0.683 / Latency: 0.011ms\n"
     ]
    }
   ],
   "source": [
    "evaluate_model('Raw Features', models['raw_original'],\n",
    "               X_test[raw_original_features], y_test)\n",
    "evaluate_model('Cleaned Features', models['cleaned_original'],\n",
    "               X_test[cleaned_original_features], y_test)\n",
    "evaluate_model('All Features', models['all'],\n",
    "               X_test[all_features], y_test)\n",
    "evaluate_model('Reduced Features', models['reduced'],\n",
    "               X_test[reduced_features], y_test)"
   ]
  },
  {
   "cell_type": "code",
   "execution_count": null,
   "metadata": {},
   "outputs": [],
   "source": []
  }
 ],
 "metadata": {
  "kernelspec": {
   "display_name": "Python 3",
   "language": "python",
   "name": "python3"
  },
  "language_info": {
   "codemirror_mode": {
    "name": "ipython",
    "version": 3
   },
   "file_extension": ".py",
   "mimetype": "text/x-python",
   "name": "python",
   "nbconvert_exporter": "python",
   "pygments_lexer": "ipython3",
   "version": "3.8.5"
  }
 },
 "nbformat": 4,
 "nbformat_minor": 4
}
