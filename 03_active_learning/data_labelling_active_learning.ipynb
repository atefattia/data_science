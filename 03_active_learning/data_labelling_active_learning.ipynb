{
 "cells": [
  {
   "cell_type": "markdown",
   "metadata": {},
   "source": [
    "### Active learning with the MNIST dataset"
   ]
  },
  {
   "cell_type": "code",
   "execution_count": 27,
   "metadata": {},
   "outputs": [],
   "source": [
    "import numpy as np\n",
    "import matplotlib.pyplot as plt\n",
    "import tensorflow as tf\n",
    "from tensorflow import keras\n",
    "number_of_training_data = 500\n",
    "number_of_test_data = 50"
   ]
  },
  {
   "cell_type": "code",
   "execution_count": 28,
   "metadata": {},
   "outputs": [],
   "source": [
    "(train_x, train_y), (test_x, test_y) = tf.keras.datasets.mnist.load_data(path=\"mnist.npz\")"
   ]
  },
  {
   "cell_type": "code",
   "execution_count": 29,
   "metadata": {},
   "outputs": [
    {
     "name": "stdout",
     "output_type": "stream",
     "text": [
      "train_x shape :  (60000, 28, 28)\n",
      "train_y shape :  (60000,)\n",
      "test_x shape :  (10000, 28, 28)\n",
      "test_y shape :  (10000,)\n"
     ]
    }
   ],
   "source": [
    "print(\"train_x shape : \", train_x.shape)\n",
    "print(\"train_y shape : \", train_y.shape)\n",
    "print(\"test_x shape : \", test_x.shape)\n",
    "print(\"test_y shape : \", test_y.shape)"
   ]
  },
  {
   "cell_type": "code",
   "execution_count": 30,
   "metadata": {},
   "outputs": [
    {
     "data": {
      "image/png": "[encoded data removed]",
      "text/plain": [
       "<Figure size 432x288 with 1 Axes>"
      ]
     },
     "metadata": {
      "needs_background": "light"
     },
     "output_type": "display_data"
    }
   ],
   "source": [
    "plt.imshow(train_x[0])\n",
    "plt.title(train_y[0])\n",
    "plt.show()"
   ]
  },
  {
   "cell_type": "markdown",
   "metadata": {},
   "source": [
    "### Use a subset of the MNIST dataset (1000) and normalize:"
   ]
  },
  {
   "cell_type": "code",
   "execution_count": 31,
   "metadata": {},
   "outputs": [
    {
     "name": "stdout",
     "output_type": "stream",
     "text": [
      "X shape :  (500, 28, 28)\n",
      "Y shape :  (500,)\n",
      "X_test shape :  (50, 28, 28)\n",
      "Y_test shape :  (50,)\n"
     ]
    }
   ],
   "source": [
    "X = train_x[:number_of_training_data] / 255\n",
    "Y = train_y[:number_of_training_data]\n",
    "X_test = test_x[:number_of_test_data] / 255\n",
    "Y_test = test_y[:number_of_test_data]\n",
    "\n",
    "print(\"X shape : \", X.shape)\n",
    "print(\"Y shape : \", Y.shape)\n",
    "print(\"X_test shape : \", X_test.shape)\n",
    "print(\"Y_test shape : \", Y_test.shape)"
   ]
  },
  {
   "cell_type": "code",
   "execution_count": 32,
   "metadata": {},
   "outputs": [
    {
     "data": {
      "image/png": "[encoded data removed]",
      "text/plain": [
       "<Figure size 432x288 with 1 Axes>"
      ]
     },
     "metadata": {
      "needs_background": "light"
     },
     "output_type": "display_data"
    }
   ],
   "source": [
    "plt.imshow(X[10])\n",
    "plt.title(Y[10])\n",
    "plt.show()"
   ]
  },
  {
   "cell_type": "markdown",
   "metadata": {},
   "source": [
    "### Plot distribution of the subset:"
   ]
  },
  {
   "cell_type": "code",
   "execution_count": 33,
   "metadata": {},
   "outputs": [
    {
     "name": "stdout",
     "output_type": "stream",
     "text": [
      "[50, 66, 52, 50, 52, 39, 45, 52, 39, 55]\n"
     ]
    }
   ],
   "source": [
    "count_labels = [len(Y[Y==label]) for label in np.unique(Y)]\n",
    "print(count_labels)"
   ]
  },
  {
   "cell_type": "code",
   "execution_count": 34,
   "metadata": {},
   "outputs": [
    {
     "data": {
      "image/png": "[encoded data removed]",
      "text/plain": [
       "<Figure size 432x288 with 1 Axes>"
      ]
     },
     "metadata": {
      "needs_background": "light"
     },
     "output_type": "display_data"
    }
   ],
   "source": [
    "fig = plt.figure()\n",
    "ax = fig.add_axes([0,0,1,1])\n",
    "ax.bar(np.unique(Y),count_labels)\n",
    "plt.xlabel('labels')\n",
    "plt.ylabel('number of elements')\n",
    "plt.show()"
   ]
  },
  {
   "cell_type": "markdown",
   "metadata": {},
   "source": [
    "### Prepare data and build model:"
   ]
  },
  {
   "cell_type": "code",
   "execution_count": 35,
   "metadata": {},
   "outputs": [
    {
     "name": "stdout",
     "output_type": "stream",
     "text": [
      "(500, 10)\n",
      "(50, 10)\n"
     ]
    }
   ],
   "source": [
    "# one hot encoding\n",
    "Y_enc = np.zeros((len(Y), 10), dtype='int')\n",
    "print(Y_enc.shape)\n",
    "for i, y in enumerate(Y):\n",
    "    Y_enc[i, y] = 1\n",
    "    \n",
    "Y_test_enc = np.zeros((len(Y_test), 10), dtype='int')\n",
    "print(Y_test_enc.shape)\n",
    "for i, y in enumerate(Y_test):\n",
    "    Y_test_enc[i, y] = 1"
   ]
  },
  {
   "cell_type": "code",
   "execution_count": 36,
   "metadata": {},
   "outputs": [
    {
     "name": "stdout",
     "output_type": "stream",
     "text": [
      "(500, 28, 28, 1)\n",
      "(50, 28, 28, 1)\n"
     ]
    }
   ],
   "source": [
    "X = X.reshape(-1, 28, 28, 1)\n",
    "print(X.shape)\n",
    "X_test = X_test.reshape(-1, 28, 28, 1)\n",
    "print(X_test.shape)"
   ]
  },
  {
   "cell_type": "code",
   "execution_count": 37,
   "metadata": {},
   "outputs": [
    {
     "name": "stdout",
     "output_type": "stream",
     "text": [
      "Model: \"sequential_1\"\n",
      "_________________________________________________________________\n",
      "Layer (type)                 Output Shape              Param #   \n",
      "=================================================================\n",
      "conv2d_2 (Conv2D)            (None, 26, 26, 32)        320       \n",
      "_________________________________________________________________\n",
      "max_pooling2d_2 (MaxPooling2 (None, 13, 13, 32)        0         \n",
      "_________________________________________________________________\n",
      "conv2d_3 (Conv2D)            (None, 11, 11, 64)        18496     \n",
      "_________________________________________________________________\n",
      "max_pooling2d_3 (MaxPooling2 (None, 5, 5, 64)          0         \n",
      "_________________________________________________________________\n",
      "flatten_1 (Flatten)          (None, 1600)              0         \n",
      "_________________________________________________________________\n",
      "dropout_1 (Dropout)          (None, 1600)              0         \n",
      "_________________________________________________________________\n",
      "dense_1 (Dense)              (None, 10)                16010     \n",
      "=================================================================\n",
      "Total params: 34,826\n",
      "Trainable params: 34,826\n",
      "Non-trainable params: 0\n",
      "_________________________________________________________________\n"
     ]
    }
   ],
   "source": [
    "model = keras.Sequential(\n",
    "    [\n",
    "        keras.Input(shape=(28, 28, 1)),\n",
    "        keras.layers.Conv2D(32, kernel_size=(3, 3), activation=\"relu\"),\n",
    "        keras.layers.MaxPooling2D(pool_size=(2, 2)),\n",
    "        keras.layers.Conv2D(64, kernel_size=(3, 3), activation=\"relu\"),\n",
    "        keras.layers.MaxPooling2D(pool_size=(2, 2)),\n",
    "        keras.layers.Flatten(),\n",
    "        keras.layers.Dropout(0.5),\n",
    "        keras.layers.Dense(10, activation=\"softmax\"),\n",
    "    ]\n",
    ")\n",
    "model.compile(optimizer='Adam', loss='categorical_crossentropy', metrics='acc')\n",
    "model.summary()"
   ]
  },
  {
   "cell_type": "code",
   "execution_count": 38,
   "metadata": {},
   "outputs": [
    {
     "name": "stdout",
     "output_type": "stream",
     "text": [
      "Epoch 1/20\n",
      "2/2 [==============================] - 0s 158ms/step - loss: 2.3172 - acc: 0.1300 - val_loss: 2.2661 - val_acc: 0.1400\n",
      "Epoch 2/20\n",
      "2/2 [==============================] - 0s 93ms/step - loss: 2.2183 - acc: 0.2500 - val_loss: 2.1870 - val_acc: 0.3800\n",
      "Epoch 3/20\n",
      "2/2 [==============================] - 0s 87ms/step - loss: 2.1560 - acc: 0.3200 - val_loss: 2.1011 - val_acc: 0.5200\n",
      "Epoch 4/20\n",
      "2/2 [==============================] - 0s 82ms/step - loss: 2.0432 - acc: 0.4520 - val_loss: 2.0014 - val_acc: 0.5800\n",
      "Epoch 5/20\n",
      "2/2 [==============================] - 0s 80ms/step - loss: 1.9560 - acc: 0.5060 - val_loss: 1.8822 - val_acc: 0.7200\n",
      "Epoch 6/20\n",
      "2/2 [==============================] - 0s 87ms/step - loss: 1.8499 - acc: 0.5760 - val_loss: 1.7391 - val_acc: 0.7800\n",
      "Epoch 7/20\n",
      "2/2 [==============================] - 0s 83ms/step - loss: 1.7181 - acc: 0.6240 - val_loss: 1.5764 - val_acc: 0.8400\n",
      "Epoch 8/20\n",
      "2/2 [==============================] - 0s 83ms/step - loss: 1.5413 - acc: 0.6840 - val_loss: 1.4053 - val_acc: 0.8800\n",
      "Epoch 9/20\n",
      "2/2 [==============================] - 0s 83ms/step - loss: 1.3894 - acc: 0.7100 - val_loss: 1.2376 - val_acc: 0.8800\n",
      "Epoch 10/20\n",
      "2/2 [==============================] - 0s 86ms/step - loss: 1.2258 - acc: 0.7300 - val_loss: 1.0760 - val_acc: 0.8800\n",
      "Epoch 11/20\n",
      "2/2 [==============================] - 0s 81ms/step - loss: 1.0655 - acc: 0.7600 - val_loss: 0.9249 - val_acc: 0.8800\n",
      "Epoch 12/20\n",
      "2/2 [==============================] - 0s 82ms/step - loss: 0.9385 - acc: 0.7820 - val_loss: 0.7885 - val_acc: 0.8800\n",
      "Epoch 13/20\n",
      "2/2 [==============================] - 0s 85ms/step - loss: 0.8424 - acc: 0.7660 - val_loss: 0.6785 - val_acc: 0.8800\n",
      "Epoch 14/20\n",
      "2/2 [==============================] - 0s 81ms/step - loss: 0.7243 - acc: 0.8160 - val_loss: 0.5970 - val_acc: 0.8800\n",
      "Epoch 15/20\n",
      "2/2 [==============================] - 0s 83ms/step - loss: 0.6407 - acc: 0.8060 - val_loss: 0.5341 - val_acc: 0.8800\n",
      "Epoch 16/20\n",
      "2/2 [==============================] - 0s 87ms/step - loss: 0.6013 - acc: 0.8300 - val_loss: 0.4838 - val_acc: 0.8800\n",
      "Epoch 17/20\n",
      "2/2 [==============================] - 0s 81ms/step - loss: 0.5727 - acc: 0.8400 - val_loss: 0.4419 - val_acc: 0.8800\n",
      "Epoch 18/20\n",
      "2/2 [==============================] - 0s 94ms/step - loss: 0.5518 - acc: 0.8400 - val_loss: 0.4091 - val_acc: 0.8800\n",
      "Epoch 19/20\n",
      "2/2 [==============================] - 0s 110ms/step - loss: 0.4896 - acc: 0.8580 - val_loss: 0.3896 - val_acc: 0.8600\n",
      "Epoch 20/20\n",
      "2/2 [==============================] - 0s 103ms/step - loss: 0.4466 - acc: 0.8640 - val_loss: 0.3909 - val_acc: 0.8600\n"
     ]
    }
   ],
   "source": [
    "history = model.fit(X, Y_enc, epochs=20, batch_size=256, validation_data=(X_test, Y_test_enc))"
   ]
  },
  {
   "cell_type": "code",
   "execution_count": 39,
   "metadata": {},
   "outputs": [
    {
     "data": {
      "image/png": "[encoded data removed]",
      "text/plain": [
       "<Figure size 432x288 with 1 Axes>"
      ]
     },
     "metadata": {
      "needs_background": "light"
     },
     "output_type": "display_data"
    }
   ],
   "source": [
    "def visualize_loss(history, title):\n",
    "    loss = history.history[\"loss\"]\n",
    "    val_loss = history.history[\"val_loss\"]\n",
    "    epochs = range(len(loss))\n",
    "    plt.figure()\n",
    "    plt.plot(epochs, loss, \"b\", label=\"Training loss\")\n",
    "    plt.plot(epochs, val_loss, \"r\", label=\"Validation loss\")\n",
    "    plt.title(title)\n",
    "    plt.xlabel(\"Epochs\")\n",
    "    plt.ylabel(\"Loss\")\n",
    "    plt.legend()\n",
    "    plt.show()\n",
    "\n",
    "\n",
    "visualize_loss(history, \"Training and Validation Loss\")"
   ]
  },
  {
   "cell_type": "code",
   "execution_count": 40,
   "metadata": {},
   "outputs": [
    {
     "data": {
      "image/png": "[encoded data removed]",
      "text/plain": [
       "<Figure size 432x288 with 1 Axes>"
      ]
     },
     "metadata": {
      "needs_background": "light"
     },
     "output_type": "display_data"
    }
   ],
   "source": [
    "def visualize_loss(history, title):\n",
    "    loss = history.history[\"acc\"]\n",
    "    val_loss = history.history[\"val_acc\"]\n",
    "    epochs = range(len(loss))\n",
    "    plt.figure()\n",
    "    plt.plot(epochs, loss, \"b\", label=\"Training acc\")\n",
    "    plt.plot(epochs, val_loss, \"r\", label=\"Validation acc\")\n",
    "    plt.title(title)\n",
    "    plt.xlabel(\"Epochs\")\n",
    "    plt.ylabel(\"accuracy\")\n",
    "    plt.legend()\n",
    "    plt.show()\n",
    "\n",
    "\n",
    "visualize_loss(history, \"Training and Validation accuracy\")"
   ]
  },
  {
   "cell_type": "code",
   "execution_count": 41,
   "metadata": {},
   "outputs": [],
   "source": [
    "X_not_labeled = train_x[number_of_training_data:] / 255\n",
    "X_not_labeled = X_not_labeled.reshape(-1, 28, 28, 1)\n",
    "Y_not_labeled = train_y[number_of_training_data:]\n"
   ]
  },
  {
   "cell_type": "code",
   "execution_count": 42,
   "metadata": {},
   "outputs": [
    {
     "name": "stdout",
     "output_type": "stream",
     "text": [
      "(59500, 10)\n"
     ]
    }
   ],
   "source": [
    "y_pred = model.predict(X_not_labeled)\n",
    "print(y_pred.shape)"
   ]
  },
  {
   "cell_type": "code",
   "execution_count": 43,
   "metadata": {},
   "outputs": [
    {
     "name": "stdout",
     "output_type": "stream",
     "text": [
      "accuracy on unseen data :  81.47563025210084\n"
     ]
    }
   ],
   "source": [
    "y_pred_ = np.argmax(y_pred, axis=1)\n",
    "print(\"accuracy on unseen data : \", (np.sum(y_pred_ == Y_not_labeled) / len(Y_not_labeled))*100)"
   ]
  },
  {
   "cell_type": "code",
   "execution_count": 44,
   "metadata": {},
   "outputs": [
    {
     "name": "stdout",
     "output_type": "stream",
     "text": [
      "[7 8 8 8 3 7 2 1 1 8]\n"
     ]
    }
   ],
   "source": [
    "print(np.argmax(y_pred[:10], axis=1))\n",
    "li = np.argmax(y_pred[:10], axis=1)"
   ]
  },
  {
   "cell_type": "code",
   "execution_count": 45,
   "metadata": {},
   "outputs": [
    {
     "name": "stdout",
     "output_type": "stream",
     "text": [
      "low confidence: 0.8279579877853394, prediction: 7, true: 3,\n",
      "low confidence: 0.6358433961868286, prediction: 8, true: 9,\n",
      "low confidence: 0.29702797532081604, prediction: 8, true: 5,\n",
      "low confidence: 0.7320128679275513, prediction: 8, true: 8,\n",
      "low confidence: 0.8257227540016174, prediction: 3, true: 5,\n",
      "high confidence: 0.9939318895339966, prediction: 7, true: 7,\n",
      "low confidence: 0.391191691160202, prediction: 2, true: 6,\n",
      "low confidence: 0.8571775555610657, prediction: 1, true: 1,\n",
      "low confidence: 0.5430150032043457, prediction: 1, true: 1,\n",
      "low confidence: 0.5214448571205139, prediction: 8, true: 3,\n"
     ]
    }
   ],
   "source": [
    "i = 0\n",
    "confidence_threshold = 0.9\n",
    "for elem in li:\n",
    "    if y_pred[i, elem] >= confidence_threshold:\n",
    "        print(\"high confidence: {}, prediction: {}, true: {},\".format(y_pred[i, elem], elem, Y_not_labeled[i]))\n",
    "    else:\n",
    "        print(\"low confidence: {}, prediction: {}, true: {},\".format(y_pred[i, elem], elem, Y_not_labeled[i]))\n",
    "    i+=1"
   ]
  },
  {
   "cell_type": "code",
   "execution_count": 46,
   "metadata": {},
   "outputs": [
    {
     "name": "stdout",
     "output_type": "stream",
     "text": [
      "(59500,)\n"
     ]
    }
   ],
   "source": [
    "max_pred = np.max(y_pred, axis=1)\n",
    "print(max_pred.shape)"
   ]
  },
  {
   "cell_type": "code",
   "execution_count": 47,
   "metadata": {},
   "outputs": [
    {
     "data": {
      "image/png": "[encoded data removed]",
      "text/plain": [
       "<Figure size 432x288 with 1 Axes>"
      ]
     },
     "metadata": {
      "needs_background": "light"
     },
     "output_type": "display_data"
    }
   ],
   "source": [
    "plt.hist(max_pred, bins = [0.0, 0.1, 0.2, 0.3, 0.4, 0.5, 0.6, 0.7, 0.8, 0.9, 1.0])\n",
    "plt.show()"
   ]
  },
  {
   "cell_type": "code",
   "execution_count": 48,
   "metadata": {},
   "outputs": [],
   "source": [
    "# more than 0.9 confidence\n",
    "y_pred_high_confidence = []\n",
    "new_y_not_labeled = []\n",
    "arg_y_pred = np.argmax(y_pred, axis=1)\n",
    "for i, arg in enumerate(arg_y_pred):\n",
    "    if y_pred[i, arg] > 0.9:\n",
    "        y_pred_high_confidence.append(arg)\n",
    "        new_y_not_labeled.append(Y_not_labeled[i])\n",
    "    else:\n",
    "        y_pred_high_confidence.append(-1)\n",
    "        new_y_not_labeled.append(-1)"
   ]
  },
  {
   "cell_type": "code",
   "execution_count": 49,
   "metadata": {},
   "outputs": [
    {
     "name": "stdout",
     "output_type": "stream",
     "text": [
      "accuracy on unseen data using predictions with high confidence :  99.21344537815126\n"
     ]
    }
   ],
   "source": [
    "print(\"accuracy on unseen data using predictions with high confidence : \",\n",
    "      (np.sum(np.array(y_pred_high_confidence) == np.array(new_y_not_labeled)) / len(new_y_not_labeled))*100)"
   ]
  },
  {
   "cell_type": "code",
   "execution_count": 50,
   "metadata": {},
   "outputs": [
    {
     "name": "stdout",
     "output_type": "stream",
     "text": [
      "[-1, -1, -1, -1, -1, 7, -1, -1, -1, -1]\n",
      "[-1, -1, -1, -1, -1, 7, -1, -1, -1, -1]\n"
     ]
    }
   ],
   "source": [
    "print(new_y_not_labeled[:10])\n",
    "print(y_pred_high_confidence[:10])"
   ]
  },
  {
   "cell_type": "code",
   "execution_count": 52,
   "metadata": {},
   "outputs": [
    {
     "name": "stdout",
     "output_type": "stream",
     "text": [
      "27158 new labeled samples of 59500\n"
     ]
    }
   ],
   "source": [
    "# number of new labeled data\n",
    "nb_new_labeled = [1 if i>=0 else 0 for i in y_pred_high_confidence]\n",
    "print(\"{} new labeled samples of {}\".format(np.sum(nb_new_labeled), len(nb_new_labeled)))"
   ]
  },
  {
   "cell_type": "markdown",
   "metadata": {},
   "source": [
    "### Repeat the process with the new labels (with high confidence) and manually label data with low confidence"
   ]
  },
  {
   "cell_type": "code",
   "execution_count": null,
   "metadata": {},
   "outputs": [],
   "source": []
  }
 ],
 "metadata": {
  "kernelspec": {
   "display_name": "Python 3",
   "language": "python",
   "name": "python3"
  },
  "language_info": {
   "codemirror_mode": {
    "name": "ipython",
    "version": 3
   },
   "file_extension": ".py",
   "mimetype": "text/x-python",
   "name": "python",
   "nbconvert_exporter": "python",
   "pygments_lexer": "ipython3",
   "version": "3.8.5"
  }
 },
 "nbformat": 4,
 "nbformat_minor": 4
}
