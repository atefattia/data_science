{
 "cells": [
  {
   "cell_type": "markdown",
   "metadata": {},
   "source": [
    "### Active learning with the MNIST dataset"
   ]
  },
  {
   "cell_type": "code",
   "execution_count": 122,
   "metadata": {},
   "outputs": [],
   "source": [
    "import numpy as np\n",
    "import matplotlib.pyplot as plt\n",
    "import tensorflow as tf\n",
    "from tensorflow import keras\n",
    "number_of_training_data = 1000\n",
    "number_of_test_data = 100"
   ]
  },
  {
   "cell_type": "code",
   "execution_count": 123,
   "metadata": {},
   "outputs": [],
   "source": [
    "(train_x, train_y), (test_x, test_y) = tf.keras.datasets.mnist.load_data(path=\"mnist.npz\")"
   ]
  },
  {
   "cell_type": "code",
   "execution_count": 124,
   "metadata": {},
   "outputs": [
    {
     "name": "stdout",
     "output_type": "stream",
     "text": [
      "train_x shape :  (60000, 28, 28)\n",
      "train_y shape :  (60000,)\n",
      "test_x shape :  (10000, 28, 28)\n",
      "test_y shape :  (10000,)\n"
     ]
    }
   ],
   "source": [
    "print(\"train_x shape : \", train_x.shape)\n",
    "print(\"train_y shape : \", train_y.shape)\n",
    "print(\"test_x shape : \", test_x.shape)\n",
    "print(\"test_y shape : \", test_y.shape)"
   ]
  },
  {
   "cell_type": "code",
   "execution_count": 125,
   "metadata": {},
   "outputs": [
    {
     "data": {
      "image/png": "[encoded data removed]",
      "text/plain": [
       "<Figure size 432x288 with 1 Axes>"
      ]
     },
     "metadata": {
      "needs_background": "light"
     },
     "output_type": "display_data"
    }
   ],
   "source": [
    "plt.imshow(train_x[0])\n",
    "plt.title(train_y[0])\n",
    "plt.show()"
   ]
  },
  {
   "cell_type": "markdown",
   "metadata": {},
   "source": [
    "### Use a subset of the MNIST dataset (1000) and normalize:"
   ]
  },
  {
   "cell_type": "code",
   "execution_count": 126,
   "metadata": {},
   "outputs": [
    {
     "name": "stdout",
     "output_type": "stream",
     "text": [
      "X shape :  (1000, 28, 28)\n",
      "Y shape :  (1000,)\n",
      "X_test shape :  (100, 28, 28)\n",
      "Y_test shape :  (100,)\n"
     ]
    }
   ],
   "source": [
    "X = train_x[:number_of_training_data] / 255\n",
    "Y = train_y[:number_of_training_data]\n",
    "X_test = test_x[:number_of_test_data] / 255\n",
    "Y_test = test_y[:number_of_test_data]\n",
    "\n",
    "print(\"X shape : \", X.shape)\n",
    "print(\"Y shape : \", Y.shape)\n",
    "print(\"X_test shape : \", X_test.shape)\n",
    "print(\"Y_test shape : \", Y_test.shape)"
   ]
  },
  {
   "cell_type": "code",
   "execution_count": 127,
   "metadata": {},
   "outputs": [
    {
     "data": {
      "image/png": "[encoded data removed]",
      "text/plain": [
       "<Figure size 432x288 with 1 Axes>"
      ]
     },
     "metadata": {
      "needs_background": "light"
     },
     "output_type": "display_data"
    }
   ],
   "source": [
    "plt.imshow(X[10])\n",
    "plt.title(Y[10])\n",
    "plt.show()"
   ]
  },
  {
   "cell_type": "markdown",
   "metadata": {},
   "source": [
    "### Plot distribution of the subset:"
   ]
  },
  {
   "cell_type": "code",
   "execution_count": 128,
   "metadata": {},
   "outputs": [
    {
     "name": "stdout",
     "output_type": "stream",
     "text": [
      "[97, 116, 99, 93, 105, 92, 94, 117, 87, 100]\n"
     ]
    }
   ],
   "source": [
    "count_labels = [len(Y[Y==label]) for label in np.unique(Y)]\n",
    "print(count_labels)"
   ]
  },
  {
   "cell_type": "code",
   "execution_count": 129,
   "metadata": {},
   "outputs": [
    {
     "data": {
      "image/png": "[encoded data removed]",
      "text/plain": [
       "<Figure size 432x288 with 1 Axes>"
      ]
     },
     "metadata": {
      "needs_background": "light"
     },
     "output_type": "display_data"
    }
   ],
   "source": [
    "fig = plt.figure()\n",
    "ax = fig.add_axes([0,0,1,1])\n",
    "ax.bar(np.unique(Y),count_labels)\n",
    "plt.xlabel('labels')\n",
    "plt.ylabel('number of elements')\n",
    "plt.show()"
   ]
  },
  {
   "cell_type": "markdown",
   "metadata": {},
   "source": [
    "### Prepare data and build model:"
   ]
  },
  {
   "cell_type": "code",
   "execution_count": 147,
   "metadata": {},
   "outputs": [
    {
     "name": "stdout",
     "output_type": "stream",
     "text": [
      "(1000, 10)\n",
      "(100, 10)\n"
     ]
    }
   ],
   "source": [
    "# one hot encoding\n",
    "Y_enc = np.zeros((len(Y), 10), dtype='int')\n",
    "print(Y_enc.shape)\n",
    "for i, y in enumerate(Y):\n",
    "    Y_enc[i, y] = 1\n",
    "    \n",
    "Y_test_enc = np.zeros((len(Y_test), 10), dtype='int')\n",
    "print(Y_test_enc.shape)\n",
    "for i, y in enumerate(Y_test):\n",
    "    Y_test_enc[i, y] = 1"
   ]
  },
  {
   "cell_type": "code",
   "execution_count": 131,
   "metadata": {},
   "outputs": [
    {
     "name": "stdout",
     "output_type": "stream",
     "text": [
      "(1000, 28, 28, 1)\n",
      "(100, 28, 28, 1)\n"
     ]
    }
   ],
   "source": [
    "X = X.reshape(-1, 28, 28, 1)\n",
    "print(X.shape)\n",
    "X_test = X_test.reshape(-1, 28, 28, 1)\n",
    "print(X_test.shape)"
   ]
  },
  {
   "cell_type": "code",
   "execution_count": 132,
   "metadata": {},
   "outputs": [
    {
     "name": "stdout",
     "output_type": "stream",
     "text": [
      "Model: \"sequential_8\"\n",
      "_________________________________________________________________\n",
      "Layer (type)                 Output Shape              Param #   \n",
      "=================================================================\n",
      "conv2d_16 (Conv2D)           (None, 26, 26, 32)        320       \n",
      "_________________________________________________________________\n",
      "max_pooling2d_16 (MaxPooling (None, 13, 13, 32)        0         \n",
      "_________________________________________________________________\n",
      "conv2d_17 (Conv2D)           (None, 11, 11, 64)        18496     \n",
      "_________________________________________________________________\n",
      "max_pooling2d_17 (MaxPooling (None, 5, 5, 64)          0         \n",
      "_________________________________________________________________\n",
      "flatten_8 (Flatten)          (None, 1600)              0         \n",
      "_________________________________________________________________\n",
      "dropout_8 (Dropout)          (None, 1600)              0         \n",
      "_________________________________________________________________\n",
      "dense_8 (Dense)              (None, 10)                16010     \n",
      "=================================================================\n",
      "Total params: 34,826\n",
      "Trainable params: 34,826\n",
      "Non-trainable params: 0\n",
      "_________________________________________________________________\n"
     ]
    }
   ],
   "source": [
    "model = keras.Sequential(\n",
    "    [\n",
    "        keras.Input(shape=(28, 28, 1)),\n",
    "        keras.layers.Conv2D(32, kernel_size=(3, 3), activation=\"relu\"),\n",
    "        keras.layers.MaxPooling2D(pool_size=(2, 2)),\n",
    "        keras.layers.Conv2D(64, kernel_size=(3, 3), activation=\"relu\"),\n",
    "        keras.layers.MaxPooling2D(pool_size=(2, 2)),\n",
    "        keras.layers.Flatten(),\n",
    "        keras.layers.Dropout(0.5),\n",
    "        keras.layers.Dense(10, activation=\"softmax\"),\n",
    "    ]\n",
    ")\n",
    "model.compile(optimizer='Adam', loss='binary_crossentropy', metrics='acc')\n",
    "model.summary()"
   ]
  },
  {
   "cell_type": "code",
   "execution_count": 133,
   "metadata": {},
   "outputs": [
    {
     "name": "stdout",
     "output_type": "stream",
     "text": [
      "Epoch 1/20\n",
      "4/4 [==============================] - 1s 181ms/step - loss: 0.6653 - acc: 0.0913 - val_loss: 0.5269 - val_acc: 0.1400\n",
      "Epoch 2/20\n",
      "4/4 [==============================] - 1s 136ms/step - loss: 0.4811 - acc: 0.1220 - val_loss: 0.3544 - val_acc: 0.1400\n",
      "Epoch 3/20\n",
      "4/4 [==============================] - 0s 121ms/step - loss: 0.3452 - acc: 0.1149 - val_loss: 0.3533 - val_acc: 0.2100\n",
      "Epoch 4/20\n",
      "4/4 [==============================] - 1s 129ms/step - loss: 0.3652 - acc: 0.1402 - val_loss: 0.3470 - val_acc: 0.2700\n",
      "Epoch 5/20\n",
      "4/4 [==============================] - 0s 123ms/step - loss: 0.3477 - acc: 0.1942 - val_loss: 0.3138 - val_acc: 0.3800\n",
      "Epoch 6/20\n",
      "4/4 [==============================] - 0s 124ms/step - loss: 0.3179 - acc: 0.2652 - val_loss: 0.3136 - val_acc: 0.4800\n",
      "Epoch 7/20\n",
      "4/4 [==============================] - 1s 131ms/step - loss: 0.3161 - acc: 0.3230 - val_loss: 0.3107 - val_acc: 0.5600\n",
      "Epoch 8/20\n",
      "4/4 [==============================] - 0s 123ms/step - loss: 0.3100 - acc: 0.3788 - val_loss: 0.2939 - val_acc: 0.5900\n",
      "Epoch 9/20\n",
      "4/4 [==============================] - 0s 122ms/step - loss: 0.2960 - acc: 0.4476 - val_loss: 0.2823 - val_acc: 0.6600\n",
      "Epoch 10/20\n",
      "4/4 [==============================] - 0s 122ms/step - loss: 0.2877 - acc: 0.5037 - val_loss: 0.2735 - val_acc: 0.6600\n",
      "Epoch 11/20\n",
      "4/4 [==============================] - 0s 122ms/step - loss: 0.2777 - acc: 0.5477 - val_loss: 0.2606 - val_acc: 0.6600\n",
      "Epoch 12/20\n",
      "4/4 [==============================] - 0s 123ms/step - loss: 0.2650 - acc: 0.5818 - val_loss: 0.2480 - val_acc: 0.6800\n",
      "Epoch 13/20\n",
      "4/4 [==============================] - 0s 123ms/step - loss: 0.2481 - acc: 0.6491 - val_loss: 0.2326 - val_acc: 0.7100\n",
      "Epoch 14/20\n",
      "4/4 [==============================] - 1s 131ms/step - loss: 0.2369 - acc: 0.6552 - val_loss: 0.2142 - val_acc: 0.7500\n",
      "Epoch 15/20\n",
      "4/4 [==============================] - 1s 123ms/step - loss: 0.2193 - acc: 0.6971 - val_loss: 0.1956 - val_acc: 0.7800\n",
      "Epoch 16/20\n",
      "4/4 [==============================] - 0s 124ms/step - loss: 0.2001 - acc: 0.7332 - val_loss: 0.1776 - val_acc: 0.8000\n",
      "Epoch 17/20\n",
      "4/4 [==============================] - 0s 123ms/step - loss: 0.1812 - acc: 0.7615 - val_loss: 0.1611 - val_acc: 0.7900\n",
      "Epoch 18/20\n",
      "4/4 [==============================] - 0s 124ms/step - loss: 0.1663 - acc: 0.7702 - val_loss: 0.1464 - val_acc: 0.8100\n",
      "Epoch 19/20\n",
      "4/4 [==============================] - 0s 124ms/step - loss: 0.1473 - acc: 0.7940 - val_loss: 0.1353 - val_acc: 0.8400\n",
      "Epoch 20/20\n",
      "4/4 [==============================] - 0s 123ms/step - loss: 0.1401 - acc: 0.7895 - val_loss: 0.1259 - val_acc: 0.8400\n"
     ]
    }
   ],
   "source": [
    "history = model.fit(X, Y_enc, epochs=20, batch_size=256, validation_data=(X_test, Y_test_enc))"
   ]
  },
  {
   "cell_type": "code",
   "execution_count": 134,
   "metadata": {},
   "outputs": [
    {
     "data": {
      "image/png": "[encoded data removed]",
      "text/plain": [
       "<Figure size 432x288 with 1 Axes>"
      ]
     },
     "metadata": {
      "needs_background": "light"
     },
     "output_type": "display_data"
    }
   ],
   "source": [
    "def visualize_loss(history, title):\n",
    "    loss = history.history[\"loss\"]\n",
    "    val_loss = history.history[\"val_loss\"]\n",
    "    epochs = range(len(loss))\n",
    "    plt.figure()\n",
    "    plt.plot(epochs, loss, \"b\", label=\"Training loss\")\n",
    "    plt.plot(epochs, val_loss, \"r\", label=\"Validation loss\")\n",
    "    plt.title(title)\n",
    "    plt.xlabel(\"Epochs\")\n",
    "    plt.ylabel(\"Loss\")\n",
    "    plt.legend()\n",
    "    plt.show()\n",
    "\n",
    "\n",
    "visualize_loss(history, \"Training and Validation Loss\")"
   ]
  },
  {
   "cell_type": "code",
   "execution_count": 135,
   "metadata": {},
   "outputs": [
    {
     "data": {
      "image/png": "[encoded data removed]",
      "text/plain": [
       "<Figure size 432x288 with 1 Axes>"
      ]
     },
     "metadata": {
      "needs_background": "light"
     },
     "output_type": "display_data"
    }
   ],
   "source": [
    "def visualize_loss(history, title):\n",
    "    loss = history.history[\"acc\"]\n",
    "    val_loss = history.history[\"val_acc\"]\n",
    "    epochs = range(len(loss))\n",
    "    plt.figure()\n",
    "    plt.plot(epochs, loss, \"b\", label=\"Training acc\")\n",
    "    plt.plot(epochs, val_loss, \"r\", label=\"Validation acc\")\n",
    "    plt.title(title)\n",
    "    plt.xlabel(\"Epochs\")\n",
    "    plt.ylabel(\"accuracy\")\n",
    "    plt.legend()\n",
    "    plt.show()\n",
    "\n",
    "\n",
    "visualize_loss(history, \"Training and Validation accuracy\")"
   ]
  },
  {
   "cell_type": "code",
   "execution_count": 136,
   "metadata": {},
   "outputs": [],
   "source": [
    "X_not_labeled = train_x[number_of_training_data:] / 255\n",
    "X_not_labeled = X_not_labeled.reshape(-1, 28, 28, 1)\n",
    "Y_not_labeled = train_y[number_of_training_data:]\n"
   ]
  },
  {
   "cell_type": "code",
   "execution_count": 137,
   "metadata": {},
   "outputs": [
    {
     "name": "stdout",
     "output_type": "stream",
     "text": [
      "(59000, 10)\n"
     ]
    }
   ],
   "source": [
    "y_pred = model.predict(X_not_labeled)\n",
    "print(y_pred.shape)"
   ]
  },
  {
   "cell_type": "code",
   "execution_count": 138,
   "metadata": {},
   "outputs": [
    {
     "name": "stdout",
     "output_type": "stream",
     "text": [
      "accuracy on unseen data :  82.56949152542373\n"
     ]
    }
   ],
   "source": [
    "y_pred_ = np.argmax(y_pred, axis=1)\n",
    "print(\"accuracy on unseen data : \", (np.sum(y_pred_ == Y_not_labeled) / len(Y_not_labeled))*100)"
   ]
  },
  {
   "cell_type": "code",
   "execution_count": 151,
   "metadata": {},
   "outputs": [
    {
     "name": "stdout",
     "output_type": "stream",
     "text": [
      "[0 7 1 1 9 4 4 9 4 8]\n"
     ]
    }
   ],
   "source": [
    "print(np.argmax(y_pred[:10], axis=1))\n",
    "li = np.argmax(y_pred[:10], axis=1)"
   ]
  },
  {
   "cell_type": "code",
   "execution_count": 152,
   "metadata": {},
   "outputs": [
    {
     "name": "stdout",
     "output_type": "stream",
     "text": [
      "low confidence: 0.7775964736938477, prediction: 0, true: 0,\n",
      "low confidence: 0.8976605534553528, prediction: 7, true: 7,\n",
      "high confidence: 0.9183861613273621, prediction: 1, true: 1,\n",
      "low confidence: 0.8685340881347656, prediction: 1, true: 1,\n",
      "low confidence: 0.43467244505882263, prediction: 9, true: 4,\n",
      "low confidence: 0.5909554362297058, prediction: 4, true: 9,\n",
      "low confidence: 0.5648347735404968, prediction: 4, true: 4,\n",
      "low confidence: 0.5159052014350891, prediction: 9, true: 3,\n",
      "high confidence: 0.97462397813797, prediction: 4, true: 4,\n",
      "low confidence: 0.44397416710853577, prediction: 8, true: 8,\n"
     ]
    }
   ],
   "source": [
    "i = 0\n",
    "confidence_threshold = 0.9\n",
    "for elem in li:\n",
    "    if y_pred[i, elem] >= confidence_threshold:\n",
    "        print(\"high confidence: {}, prediction: {}, true: {},\".format(y_pred[i, elem], elem, Y_not_labeled[i]))\n",
    "    else:\n",
    "        print(\"low confidence: {}, prediction: {}, true: {},\".format(y_pred[i, elem], elem, Y_not_labeled[i]))\n",
    "    i+=1"
   ]
  },
  {
   "cell_type": "code",
   "execution_count": 153,
   "metadata": {},
   "outputs": [
    {
     "name": "stdout",
     "output_type": "stream",
     "text": [
      "(59000,)\n"
     ]
    }
   ],
   "source": [
    "max_pred = np.max(y_pred, axis=1)\n",
    "print(max_pred.shape)"
   ]
  },
  {
   "cell_type": "code",
   "execution_count": 154,
   "metadata": {},
   "outputs": [
    {
     "data": {
      "image/png": "[encoded data removed]",
      "text/plain": [
       "<Figure size 432x288 with 1 Axes>"
      ]
     },
     "metadata": {
      "needs_background": "light"
     },
     "output_type": "display_data"
    }
   ],
   "source": [
    "plt.hist(max_pred, bins = [0.0, 0.1, 0.2, 0.3, 0.4, 0.5, 0.6, 0.7, 0.8, 0.9, 1.0])\n",
    "plt.show()"
   ]
  },
  {
   "cell_type": "code",
   "execution_count": 155,
   "metadata": {},
   "outputs": [],
   "source": [
    "# more than 0.8 confidence\n",
    "y_pred_high_confidence = []\n",
    "new_y_not_labeled = []\n",
    "arg_y_pred = np.argmax(y_pred, axis=1)\n",
    "for i, arg in enumerate(arg_y_pred):\n",
    "    if y_pred[i, arg] > 0.9:\n",
    "        y_pred_high_confidence.append(arg)\n",
    "        new_y_not_labeled.append(Y_not_labeled[i])\n",
    "    else:\n",
    "        y_pred_high_confidence.append(-1)\n",
    "        new_y_not_labeled.append(-1)"
   ]
  },
  {
   "cell_type": "code",
   "execution_count": 156,
   "metadata": {},
   "outputs": [
    {
     "name": "stdout",
     "output_type": "stream",
     "text": [
      "accuracy on unseen data using predictions with high confidence :  99.7457627118644\n"
     ]
    }
   ],
   "source": [
    "print(\"accuracy on unseen data using predictions with high confidence : \",\n",
    "      (np.sum(np.array(y_pred_high_confidence) == np.array(new_y_not_labeled)) / len(new_y_not_labeled))*100)"
   ]
  },
  {
   "cell_type": "code",
   "execution_count": 157,
   "metadata": {},
   "outputs": [
    {
     "name": "stdout",
     "output_type": "stream",
     "text": [
      "[-1, -1, 1, -1, -1, -1, -1, -1, 4, -1]\n",
      "[-1, -1, 1, -1, -1, -1, -1, -1, 4, -1]\n"
     ]
    }
   ],
   "source": [
    "print(new_y_not_labeled[:10])\n",
    "print(y_pred_high_confidence[:10])"
   ]
  },
  {
   "cell_type": "code",
   "execution_count": 163,
   "metadata": {},
   "outputs": [
    {
     "name": "stdout",
     "output_type": "stream",
     "text": [
      "20643 new labeled samples of 59000\n"
     ]
    }
   ],
   "source": [
    "# number of new labeled data\n",
    "nb_new_labeled = [1 if i>=0 else 0 for i in y_pred_high_confidence]\n",
    "print(\"{} new labeled samples of {}\".format(np.sum(nb_new_labeled), len(nb_new_labeled)))"
   ]
  },
  {
   "cell_type": "markdown",
   "metadata": {},
   "source": [
    "### Repeat the process with the new labels (with high confidence) and manually label data with low confidence"
   ]
  },
  {
   "cell_type": "code",
   "execution_count": null,
   "metadata": {},
   "outputs": [],
   "source": []
  }
 ],
 "metadata": {
  "kernelspec": {
   "display_name": "conda_amazonei_tensorflow2_p36",
   "language": "python",
   "name": "conda_amazonei_tensorflow2_p36"
  },
  "language_info": {
   "codemirror_mode": {
    "name": "ipython",
    "version": 3
   },
   "file_extension": ".py",
   "mimetype": "text/x-python",
   "name": "python",
   "nbconvert_exporter": "python",
   "pygments_lexer": "ipython3",
   "version": "3.6.10"
  }
 },
 "nbformat": 4,
 "nbformat_minor": 4
}
