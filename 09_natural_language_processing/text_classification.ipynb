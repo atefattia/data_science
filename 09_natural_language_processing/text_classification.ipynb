{
 "cells": [
  {
   "cell_type": "markdown",
   "metadata": {},
   "source": [
    "### Import packages"
   ]
  },
  {
   "cell_type": "code",
   "execution_count": 25,
   "metadata": {},
   "outputs": [],
   "source": [
    "import numpy as np\n",
    "import pandas as pd \n",
    "import matplotlib.pyplot as plt\n",
    "import tensorflow as tf\n",
    "from tensorflow import keras\n",
    "from sklearn.model_selection import train_test_split\n",
    "import pickle"
   ]
  },
  {
   "cell_type": "markdown",
   "metadata": {},
   "source": [
    "### Data exploration"
   ]
  },
  {
   "cell_type": "code",
   "execution_count": 26,
   "metadata": {},
   "outputs": [
    {
     "data": {
      "text/html": [
       "<div>\n",
       "<style scoped>\n",
       "    .dataframe tbody tr th:only-of-type {\n",
       "        vertical-align: middle;\n",
       "    }\n",
       "\n",
       "    .dataframe tbody tr th {\n",
       "        vertical-align: top;\n",
       "    }\n",
       "\n",
       "    .dataframe thead th {\n",
       "        text-align: right;\n",
       "    }\n",
       "</style>\n",
       "<table border=\"1\" class=\"dataframe\">\n",
       "  <thead>\n",
       "    <tr style=\"text-align: right;\">\n",
       "      <th></th>\n",
       "      <th>Unnamed: 0</th>\n",
       "      <th>date</th>\n",
       "      <th>category</th>\n",
       "      <th>text</th>\n",
       "    </tr>\n",
       "  </thead>\n",
       "  <tbody>\n",
       "    <tr>\n",
       "      <th>0</th>\n",
       "      <td>0</td>\n",
       "      <td>2016-01-04 05:30:00.000000</td>\n",
       "      <td>Wirtschaft</td>\n",
       "      <td>Der Kampf gegen die Steuerflucht steht 2016 im...</td>\n",
       "    </tr>\n",
       "    <tr>\n",
       "      <th>1</th>\n",
       "      <td>1</td>\n",
       "      <td>2015-07-02 07:08:55.000000</td>\n",
       "      <td>Wirtschaft</td>\n",
       "      <td>Der Volltext dieses auf Agenturmeldungen basie...</td>\n",
       "    </tr>\n",
       "    <tr>\n",
       "      <th>2</th>\n",
       "      <td>2</td>\n",
       "      <td>2016-05-07 11:00:00.000000</td>\n",
       "      <td>Web</td>\n",
       "      <td>Das Experiment beginnt Freitagabend, am Wochen...</td>\n",
       "    </tr>\n",
       "    <tr>\n",
       "      <th>3</th>\n",
       "      <td>3</td>\n",
       "      <td>2016-05-23 09:41:27.000000</td>\n",
       "      <td>Web</td>\n",
       "      <td>\"Was waren die schlimmsten Erlebnisse, die ihr...</td>\n",
       "    </tr>\n",
       "    <tr>\n",
       "      <th>4</th>\n",
       "      <td>4</td>\n",
       "      <td>2015-06-05 12:55:37.000000</td>\n",
       "      <td>Wirtschaft</td>\n",
       "      <td>Wien – Seitdem die Internationale Agentur für ...</td>\n",
       "    </tr>\n",
       "    <tr>\n",
       "      <th>...</th>\n",
       "      <td>...</td>\n",
       "      <td>...</td>\n",
       "      <td>...</td>\n",
       "      <td>...</td>\n",
       "    </tr>\n",
       "    <tr>\n",
       "      <th>5482</th>\n",
       "      <td>5482</td>\n",
       "      <td>2015-12-15 15:49:23.000000</td>\n",
       "      <td>Wissenschaft</td>\n",
       "      <td>Baikonur/London – Am frühen Dienstagabend erre...</td>\n",
       "    </tr>\n",
       "    <tr>\n",
       "      <th>5483</th>\n",
       "      <td>5483</td>\n",
       "      <td>2016-02-17 22:59:03.000000</td>\n",
       "      <td>Sport</td>\n",
       "      <td>Rio de Janeiro – Das Achtelfinal-Match von Dom...</td>\n",
       "    </tr>\n",
       "    <tr>\n",
       "      <th>5484</th>\n",
       "      <td>5484</td>\n",
       "      <td>2015-10-29 11:18:47.000000</td>\n",
       "      <td>Web</td>\n",
       "      <td>Bezahlsender Sky bringt Apps für seine hochwer...</td>\n",
       "    </tr>\n",
       "    <tr>\n",
       "      <th>5485</th>\n",
       "      <td>5485</td>\n",
       "      <td>2016-03-15 14:50:24.000000</td>\n",
       "      <td>Sport</td>\n",
       "      <td>Neuchatel – Nach einer neuen Studie im Auftrag...</td>\n",
       "    </tr>\n",
       "    <tr>\n",
       "      <th>5486</th>\n",
       "      <td>5486</td>\n",
       "      <td>2015-10-15 10:10:25.000000</td>\n",
       "      <td>Wirtschaft</td>\n",
       "      <td>\"Ökologie wird zur Ökonomie des 21. Jahrhunder...</td>\n",
       "    </tr>\n",
       "  </tbody>\n",
       "</table>\n",
       "<p>5487 rows × 4 columns</p>\n",
       "</div>"
      ],
      "text/plain": [
       "      Unnamed: 0                        date      category  \\\n",
       "0              0  2016-01-04 05:30:00.000000    Wirtschaft   \n",
       "1              1  2015-07-02 07:08:55.000000    Wirtschaft   \n",
       "2              2  2016-05-07 11:00:00.000000           Web   \n",
       "3              3  2016-05-23 09:41:27.000000           Web   \n",
       "4              4  2015-06-05 12:55:37.000000    Wirtschaft   \n",
       "...          ...                         ...           ...   \n",
       "5482        5482  2015-12-15 15:49:23.000000  Wissenschaft   \n",
       "5483        5483  2016-02-17 22:59:03.000000         Sport   \n",
       "5484        5484  2015-10-29 11:18:47.000000           Web   \n",
       "5485        5485  2016-03-15 14:50:24.000000         Sport   \n",
       "5486        5486  2015-10-15 10:10:25.000000    Wirtschaft   \n",
       "\n",
       "                                                   text  \n",
       "0     Der Kampf gegen die Steuerflucht steht 2016 im...  \n",
       "1     Der Volltext dieses auf Agenturmeldungen basie...  \n",
       "2     Das Experiment beginnt Freitagabend, am Wochen...  \n",
       "3     \"Was waren die schlimmsten Erlebnisse, die ihr...  \n",
       "4     Wien – Seitdem die Internationale Agentur für ...  \n",
       "...                                                 ...  \n",
       "5482  Baikonur/London – Am frühen Dienstagabend erre...  \n",
       "5483  Rio de Janeiro – Das Achtelfinal-Match von Dom...  \n",
       "5484  Bezahlsender Sky bringt Apps für seine hochwer...  \n",
       "5485  Neuchatel – Nach einer neuen Studie im Auftrag...  \n",
       "5486  \"Ökologie wird zur Ökonomie des 21. Jahrhunder...  \n",
       "\n",
       "[5487 rows x 4 columns]"
      ]
     },
     "execution_count": 26,
     "metadata": {},
     "output_type": "execute_result"
    }
   ],
   "source": [
    "df_news = pd.read_csv('news.csv')\n",
    "df_news"
   ]
  },
  {
   "cell_type": "code",
   "execution_count": 27,
   "metadata": {},
   "outputs": [
    {
     "name": "stdout",
     "output_type": "stream",
     "text": [
      "<class 'pandas.core.frame.DataFrame'>\n",
      "RangeIndex: 5487 entries, 0 to 5486\n",
      "Data columns (total 4 columns):\n",
      " #   Column      Non-Null Count  Dtype \n",
      "---  ------      --------------  ----- \n",
      " 0   Unnamed: 0  5487 non-null   int64 \n",
      " 1   date        5487 non-null   object\n",
      " 2   category    5487 non-null   object\n",
      " 3   text        5481 non-null   object\n",
      "dtypes: int64(1), object(3)\n",
      "memory usage: 171.6+ KB\n"
     ]
    }
   ],
   "source": [
    "df_news.info()"
   ]
  },
  {
   "cell_type": "code",
   "execution_count": 29,
   "metadata": {},
   "outputs": [
    {
     "data": {
      "text/plain": [
       "6"
      ]
     },
     "execution_count": 29,
     "metadata": {},
     "output_type": "execute_result"
    }
   ],
   "source": [
    "df_news.text.isnull().sum()"
   ]
  },
  {
   "cell_type": "code",
   "execution_count": 31,
   "metadata": {},
   "outputs": [
    {
     "data": {
      "text/plain": [
       "0"
      ]
     },
     "execution_count": 31,
     "metadata": {},
     "output_type": "execute_result"
    }
   ],
   "source": [
    "# drop NaN text\n",
    "df_news.dropna(inplace=True)\n",
    "df_news.text.isnull().sum()"
   ]
  },
  {
   "cell_type": "code",
   "execution_count": 32,
   "metadata": {},
   "outputs": [
    {
     "data": {
      "text/plain": [
       "array(['Wirtschaft', 'Web', 'Kultur', 'Gesundheit', 'Sport',\n",
       "       'Wissenschaft'], dtype=object)"
      ]
     },
     "execution_count": 32,
     "metadata": {},
     "output_type": "execute_result"
    }
   ],
   "source": [
    "df_news.category.unique()"
   ]
  },
  {
   "cell_type": "markdown",
   "metadata": {},
   "source": [
    "#### Category distribution\n",
    "we have an unbalanced dataset (see bar chart below), some solutions:\n",
    "\n",
    "* collect more data \n",
    "* downsampling or upsampling technique (text generation)"
   ]
  },
  {
   "cell_type": "code",
   "execution_count": 33,
   "metadata": {},
   "outputs": [
    {
     "data": {
      "image/png": "[encoded data removed]",
      "text/plain": [
       "<Figure size 432x288 with 1 Axes>"
      ]
     },
     "metadata": {
      "needs_background": "light"
     },
     "output_type": "display_data"
    }
   ],
   "source": [
    "#category_count = pd.value_counts(df_news.category, sort=True)\n",
    "df_news.category.value_counts().sort_values().plot(kind = 'barh')\n",
    "#category_count.plot(kind='bar')\n",
    "\n",
    "plt.title(\"Category Distribution\")\n",
    "plt.xlabel('Category')\n",
    "plt.ylabel('Frequency')\n",
    "plt.show()"
   ]
  },
  {
   "cell_type": "code",
   "execution_count": 34,
   "metadata": {},
   "outputs": [
    {
     "data": {
      "text/plain": [
       "Unnamed: 0    1335\n",
       "date          1335\n",
       "category      1335\n",
       "text          1335\n",
       "dtype: int64"
      ]
     },
     "execution_count": 34,
     "metadata": {},
     "output_type": "execute_result"
    }
   ],
   "source": [
    "df_news[df_news.category == 'Wirtschaft'].count()"
   ]
  },
  {
   "cell_type": "markdown",
   "metadata": {},
   "source": [
    "### Data Preprocessing\n",
    "Split data into inputs and target"
   ]
  },
  {
   "cell_type": "code",
   "execution_count": 94,
   "metadata": {},
   "outputs": [
    {
     "data": {
      "text/html": [
       "<div>\n",
       "<style scoped>\n",
       "    .dataframe tbody tr th:only-of-type {\n",
       "        vertical-align: middle;\n",
       "    }\n",
       "\n",
       "    .dataframe tbody tr th {\n",
       "        vertical-align: top;\n",
       "    }\n",
       "\n",
       "    .dataframe thead th {\n",
       "        text-align: right;\n",
       "    }\n",
       "</style>\n",
       "<table border=\"1\" class=\"dataframe\">\n",
       "  <thead>\n",
       "    <tr style=\"text-align: right;\">\n",
       "      <th></th>\n",
       "      <th>text</th>\n",
       "    </tr>\n",
       "  </thead>\n",
       "  <tbody>\n",
       "    <tr>\n",
       "      <th>0</th>\n",
       "      <td>Der Kampf gegen die Steuerflucht steht 2016 im Mittelpunkt der Regierungspolitik. Dies versprach Italiens Staatspräsident Sergio Mattarella bei seiner Neujahrsansprache. Und begründete das Vorhaben damit, dass 2015 dem Fiskus 122 Milliarden Euro an Steuereinnahmen verlorengingen. Das entspricht 7,5 Prozent des Bruttoinlandprodukts (BIP). Könnte man die Steuerflucht halbieren, würden 300.000 Ar...</td>\n",
       "    </tr>\n",
       "    <tr>\n",
       "      <th>1</th>\n",
       "      <td>Der Volltext dieses auf Agenturmeldungen basierenden Artikels steht aus rechtlichen Gründen nicht mehr zur Verfügung.</td>\n",
       "    </tr>\n",
       "    <tr>\n",
       "      <th>2</th>\n",
       "      <td>Das Experiment beginnt Freitagabend, am Wochenende der Bundespräsidentenwahl. Einmal noch schnell ein Blick auf Twitter und Facebook, dann wird der Datenzugang am Smartphone komplett abgedreht. Um auch beim Blick auf die Uhrzeit nicht in Versuchung geführt zu werden.\f",
       "Die erste Herausforderung kommt bei einem Konzert. Wanda spielen in der Stadthalle. Die Fotos nicht sofort mit der Welt bzw. Fre...</td>\n",
       "    </tr>\n",
       "    <tr>\n",
       "      <th>3</th>\n",
       "      <td>\"Was waren die schlimmsten Erlebnisse, die ihr als IT-Mitarbeiter erlebt habt?\" Diese einfache Frage hat auf Reddit zu einer Myriade von Anekdoten geführt. Die Webseite \"Knowable\" hat sich nun die absurdesten Fälle herausgesucht und in einem Artikel zusammengefasst – der zeigt, wie weit verbreitet manche extreme Formen von \"IT-Analphabetismus\" tatsächlich sind.\f",
       "So erzählt ein Nutzer, dass ein ...</td>\n",
       "    </tr>\n",
       "    <tr>\n",
       "      <th>4</th>\n",
       "      <td>Wien – Seitdem die Internationale Agentur für Krebsforschung der WHO  (Weltgesundheitsorganisation) im April eine neue Studie vorgestellt hat,  ist in Sachen Unkrautvernichtungsmittel Feuer am Dach. Glyphosat, das  weltweit am häufigsten eingesetzte Pestizid, wird darin als  \"wahrscheinlich krebserregend\" eingestuft. Diejenigen Personen, die mit  dem Pestizid in Berührung kommen, haben ein erh...</td>\n",
       "    </tr>\n",
       "  </tbody>\n",
       "</table>\n",
       "</div>"
      ],
      "text/plain": [
       "                                                                                                                                                                                                                                                                                                                                                                                                              text\n",
       "0  Der Kampf gegen die Steuerflucht steht 2016 im Mittelpunkt der Regierungspolitik. Dies versprach Italiens Staatspräsident Sergio Mattarella bei seiner Neujahrsansprache. Und begründete das Vorhaben damit, dass 2015 dem Fiskus 122 Milliarden Euro an Steuereinnahmen verlorengingen. Das entspricht 7,5 Prozent des Bruttoinlandprodukts (BIP). Könnte man die Steuerflucht halbieren, würden 300.000 Ar...\n",
       "1                                                                                                                                                                                                                                                                                            Der Volltext dieses auf Agenturmeldungen basierenden Artikels steht aus rechtlichen Gründen nicht mehr zur Verfügung.\n",
       "2  Das Experiment beginnt Freitagabend, am Wochenende der Bundespräsidentenwahl. Einmal noch schnell ein Blick auf Twitter und Facebook, dann wird der Datenzugang am Smartphone komplett abgedreht. Um auch beim Blick auf die Uhrzeit nicht in Versuchung geführt zu werden.\n",
       "Die erste Herausforderung kommt bei einem Konzert. Wanda spielen in der Stadthalle. Die Fotos nicht sofort mit der Welt bzw. Fre...\n",
       "3  \"Was waren die schlimmsten Erlebnisse, die ihr als IT-Mitarbeiter erlebt habt?\" Diese einfache Frage hat auf Reddit zu einer Myriade von Anekdoten geführt. Die Webseite \"Knowable\" hat sich nun die absurdesten Fälle herausgesucht und in einem Artikel zusammengefasst – der zeigt, wie weit verbreitet manche extreme Formen von \"IT-Analphabetismus\" tatsächlich sind.\n",
       "So erzählt ein Nutzer, dass ein ...\n",
       "4  Wien – Seitdem die Internationale Agentur für Krebsforschung der WHO  (Weltgesundheitsorganisation) im April eine neue Studie vorgestellt hat,  ist in Sachen Unkrautvernichtungsmittel Feuer am Dach. Glyphosat, das  weltweit am häufigsten eingesetzte Pestizid, wird darin als  \"wahrscheinlich krebserregend\" eingestuft. Diejenigen Personen, die mit  dem Pestizid in Berührung kommen, haben ein erh..."
      ]
     },
     "execution_count": 94,
     "metadata": {},
     "output_type": "execute_result"
    }
   ],
   "source": [
    "pd.options.display.max_colwidth = 400\n",
    "inputs = df_news[['text']]\n",
    "inputs.head()"
   ]
  },
  {
   "cell_type": "code",
   "execution_count": 95,
   "metadata": {},
   "outputs": [
    {
     "data": {
      "text/plain": [
       "text    Wien – Seitdem die Internationale Agentur für Krebsforschung der WHO  (Weltgesundheitsorganisation) im April eine neue Studie vorgestellt hat,  ist in Sachen Unkrautvernichtungsmittel Feuer am Dach. Glyphosat, das  weltweit am häufigsten eingesetzte Pestizid, wird darin als  \"wahrscheinlich krebserregend\" eingestuft. Diejenigen Personen, die mit  dem Pestizid in Berührung kommen, haben ein erh...\n",
       "Name: 4, dtype: object"
      ]
     },
     "execution_count": 95,
     "metadata": {},
     "output_type": "execute_result"
    }
   ],
   "source": [
    "inputs.iloc[4]"
   ]
  },
  {
   "cell_type": "markdown",
   "metadata": {},
   "source": [
    "#### clean the text data\n",
    "* lowercase\n",
    "* ponctuation\n",
    "* numbers\n",
    "* special characters\n",
    "* (maybe, stop words also)\n",
    "\n",
    "We will make the assumption that these characters are not useful for the text classfication task "
   ]
  },
  {
   "cell_type": "code",
   "execution_count": 96,
   "metadata": {},
   "outputs": [],
   "source": [
    "import re # use regular expression\n",
    "import string\n",
    "\n",
    "def clean_text(text):\n",
    "    text = text.lower() # lowercase \n",
    "    text = re.sub('[%s]' % re.escape(string.punctuation), '', text) # ponctuation\n",
    "    text = re.sub('\\d', '', text) # numbers\n",
    "    text = re.sub('[''–’-“”_]', '', text) # special character\n",
    "    text = re.sub('\\n', '', text) # new line\n",
    "    return text\n",
    "\n",
    "inputs_clean = pd.DataFrame(\n",
    "            inputs.text.apply(lambda x: clean_text(x))\n",
    ")"
   ]
  },
  {
   "cell_type": "code",
   "execution_count": 97,
   "metadata": {},
   "outputs": [
    {
     "data": {
      "text/html": [
       "<div>\n",
       "<style scoped>\n",
       "    .dataframe tbody tr th:only-of-type {\n",
       "        vertical-align: middle;\n",
       "    }\n",
       "\n",
       "    .dataframe tbody tr th {\n",
       "        vertical-align: top;\n",
       "    }\n",
       "\n",
       "    .dataframe thead th {\n",
       "        text-align: right;\n",
       "    }\n",
       "</style>\n",
       "<table border=\"1\" class=\"dataframe\">\n",
       "  <thead>\n",
       "    <tr style=\"text-align: right;\">\n",
       "      <th></th>\n",
       "      <th>text</th>\n",
       "    </tr>\n",
       "  </thead>\n",
       "  <tbody>\n",
       "    <tr>\n",
       "      <th>0</th>\n",
       "      <td>der kampf gegen die steuerflucht steht  im mittelpunkt der regierungspolitik dies versprach italiens staatspräsident sergio mattarella bei seiner neujahrsansprache und begründete das vorhaben damit dass  dem fiskus  milliarden euro an steuereinnahmen verlorengingen das entspricht  prozent des bruttoinlandprodukts bip könnte man die steuerflucht halbieren würden  arbeitsplätze mehr geschaffen w...</td>\n",
       "    </tr>\n",
       "    <tr>\n",
       "      <th>1</th>\n",
       "      <td>der volltext dieses auf agenturmeldungen basierenden artikels steht aus rechtlichen gründen nicht mehr zur verfügung</td>\n",
       "    </tr>\n",
       "    <tr>\n",
       "      <th>2</th>\n",
       "      <td>das experiment beginnt freitagabend am wochenende der bundespräsidentenwahl einmal noch schnell ein blick auf twitter und facebook dann wird der datenzugang am smartphone komplett abgedreht um auch beim blick auf die uhrzeit nicht in versuchung geführt zu werden\f",
       "die erste herausforderung kommt bei einem konzert wanda spielen in der stadthalle die fotos nicht sofort mit der welt bzw freunden un...</td>\n",
       "    </tr>\n",
       "    <tr>\n",
       "      <th>3</th>\n",
       "      <td>was waren die schlimmsten erlebnisse die ihr als itmitarbeiter erlebt habt diese einfache frage hat auf reddit zu einer myriade von anekdoten geführt die webseite knowable hat sich nun die absurdesten fälle herausgesucht und in einem artikel zusammengefasst  der zeigt wie weit verbreitet manche extreme formen von itanalphabetismus tatsächlich sind\f",
       "so erzählt ein nutzer dass ein kollege ihm von...</td>\n",
       "    </tr>\n",
       "    <tr>\n",
       "      <th>4</th>\n",
       "      <td>wien  seitdem die internationale agentur für krebsforschung der who  weltgesundheitsorganisation im april eine neue studie vorgestellt hat  ist in sachen unkrautvernichtungsmittel feuer am dach glyphosat das  weltweit am häufigsten eingesetzte pestizid wird darin als  wahrscheinlich krebserregend eingestuft diejenigen personen die mit  dem pestizid in berührung kommen haben ein erhöhtes risiko...</td>\n",
       "    </tr>\n",
       "  </tbody>\n",
       "</table>\n",
       "</div>"
      ],
      "text/plain": [
       "                                                                                                                                                                                                                                                                                                                                                                                                              text\n",
       "0  der kampf gegen die steuerflucht steht  im mittelpunkt der regierungspolitik dies versprach italiens staatspräsident sergio mattarella bei seiner neujahrsansprache und begründete das vorhaben damit dass  dem fiskus  milliarden euro an steuereinnahmen verlorengingen das entspricht  prozent des bruttoinlandprodukts bip könnte man die steuerflucht halbieren würden  arbeitsplätze mehr geschaffen w...\n",
       "1                                                                                                                                                                                                                                                                                             der volltext dieses auf agenturmeldungen basierenden artikels steht aus rechtlichen gründen nicht mehr zur verfügung\n",
       "2  das experiment beginnt freitagabend am wochenende der bundespräsidentenwahl einmal noch schnell ein blick auf twitter und facebook dann wird der datenzugang am smartphone komplett abgedreht um auch beim blick auf die uhrzeit nicht in versuchung geführt zu werden\n",
       "die erste herausforderung kommt bei einem konzert wanda spielen in der stadthalle die fotos nicht sofort mit der welt bzw freunden un...\n",
       "3  was waren die schlimmsten erlebnisse die ihr als itmitarbeiter erlebt habt diese einfache frage hat auf reddit zu einer myriade von anekdoten geführt die webseite knowable hat sich nun die absurdesten fälle herausgesucht und in einem artikel zusammengefasst  der zeigt wie weit verbreitet manche extreme formen von itanalphabetismus tatsächlich sind\n",
       "so erzählt ein nutzer dass ein kollege ihm von...\n",
       "4  wien  seitdem die internationale agentur für krebsforschung der who  weltgesundheitsorganisation im april eine neue studie vorgestellt hat  ist in sachen unkrautvernichtungsmittel feuer am dach glyphosat das  weltweit am häufigsten eingesetzte pestizid wird darin als  wahrscheinlich krebserregend eingestuft diejenigen personen die mit  dem pestizid in berührung kommen haben ein erhöhtes risiko..."
      ]
     },
     "execution_count": 97,
     "metadata": {},
     "output_type": "execute_result"
    }
   ],
   "source": [
    "inputs_clean.head()"
   ]
  },
  {
   "cell_type": "markdown",
   "metadata": {},
   "source": [
    "#### transform target data (one hot encoding)"
   ]
  },
  {
   "cell_type": "code",
   "execution_count": 53,
   "metadata": {},
   "outputs": [
    {
     "name": "stdout",
     "output_type": "stream",
     "text": [
      "(5481,)\n",
      "['Wirtschaft' 'Wirtschaft' 'Web' 'Web' 'Wirtschaft' 'Kultur' 'Gesundheit'\n",
      " 'Sport' 'Sport' 'Sport']\n"
     ]
    }
   ],
   "source": [
    "target = np.array(df_news['category'].values)\n",
    "print(target.shape)\n",
    "print(target[:10])"
   ]
  },
  {
   "cell_type": "code",
   "execution_count": 180,
   "metadata": {},
   "outputs": [
    {
     "name": "stdout",
     "output_type": "stream",
     "text": [
      "{'Wirtschaft': 0, 'Web': 1, 'Kultur': 2, 'Gesundheit': 3, 'Sport': 4, 'Wissenschaft': 5}\n",
      "(5481, 6)\n",
      "[[1 0 0 0 0 0]\n",
      " [1 0 0 0 0 0]\n",
      " [0 1 0 0 0 0]\n",
      " [0 1 0 0 0 0]\n",
      " [1 0 0 0 0 0]\n",
      " [0 0 1 0 0 0]\n",
      " [0 0 0 1 0 0]\n",
      " [0 0 0 0 1 0]\n",
      " [0 0 0 0 1 0]\n",
      " [0 0 0 0 1 0]]\n"
     ]
    }
   ],
   "source": [
    "i = 0\n",
    "target_dict = {}\n",
    "for category in df_news.category.unique():\n",
    "    target_dict[category] = i\n",
    "    i+=1\n",
    "print(target_dict)\n",
    "\n",
    "# one hot encoding\n",
    "target_enc = np.zeros((len(target), len(np.unique(target))), dtype='int')\n",
    "for i, category in enumerate(target):\n",
    "    target_enc[i, target_dict[category]] = 1\n",
    "print(target_enc.shape)\n",
    "print(target_enc[:10])"
   ]
  },
  {
   "cell_type": "markdown",
   "metadata": {},
   "source": [
    "#### Word Indexing\n",
    "use the TextVectorization form Keras to index the vocabulary found in the dataset."
   ]
  },
  {
   "cell_type": "code",
   "execution_count": 230,
   "metadata": {},
   "outputs": [
    {
     "name": "stdout",
     "output_type": "stream",
     "text": [
      "(5481, 1)\n",
      "['der volltext dieses auf agenturmeldungen basierenden artikels steht aus rechtlichen gründen nicht mehr zur verfügung']\n"
     ]
    }
   ],
   "source": [
    "text_array = np.array(inputs_clean.values) \n",
    "print(text_array.shape)\n",
    "print(text_array[1])"
   ]
  },
  {
   "cell_type": "markdown",
   "metadata": {},
   "source": [
    "consider the top 20,000 words. Truncate or pad sequences to be actually 200 tokens long."
   ]
  },
  {
   "cell_type": "code",
   "execution_count": 231,
   "metadata": {},
   "outputs": [],
   "source": [
    "from tensorflow.keras.layers.experimental.preprocessing import TextVectorization\n",
    "\n",
    "vectorizer = TextVectorization(max_tokens=20000, output_sequence_length=200)\n",
    "vectorizer.adapt(text_array)"
   ]
  },
  {
   "cell_type": "code",
   "execution_count": 232,
   "metadata": {},
   "outputs": [
    {
     "data": {
      "text/plain": [
       "['', '[UNK]', 'die', 'der', 'und']"
      ]
     },
     "execution_count": 232,
     "metadata": {},
     "output_type": "execute_result"
    }
   ],
   "source": [
    "# top words - too many die, der, und\n",
    "vectorizer.get_vocabulary()[:5]"
   ]
  },
  {
   "cell_type": "code",
   "execution_count": 233,
   "metadata": {},
   "outputs": [
    {
     "data": {
      "text/plain": [
       "array([   54, 16020,   231,     9,  4702,  1766])"
      ]
     },
     "execution_count": 233,
     "metadata": {},
     "output_type": "execute_result"
    }
   ],
   "source": [
    "output = vectorizer([[\"Ich beschäftige mich mit data science\"]])\n",
    "output.numpy()[0, :6]"
   ]
  },
  {
   "cell_type": "markdown",
   "metadata": {},
   "source": [
    "#### remove stop words: die, der, und etc."
   ]
  },
  {
   "cell_type": "code",
   "execution_count": 298,
   "metadata": {},
   "outputs": [],
   "source": [
    "from nltk import word_tokenize\n",
    "from nltk.corpus import stopwords\n",
    "from nltk.tokenize.treebank import TreebankWordDetokenizer\n",
    "\n",
    "stop = set(stopwords.words('german'))\n",
    "def remove_stop_words(data):\n",
    "    for i, sentence in enumerate(data):\n",
    "        sentence_without_stops = [i for i in word_tokenize(sentence[0].lower()) \n",
    "                                  if i not in stop]\n",
    "        sent = [TreebankWordDetokenizer().detokenize(sentence_without_stops)]\n",
    "        data[i] = sent\n",
    "    return data"
   ]
  },
  {
   "cell_type": "code",
   "execution_count": 299,
   "metadata": {},
   "outputs": [
    {
     "name": "stdout",
     "output_type": "stream",
     "text": [
      "['volltext agenturmeldungen basierenden artikels steht rechtlichen gründen mehr verfügung']\n"
     ]
    }
   ],
   "source": [
    "text_array = remove_stop_words(text_array)\n",
    "print(text_array[1])"
   ]
  },
  {
   "cell_type": "code",
   "execution_count": 300,
   "metadata": {},
   "outputs": [],
   "source": [
    "# index without stop words\n",
    "max_tokens = 20000\n",
    "output_sequence_length = 500\n",
    "vectorizer = TextVectorization(max_tokens=max_tokens,\n",
    "                               output_sequence_length=output_sequence_length)\n",
    "vectorizer.adapt(text_array)"
   ]
  },
  {
   "cell_type": "code",
   "execution_count": 301,
   "metadata": {},
   "outputs": [
    {
     "data": {
      "text/plain": [
       "['', '[UNK]', 'mehr', 'prozent', 'wurde']"
      ]
     },
     "execution_count": 301,
     "metadata": {},
     "output_type": "execute_result"
    }
   ],
   "source": [
    "vectorizer.get_vocabulary()[:5]"
   ]
  },
  {
   "cell_type": "code",
   "execution_count": 302,
   "metadata": {},
   "outputs": [
    {
     "data": {
      "text/plain": [
       "array([ 986, 4509, 1587,    0,    0,    0])"
      ]
     },
     "execution_count": 302,
     "metadata": {},
     "output_type": "execute_result"
    }
   ],
   "source": [
    "output = vectorizer([[\"liebe data science\"]])\n",
    "output.numpy()[0, :6]"
   ]
  },
  {
   "cell_type": "code",
   "execution_count": 303,
   "metadata": {},
   "outputs": [],
   "source": [
    "voc = vectorizer.get_vocabulary()\n",
    "word_index = dict(zip(voc, range(len(voc))))"
   ]
  },
  {
   "cell_type": "code",
   "execution_count": 304,
   "metadata": {},
   "outputs": [
    {
     "data": {
      "text/plain": [
       "[986, 4509, 1587]"
      ]
     },
     "execution_count": 304,
     "metadata": {},
     "output_type": "execute_result"
    }
   ],
   "source": [
    "test = [\"liebe\", \"data\", \"science\"]\n",
    "[word_index[w] for w in test] "
   ]
  },
  {
   "cell_type": "markdown",
   "metadata": {},
   "source": [
    "#### create train, validation and test set"
   ]
  },
  {
   "cell_type": "code",
   "execution_count": 305,
   "metadata": {},
   "outputs": [
    {
     "name": "stdout",
     "output_type": "stream",
     "text": [
      "X shape : (4438, 1), Y shape: (4438, 6)\n",
      "val_X shape : (494, 1), val_Y shape: (494, 6)\n",
      "test_X shape : (549, 1), test_Y shape: (549, 6)\n"
     ]
    }
   ],
   "source": [
    "train_X, test_X, train_Y, test_Y = train_test_split(text_array, target_enc,\n",
    "                                                   test_size=0.1)\n",
    "X, val_X, Y, val_Y = train_test_split(train_X, train_Y, test_size=0.1)\n",
    "print(\"X shape : {}, Y shape: {}\".format(X.shape, Y.shape))\n",
    "print(\"val_X shape : {}, val_Y shape: {}\".format(val_X.shape, val_Y.shape))\n",
    "print(\"test_X shape : {}, test_Y shape: {}\".format(test_X.shape, test_Y.shape))"
   ]
  },
  {
   "cell_type": "markdown",
   "metadata": {},
   "source": [
    "### Build the model"
   ]
  },
  {
   "cell_type": "code",
   "execution_count": 321,
   "metadata": {},
   "outputs": [
    {
     "name": "stdout",
     "output_type": "stream",
     "text": [
      "Model: \"functional_33\"\n",
      "_________________________________________________________________\n",
      "Layer (type)                 Output Shape              Param #   \n",
      "=================================================================\n",
      "input_24 (InputLayer)        [(None, None)]            0         \n",
      "_________________________________________________________________\n",
      "embedding_20 (Embedding)     (None, None, 200)         4000000   \n",
      "_________________________________________________________________\n",
      "conv1d_52 (Conv1D)           (None, None, 128)         128128    \n",
      "_________________________________________________________________\n",
      "max_pooling1d_32 (MaxPooling (None, None, 128)         0         \n",
      "_________________________________________________________________\n",
      "conv1d_53 (Conv1D)           (None, None, 128)         82048     \n",
      "_________________________________________________________________\n",
      "max_pooling1d_33 (MaxPooling (None, None, 128)         0         \n",
      "_________________________________________________________________\n",
      "conv1d_54 (Conv1D)           (None, None, 128)         82048     \n",
      "_________________________________________________________________\n",
      "global_max_pooling1d_16 (Glo (None, 128)               0         \n",
      "_________________________________________________________________\n",
      "dense_32 (Dense)             (None, 128)               16512     \n",
      "_________________________________________________________________\n",
      "dropout_19 (Dropout)         (None, 128)               0         \n",
      "_________________________________________________________________\n",
      "dense_33 (Dense)             (None, 6)                 774       \n",
      "=================================================================\n",
      "Total params: 4,309,510\n",
      "Trainable params: 4,309,510\n",
      "Non-trainable params: 0\n",
      "_________________________________________________________________\n"
     ]
    }
   ],
   "source": [
    "from tensorflow.keras import layers, Input\n",
    "\n",
    "embedding_dim = 200\n",
    "\n",
    "input_int = keras.Input(shape=(None,), dtype=\"int64\")\n",
    "embedded_sequences = layers.Embedding(max_tokens, embedding_dim)(input_int)\n",
    "x = layers.Conv1D(128, 5, activation=\"relu\")(embedded_sequences)\n",
    "x = layers.MaxPooling1D(5)(x)\n",
    "x = layers.Conv1D(128, 5, activation=\"relu\")(x)\n",
    "x = layers.MaxPooling1D(5)(x)\n",
    "x = layers.Conv1D(128, 5, activation=\"relu\")(x)\n",
    "x = layers.GlobalMaxPooling1D()(x)\n",
    "x = layers.Dense(128, activation=\"relu\")(x)\n",
    "x = layers.Dropout(0.5)(x)\n",
    "outputs = layers.Dense(len(df_news.category.unique()),\n",
    "                       activation=\"softmax\")(x)\n",
    "model = keras.Model(input_int, outputs)\n",
    "model.summary()"
   ]
  },
  {
   "cell_type": "code",
   "execution_count": 322,
   "metadata": {},
   "outputs": [],
   "source": [
    "model.compile(loss='binary_crossentropy', optimizer='adam',\n",
    "              metrics=['accuracy'])"
   ]
  },
  {
   "cell_type": "code",
   "execution_count": 315,
   "metadata": {},
   "outputs": [
    {
     "data": {
      "text/plain": [
       "(4438, 1)"
      ]
     },
     "execution_count": 315,
     "metadata": {},
     "output_type": "execute_result"
    }
   ],
   "source": [
    "X.shape"
   ]
  },
  {
   "cell_type": "code",
   "execution_count": 316,
   "metadata": {},
   "outputs": [
    {
     "name": "stdout",
     "output_type": "stream",
     "text": [
      "(4438, 500)\n",
      "(494, 500)\n",
      "(549, 500)\n"
     ]
    }
   ],
   "source": [
    "x_train = vectorizer(X).numpy()\n",
    "x_val = vectorizer(val_X).numpy()\n",
    "x_test = vectorizer(test_X).numpy()\n",
    "\n",
    "y_train = np.array(Y)\n",
    "y_val = np.array(val_Y)\n",
    "y_test = np.array(test_Y)\n",
    "\n",
    "print(x_train.shape)\n",
    "print(x_val.shape)\n",
    "print(x_test.shape)"
   ]
  },
  {
   "cell_type": "code",
   "execution_count": 317,
   "metadata": {},
   "outputs": [
    {
     "name": "stdout",
     "output_type": "stream",
     "text": [
      "(4438, 500) (4438, 6)\n",
      "(494, 500) (494, 6)\n"
     ]
    }
   ],
   "source": [
    "print(x_train.shape, y_train.shape)\n",
    "print(x_val.shape, y_val.shape)"
   ]
  },
  {
   "cell_type": "code",
   "execution_count": 318,
   "metadata": {},
   "outputs": [
    {
     "name": "stdout",
     "output_type": "stream",
     "text": [
      "[  127  9562 10320     1 11197   221    38     1   151 13557  1774  3188\n",
      "  2708     1 10253  3018 16050    41    41   731 19941   153  1128  3098\n",
      "    19   516  8162     1     1  1795  7168   108  1774   822  9562  2480\n",
      "   228  1076   533    41    41   731 19941  1076  2078  2959 14306   994\n",
      "  1441   442     1  1352  3643 15193     1 19562   404   221   727   668\n",
      "     1  2818  2251 18059     1 10449 10320  1640 10253   404   221   383\n",
      "   108  4290   517   263  2902   734  2818  1291 14088  4999  7871 19942\n",
      "    41    41   731  2536  2034     1  2839     1  2034     1 11263   565\n",
      "    38 14368  1781  3098  1774  4659    28     6   944  7716     1   242\n",
      "  9224     6   108  2762  1547   447   108   364   408   727     1    11\n",
      "     1     0     0     0     0     0     0     0     0     0     0     0\n",
      "     0     0     0     0     0     0     0     0     0     0     0     0\n",
      "     0     0     0     0     0     0     0     0     0     0     0     0\n",
      "     0     0     0     0     0     0     0     0     0     0     0     0\n",
      "     0     0     0     0     0     0     0     0     0     0     0     0\n",
      "     0     0     0     0     0     0     0     0     0     0     0     0\n",
      "     0     0     0     0     0     0     0     0     0     0     0     0\n",
      "     0     0     0     0     0     0     0     0     0     0     0     0\n",
      "     0     0     0     0     0     0     0     0     0     0     0     0\n",
      "     0     0     0     0     0     0     0     0     0     0     0     0\n",
      "     0     0     0     0     0     0     0     0     0     0     0     0\n",
      "     0     0     0     0     0     0     0     0     0     0     0     0\n",
      "     0     0     0     0     0     0     0     0     0     0     0     0\n",
      "     0     0     0     0     0     0     0     0     0     0     0     0\n",
      "     0     0     0     0     0     0     0     0     0     0     0     0\n",
      "     0     0     0     0     0     0     0     0     0     0     0     0\n",
      "     0     0     0     0     0     0     0     0     0     0     0     0\n",
      "     0     0     0     0     0     0     0     0     0     0     0     0\n",
      "     0     0     0     0     0     0     0     0     0     0     0     0\n",
      "     0     0     0     0     0     0     0     0     0     0     0     0\n",
      "     0     0     0     0     0     0     0     0     0     0     0     0\n",
      "     0     0     0     0     0     0     0     0     0     0     0     0\n",
      "     0     0     0     0     0     0     0     0     0     0     0     0\n",
      "     0     0     0     0     0     0     0     0     0     0     0     0\n",
      "     0     0     0     0     0     0     0     0     0     0     0     0\n",
      "     0     0     0     0     0     0     0     0     0     0     0     0\n",
      "     0     0     0     0     0     0     0     0     0     0     0     0\n",
      "     0     0     0     0     0     0     0     0     0     0     0     0\n",
      "     0     0     0     0     0     0     0     0     0     0     0     0\n",
      "     0     0     0     0     0     0     0     0     0     0     0     0\n",
      "     0     0     0     0     0     0     0     0     0     0     0     0\n",
      "     0     0     0     0     0     0     0     0]\n"
     ]
    }
   ],
   "source": [
    "print(x_train[2])"
   ]
  },
  {
   "cell_type": "markdown",
   "metadata": {},
   "source": [
    "### Train the model\n",
    "I think, I have an error in the dimensions, I couldn't fix due to lack of time"
   ]
  },
  {
   "cell_type": "code",
   "execution_count": 323,
   "metadata": {},
   "outputs": [
    {
     "name": "stdout",
     "output_type": "stream",
     "text": [
      "Epoch 1/10\n",
      "35/35 [==============================] - 31s 886ms/step - loss: 0.4235 - accuracy: 0.2652 - val_loss: 0.3942 - val_accuracy: 0.3077\n",
      "Epoch 2/10\n",
      "35/35 [==============================] - 30s 871ms/step - loss: 0.3202 - accuracy: 0.4603 - val_loss: 0.1982 - val_accuracy: 0.7004\n",
      "Epoch 3/10\n",
      "35/35 [==============================] - 29s 831ms/step - loss: 0.1496 - accuracy: 0.7877 - val_loss: 0.1702 - val_accuracy: 0.7996\n",
      "Epoch 4/10\n",
      "35/35 [==============================] - 34s 964ms/step - loss: 0.0888 - accuracy: 0.8806 - val_loss: 0.1556 - val_accuracy: 0.8259\n",
      "Epoch 5/10\n",
      "35/35 [==============================] - 29s 819ms/step - loss: 0.0555 - accuracy: 0.9338 - val_loss: 0.1586 - val_accuracy: 0.8300\n",
      "Epoch 6/10\n",
      "35/35 [==============================] - 37s 1s/step - loss: 0.0379 - accuracy: 0.9615 - val_loss: 0.1835 - val_accuracy: 0.8239\n",
      "Epoch 7/10\n",
      "35/35 [==============================] - 33s 932ms/step - loss: 0.0246 - accuracy: 0.9770 - val_loss: 0.2087 - val_accuracy: 0.8279\n",
      "Epoch 8/10\n",
      "35/35 [==============================] - 30s 871ms/step - loss: 0.0169 - accuracy: 0.9869 - val_loss: 0.1973 - val_accuracy: 0.8482\n",
      "Epoch 9/10\n",
      "35/35 [==============================] - 30s 861ms/step - loss: 0.0151 - accuracy: 0.9887 - val_loss: 0.2126 - val_accuracy: 0.8300\n",
      "Epoch 10/10\n",
      "35/35 [==============================] - 30s 857ms/step - loss: 0.0128 - accuracy: 0.9905 - val_loss: 0.2305 - val_accuracy: 0.8198\n"
     ]
    }
   ],
   "source": [
    "history = model.fit(x_train, y_train, \n",
    "          batch_size=128, epochs=10,\n",
    "          validation_data=(x_val, y_val))"
   ]
  },
  {
   "cell_type": "markdown",
   "metadata": {},
   "source": [
    "### Prediction\n",
    "Overfitting problem --> should the model with less epochs"
   ]
  },
  {
   "cell_type": "code",
   "execution_count": 324,
   "metadata": {},
   "outputs": [
    {
     "data": {
      "image/png": "[encoded data removed]",
      "text/plain": [
       "<Figure size 432x288 with 1 Axes>"
      ]
     },
     "metadata": {
      "needs_background": "light"
     },
     "output_type": "display_data"
    }
   ],
   "source": [
    "def visualize_loss(history, title):\n",
    "    loss = history.history[\"loss\"]\n",
    "    val_loss = history.history[\"val_loss\"]\n",
    "    epochs = range(len(loss))\n",
    "    plt.figure()\n",
    "    plt.plot(epochs, loss, \"b\", label=\"Training loss\")\n",
    "    plt.plot(epochs, val_loss, \"r\", label=\"Validation loss\")\n",
    "    plt.title(title)\n",
    "    plt.xlabel(\"Epochs\")\n",
    "    plt.ylabel(\"Loss\")\n",
    "    plt.legend()\n",
    "    plt.show()\n",
    "\n",
    "\n",
    "visualize_loss(history, \"Training and Validation Loss\")"
   ]
  },
  {
   "cell_type": "code",
   "execution_count": 326,
   "metadata": {},
   "outputs": [
    {
     "data": {
      "image/png": "[encoded data removed]",
      "text/plain": [
       "<Figure size 432x288 with 1 Axes>"
      ]
     },
     "metadata": {
      "needs_background": "light"
     },
     "output_type": "display_data"
    }
   ],
   "source": [
    "def visualize_acc(history, title):\n",
    "    loss = history.history[\"accuracy\"]\n",
    "    val_loss = history.history[\"val_accuracy\"]\n",
    "    epochs = range(len(loss))\n",
    "    plt.figure()\n",
    "    plt.plot(epochs, loss, \"b\", label=\"Training acc\")\n",
    "    plt.plot(epochs, val_loss, \"r\", label=\"Validation acc\")\n",
    "    plt.title(title)\n",
    "    plt.xlabel(\"Epochs\")\n",
    "    plt.ylabel(\"Loss\")\n",
    "    plt.legend()\n",
    "    plt.show()\n",
    "\n",
    "\n",
    "visualize_acc(history, \"Training and Validation Acc\")"
   ]
  },
  {
   "cell_type": "code",
   "execution_count": 332,
   "metadata": {},
   "outputs": [
    {
     "name": "stdout",
     "output_type": "stream",
     "text": [
      "accuracy test set :  0.8579234972677595\n"
     ]
    }
   ],
   "source": [
    "predictions = model.predict(x_test)\n",
    "pred = np.argmax(predictions, axis=1)\n",
    "true = np.argmax(y_test, axis=1)\n",
    "print(\"accuracy test set : \", (pred == true).sum() / len(true))"
   ]
  },
  {
   "cell_type": "code",
   "execution_count": 350,
   "metadata": {},
   "outputs": [
    {
     "data": {
      "text/plain": [
       "(6,)"
      ]
     },
     "execution_count": 350,
     "metadata": {},
     "output_type": "execute_result"
    }
   ],
   "source": [
    "text = np.array([\"dieser Text ist über Geld und Wirtschaft\", \"die Korona hat unsere Gesundheit verschlechert\",\n",
    "                 \"Menschen sterben heutzutage jeden Tag\", \"Real Madrid hat das Champions League wieder gewonnen\",\n",
    "                 \"Politiker sind nicht gut\", \"Bewerbungen für Data Science Stellen sind nicht viele\"])\n",
    "text.shape"
   ]
  },
  {
   "cell_type": "code",
   "execution_count": 351,
   "metadata": {},
   "outputs": [
    {
     "data": {
      "text/plain": [
       "array([['text geld wirtschaft'],\n",
       "       ['korona gesundheit verschlechert'],\n",
       "       ['menschen sterben heutzutage tag'],\n",
       "       ['real madrid champions league gewonnen'],\n",
       "       ['politiker gut'],\n",
       "       ['bewerbungen data science stellen viele']], dtype='<U53')"
      ]
     },
     "execution_count": 351,
     "metadata": {},
     "output_type": "execute_result"
    }
   ],
   "source": [
    "text = text.tolist()\n",
    "text = np.array([clean_text(x) for x in text])\n",
    "text = remove_stop_words(text.reshape(-1, 1))\n",
    "text"
   ]
  },
  {
   "cell_type": "code",
   "execution_count": 352,
   "metadata": {},
   "outputs": [],
   "source": [
    "text_vec = vectorizer(text).numpy()"
   ]
  },
  {
   "cell_type": "code",
   "execution_count": 353,
   "metadata": {},
   "outputs": [
    {
     "data": {
      "text/plain": [
       "(6, 500)"
      ]
     },
     "execution_count": 353,
     "metadata": {},
     "output_type": "execute_result"
    }
   ],
   "source": [
    "text_vec.shape"
   ]
  },
  {
   "cell_type": "code",
   "execution_count": 354,
   "metadata": {},
   "outputs": [],
   "source": [
    "one_hot_to_label_dict = {}\n",
    "for key, value in target_dict.items():\n",
    "    one_hot_to_label_dict[value] = key"
   ]
  },
  {
   "cell_type": "code",
   "execution_count": 357,
   "metadata": {},
   "outputs": [
    {
     "name": "stdout",
     "output_type": "stream",
     "text": [
      "(6, 6)\n",
      "Wirtschaft\n",
      "Gesundheit\n",
      "Gesundheit\n",
      "Sport\n",
      "Wissenschaft\n",
      "Wissenschaft\n"
     ]
    }
   ],
   "source": [
    "predi = model.predict(text_vec)\n",
    "print(predi.shape)\n",
    "pred_index = np.argmax(predi, axis=1)\n",
    "for elem in pred_index:\n",
    "    print(one_hot_to_label_dict[elem])"
   ]
  }
 ],
 "metadata": {
  "kernelspec": {
   "display_name": "Python 3",
   "language": "python",
   "name": "python3"
  },
  "language_info": {
   "codemirror_mode": {
    "name": "ipython",
    "version": 3
   },
   "file_extension": ".py",
   "mimetype": "text/x-python",
   "name": "python",
   "nbconvert_exporter": "python",
   "pygments_lexer": "ipython3",
   "version": "3.8.5"
  }
 },
 "nbformat": 4,
 "nbformat_minor": 4
}
