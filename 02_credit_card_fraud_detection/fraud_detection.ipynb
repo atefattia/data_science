{
 "cells": [
  {
   "cell_type": "markdown",
   "metadata": {},
   "source": [
    "#### Get the real data from https://www.kaggle.com/mlg-ulb/creditcardfraud/\n",
    "creditcard.csv"
   ]
  },
  {
   "cell_type": "markdown",
   "metadata": {},
   "source": [
    "|                            | fraud accuracy | normal accuracy | accuracy all |   \n",
    "|----------------------------|----------------|-----------------|--------------|\n",
    "| Local Outlier Factor (LOF) |     15.30%     |      98.32%     |    98.18%    |\n",
    "| Isolation Forest           |     37.75%     |      99.83%     |    99.73%    |\n",
    "| Neural Netowrk             |     **82.04%**     |      **99.96%**     |    **99.93%**    |"
   ]
  },
  {
   "cell_type": "code",
   "execution_count": 1,
   "metadata": {},
   "outputs": [],
   "source": [
    "import pandas as pd\n",
    "import numpy as np\n",
    "import matplotlib.pyplot as plt"
   ]
  },
  {
   "cell_type": "code",
   "execution_count": 3,
   "metadata": {},
   "outputs": [
    {
     "data": {
      "text/html": [
       "<div>\n",
       "<style scoped>\n",
       "    .dataframe tbody tr th:only-of-type {\n",
       "        vertical-align: middle;\n",
       "    }\n",
       "\n",
       "    .dataframe tbody tr th {\n",
       "        vertical-align: top;\n",
       "    }\n",
       "\n",
       "    .dataframe thead th {\n",
       "        text-align: right;\n",
       "    }\n",
       "</style>\n",
       "<table border=\"1\" class=\"dataframe\">\n",
       "  <thead>\n",
       "    <tr style=\"text-align: right;\">\n",
       "      <th></th>\n",
       "      <th>Time</th>\n",
       "      <th>V1</th>\n",
       "      <th>V2</th>\n",
       "      <th>V3</th>\n",
       "      <th>V4</th>\n",
       "      <th>V5</th>\n",
       "      <th>V6</th>\n",
       "      <th>V7</th>\n",
       "      <th>V8</th>\n",
       "      <th>V9</th>\n",
       "      <th>...</th>\n",
       "      <th>V21</th>\n",
       "      <th>V22</th>\n",
       "      <th>V23</th>\n",
       "      <th>V24</th>\n",
       "      <th>V25</th>\n",
       "      <th>V26</th>\n",
       "      <th>V27</th>\n",
       "      <th>V28</th>\n",
       "      <th>Amount</th>\n",
       "      <th>Class</th>\n",
       "    </tr>\n",
       "  </thead>\n",
       "  <tbody>\n",
       "    <tr>\n",
       "      <th>0</th>\n",
       "      <td>0.0</td>\n",
       "      <td>-1.359807</td>\n",
       "      <td>-0.072781</td>\n",
       "      <td>2.536347</td>\n",
       "      <td>1.378155</td>\n",
       "      <td>-0.338321</td>\n",
       "      <td>0.462388</td>\n",
       "      <td>0.239599</td>\n",
       "      <td>0.098698</td>\n",
       "      <td>0.363787</td>\n",
       "      <td>...</td>\n",
       "      <td>-0.018307</td>\n",
       "      <td>0.277838</td>\n",
       "      <td>-0.110474</td>\n",
       "      <td>0.066928</td>\n",
       "      <td>0.128539</td>\n",
       "      <td>-0.189115</td>\n",
       "      <td>0.133558</td>\n",
       "      <td>-0.021053</td>\n",
       "      <td>149.62</td>\n",
       "      <td>0</td>\n",
       "    </tr>\n",
       "    <tr>\n",
       "      <th>1</th>\n",
       "      <td>0.0</td>\n",
       "      <td>1.191857</td>\n",
       "      <td>0.266151</td>\n",
       "      <td>0.166480</td>\n",
       "      <td>0.448154</td>\n",
       "      <td>0.060018</td>\n",
       "      <td>-0.082361</td>\n",
       "      <td>-0.078803</td>\n",
       "      <td>0.085102</td>\n",
       "      <td>-0.255425</td>\n",
       "      <td>...</td>\n",
       "      <td>-0.225775</td>\n",
       "      <td>-0.638672</td>\n",
       "      <td>0.101288</td>\n",
       "      <td>-0.339846</td>\n",
       "      <td>0.167170</td>\n",
       "      <td>0.125895</td>\n",
       "      <td>-0.008983</td>\n",
       "      <td>0.014724</td>\n",
       "      <td>2.69</td>\n",
       "      <td>0</td>\n",
       "    </tr>\n",
       "    <tr>\n",
       "      <th>2</th>\n",
       "      <td>1.0</td>\n",
       "      <td>-1.358354</td>\n",
       "      <td>-1.340163</td>\n",
       "      <td>1.773209</td>\n",
       "      <td>0.379780</td>\n",
       "      <td>-0.503198</td>\n",
       "      <td>1.800499</td>\n",
       "      <td>0.791461</td>\n",
       "      <td>0.247676</td>\n",
       "      <td>-1.514654</td>\n",
       "      <td>...</td>\n",
       "      <td>0.247998</td>\n",
       "      <td>0.771679</td>\n",
       "      <td>0.909412</td>\n",
       "      <td>-0.689281</td>\n",
       "      <td>-0.327642</td>\n",
       "      <td>-0.139097</td>\n",
       "      <td>-0.055353</td>\n",
       "      <td>-0.059752</td>\n",
       "      <td>378.66</td>\n",
       "      <td>0</td>\n",
       "    </tr>\n",
       "    <tr>\n",
       "      <th>3</th>\n",
       "      <td>1.0</td>\n",
       "      <td>-0.966272</td>\n",
       "      <td>-0.185226</td>\n",
       "      <td>1.792993</td>\n",
       "      <td>-0.863291</td>\n",
       "      <td>-0.010309</td>\n",
       "      <td>1.247203</td>\n",
       "      <td>0.237609</td>\n",
       "      <td>0.377436</td>\n",
       "      <td>-1.387024</td>\n",
       "      <td>...</td>\n",
       "      <td>-0.108300</td>\n",
       "      <td>0.005274</td>\n",
       "      <td>-0.190321</td>\n",
       "      <td>-1.175575</td>\n",
       "      <td>0.647376</td>\n",
       "      <td>-0.221929</td>\n",
       "      <td>0.062723</td>\n",
       "      <td>0.061458</td>\n",
       "      <td>123.50</td>\n",
       "      <td>0</td>\n",
       "    </tr>\n",
       "    <tr>\n",
       "      <th>4</th>\n",
       "      <td>2.0</td>\n",
       "      <td>-1.158233</td>\n",
       "      <td>0.877737</td>\n",
       "      <td>1.548718</td>\n",
       "      <td>0.403034</td>\n",
       "      <td>-0.407193</td>\n",
       "      <td>0.095921</td>\n",
       "      <td>0.592941</td>\n",
       "      <td>-0.270533</td>\n",
       "      <td>0.817739</td>\n",
       "      <td>...</td>\n",
       "      <td>-0.009431</td>\n",
       "      <td>0.798278</td>\n",
       "      <td>-0.137458</td>\n",
       "      <td>0.141267</td>\n",
       "      <td>-0.206010</td>\n",
       "      <td>0.502292</td>\n",
       "      <td>0.219422</td>\n",
       "      <td>0.215153</td>\n",
       "      <td>69.99</td>\n",
       "      <td>0</td>\n",
       "    </tr>\n",
       "  </tbody>\n",
       "</table>\n",
       "<p>5 rows × 31 columns</p>\n",
       "</div>"
      ],
      "text/plain": [
       "   Time        V1        V2        V3        V4        V5        V6        V7  \\\n",
       "0   0.0 -1.359807 -0.072781  2.536347  1.378155 -0.338321  0.462388  0.239599   \n",
       "1   0.0  1.191857  0.266151  0.166480  0.448154  0.060018 -0.082361 -0.078803   \n",
       "2   1.0 -1.358354 -1.340163  1.773209  0.379780 -0.503198  1.800499  0.791461   \n",
       "3   1.0 -0.966272 -0.185226  1.792993 -0.863291 -0.010309  1.247203  0.237609   \n",
       "4   2.0 -1.158233  0.877737  1.548718  0.403034 -0.407193  0.095921  0.592941   \n",
       "\n",
       "         V8        V9  ...       V21       V22       V23       V24       V25  \\\n",
       "0  0.098698  0.363787  ... -0.018307  0.277838 -0.110474  0.066928  0.128539   \n",
       "1  0.085102 -0.255425  ... -0.225775 -0.638672  0.101288 -0.339846  0.167170   \n",
       "2  0.247676 -1.514654  ...  0.247998  0.771679  0.909412 -0.689281 -0.327642   \n",
       "3  0.377436 -1.387024  ... -0.108300  0.005274 -0.190321 -1.175575  0.647376   \n",
       "4 -0.270533  0.817739  ... -0.009431  0.798278 -0.137458  0.141267 -0.206010   \n",
       "\n",
       "        V26       V27       V28  Amount  Class  \n",
       "0 -0.189115  0.133558 -0.021053  149.62      0  \n",
       "1  0.125895 -0.008983  0.014724    2.69      0  \n",
       "2 -0.139097 -0.055353 -0.059752  378.66      0  \n",
       "3 -0.221929  0.062723  0.061458  123.50      0  \n",
       "4  0.502292  0.219422  0.215153   69.99      0  \n",
       "\n",
       "[5 rows x 31 columns]"
      ]
     },
     "execution_count": 3,
     "metadata": {},
     "output_type": "execute_result"
    }
   ],
   "source": [
    "df = pd.read_csv('creditcard.csv')\n",
    "df.head()"
   ]
  },
  {
   "cell_type": "code",
   "execution_count": 6,
   "metadata": {},
   "outputs": [
    {
     "name": "stdout",
     "output_type": "stream",
     "text": [
      "normal transactions: 284315\n",
      "anomalous transactions: 492\n"
     ]
    }
   ],
   "source": [
    "print(\"normal transactions:\", len(df[df.Class == 0]))\n",
    "print(\"anomalous transactions:\", len(df[df.Class == 1]))"
   ]
  },
  {
   "cell_type": "code",
   "execution_count": 10,
   "metadata": {},
   "outputs": [
    {
     "data": {
      "text/html": [
       "<div>\n",
       "<style scoped>\n",
       "    .dataframe tbody tr th:only-of-type {\n",
       "        vertical-align: middle;\n",
       "    }\n",
       "\n",
       "    .dataframe tbody tr th {\n",
       "        vertical-align: top;\n",
       "    }\n",
       "\n",
       "    .dataframe thead th {\n",
       "        text-align: right;\n",
       "    }\n",
       "</style>\n",
       "<table border=\"1\" class=\"dataframe\">\n",
       "  <thead>\n",
       "    <tr style=\"text-align: right;\">\n",
       "      <th></th>\n",
       "      <th>Time</th>\n",
       "      <th>V1</th>\n",
       "      <th>V2</th>\n",
       "      <th>V3</th>\n",
       "      <th>V4</th>\n",
       "      <th>V5</th>\n",
       "      <th>V6</th>\n",
       "      <th>V7</th>\n",
       "      <th>V8</th>\n",
       "      <th>V9</th>\n",
       "      <th>...</th>\n",
       "      <th>V20</th>\n",
       "      <th>V21</th>\n",
       "      <th>V22</th>\n",
       "      <th>V23</th>\n",
       "      <th>V24</th>\n",
       "      <th>V25</th>\n",
       "      <th>V26</th>\n",
       "      <th>V27</th>\n",
       "      <th>V28</th>\n",
       "      <th>Amount</th>\n",
       "    </tr>\n",
       "  </thead>\n",
       "  <tbody>\n",
       "    <tr>\n",
       "      <th>0</th>\n",
       "      <td>0.0</td>\n",
       "      <td>-1.359807</td>\n",
       "      <td>-0.072781</td>\n",
       "      <td>2.536347</td>\n",
       "      <td>1.378155</td>\n",
       "      <td>-0.338321</td>\n",
       "      <td>0.462388</td>\n",
       "      <td>0.239599</td>\n",
       "      <td>0.098698</td>\n",
       "      <td>0.363787</td>\n",
       "      <td>...</td>\n",
       "      <td>0.251412</td>\n",
       "      <td>-0.018307</td>\n",
       "      <td>0.277838</td>\n",
       "      <td>-0.110474</td>\n",
       "      <td>0.066928</td>\n",
       "      <td>0.128539</td>\n",
       "      <td>-0.189115</td>\n",
       "      <td>0.133558</td>\n",
       "      <td>-0.021053</td>\n",
       "      <td>149.62</td>\n",
       "    </tr>\n",
       "    <tr>\n",
       "      <th>1</th>\n",
       "      <td>0.0</td>\n",
       "      <td>1.191857</td>\n",
       "      <td>0.266151</td>\n",
       "      <td>0.166480</td>\n",
       "      <td>0.448154</td>\n",
       "      <td>0.060018</td>\n",
       "      <td>-0.082361</td>\n",
       "      <td>-0.078803</td>\n",
       "      <td>0.085102</td>\n",
       "      <td>-0.255425</td>\n",
       "      <td>...</td>\n",
       "      <td>-0.069083</td>\n",
       "      <td>-0.225775</td>\n",
       "      <td>-0.638672</td>\n",
       "      <td>0.101288</td>\n",
       "      <td>-0.339846</td>\n",
       "      <td>0.167170</td>\n",
       "      <td>0.125895</td>\n",
       "      <td>-0.008983</td>\n",
       "      <td>0.014724</td>\n",
       "      <td>2.69</td>\n",
       "    </tr>\n",
       "    <tr>\n",
       "      <th>2</th>\n",
       "      <td>1.0</td>\n",
       "      <td>-1.358354</td>\n",
       "      <td>-1.340163</td>\n",
       "      <td>1.773209</td>\n",
       "      <td>0.379780</td>\n",
       "      <td>-0.503198</td>\n",
       "      <td>1.800499</td>\n",
       "      <td>0.791461</td>\n",
       "      <td>0.247676</td>\n",
       "      <td>-1.514654</td>\n",
       "      <td>...</td>\n",
       "      <td>0.524980</td>\n",
       "      <td>0.247998</td>\n",
       "      <td>0.771679</td>\n",
       "      <td>0.909412</td>\n",
       "      <td>-0.689281</td>\n",
       "      <td>-0.327642</td>\n",
       "      <td>-0.139097</td>\n",
       "      <td>-0.055353</td>\n",
       "      <td>-0.059752</td>\n",
       "      <td>378.66</td>\n",
       "    </tr>\n",
       "    <tr>\n",
       "      <th>3</th>\n",
       "      <td>1.0</td>\n",
       "      <td>-0.966272</td>\n",
       "      <td>-0.185226</td>\n",
       "      <td>1.792993</td>\n",
       "      <td>-0.863291</td>\n",
       "      <td>-0.010309</td>\n",
       "      <td>1.247203</td>\n",
       "      <td>0.237609</td>\n",
       "      <td>0.377436</td>\n",
       "      <td>-1.387024</td>\n",
       "      <td>...</td>\n",
       "      <td>-0.208038</td>\n",
       "      <td>-0.108300</td>\n",
       "      <td>0.005274</td>\n",
       "      <td>-0.190321</td>\n",
       "      <td>-1.175575</td>\n",
       "      <td>0.647376</td>\n",
       "      <td>-0.221929</td>\n",
       "      <td>0.062723</td>\n",
       "      <td>0.061458</td>\n",
       "      <td>123.50</td>\n",
       "    </tr>\n",
       "    <tr>\n",
       "      <th>4</th>\n",
       "      <td>2.0</td>\n",
       "      <td>-1.158233</td>\n",
       "      <td>0.877737</td>\n",
       "      <td>1.548718</td>\n",
       "      <td>0.403034</td>\n",
       "      <td>-0.407193</td>\n",
       "      <td>0.095921</td>\n",
       "      <td>0.592941</td>\n",
       "      <td>-0.270533</td>\n",
       "      <td>0.817739</td>\n",
       "      <td>...</td>\n",
       "      <td>0.408542</td>\n",
       "      <td>-0.009431</td>\n",
       "      <td>0.798278</td>\n",
       "      <td>-0.137458</td>\n",
       "      <td>0.141267</td>\n",
       "      <td>-0.206010</td>\n",
       "      <td>0.502292</td>\n",
       "      <td>0.219422</td>\n",
       "      <td>0.215153</td>\n",
       "      <td>69.99</td>\n",
       "    </tr>\n",
       "  </tbody>\n",
       "</table>\n",
       "<p>5 rows × 30 columns</p>\n",
       "</div>"
      ],
      "text/plain": [
       "   Time        V1        V2        V3        V4        V5        V6        V7  \\\n",
       "0   0.0 -1.359807 -0.072781  2.536347  1.378155 -0.338321  0.462388  0.239599   \n",
       "1   0.0  1.191857  0.266151  0.166480  0.448154  0.060018 -0.082361 -0.078803   \n",
       "2   1.0 -1.358354 -1.340163  1.773209  0.379780 -0.503198  1.800499  0.791461   \n",
       "3   1.0 -0.966272 -0.185226  1.792993 -0.863291 -0.010309  1.247203  0.237609   \n",
       "4   2.0 -1.158233  0.877737  1.548718  0.403034 -0.407193  0.095921  0.592941   \n",
       "\n",
       "         V8        V9  ...       V20       V21       V22       V23       V24  \\\n",
       "0  0.098698  0.363787  ...  0.251412 -0.018307  0.277838 -0.110474  0.066928   \n",
       "1  0.085102 -0.255425  ... -0.069083 -0.225775 -0.638672  0.101288 -0.339846   \n",
       "2  0.247676 -1.514654  ...  0.524980  0.247998  0.771679  0.909412 -0.689281   \n",
       "3  0.377436 -1.387024  ... -0.208038 -0.108300  0.005274 -0.190321 -1.175575   \n",
       "4 -0.270533  0.817739  ...  0.408542 -0.009431  0.798278 -0.137458  0.141267   \n",
       "\n",
       "        V25       V26       V27       V28  Amount  \n",
       "0  0.128539 -0.189115  0.133558 -0.021053  149.62  \n",
       "1  0.167170  0.125895 -0.008983  0.014724    2.69  \n",
       "2 -0.327642 -0.139097 -0.055353 -0.059752  378.66  \n",
       "3  0.647376 -0.221929  0.062723  0.061458  123.50  \n",
       "4 -0.206010  0.502292  0.219422  0.215153   69.99  \n",
       "\n",
       "[5 rows x 30 columns]"
      ]
     },
     "execution_count": 10,
     "metadata": {},
     "output_type": "execute_result"
    }
   ],
   "source": [
    "inputs = df.drop('Class', axis='columns')\n",
    "inputs.head()"
   ]
  },
  {
   "cell_type": "code",
   "execution_count": 8,
   "metadata": {},
   "outputs": [
    {
     "data": {
      "text/plain": [
       "0    0\n",
       "1    0\n",
       "2    0\n",
       "3    0\n",
       "4    0\n",
       "Name: Class, dtype: int64"
      ]
     },
     "execution_count": 8,
     "metadata": {},
     "output_type": "execute_result"
    }
   ],
   "source": [
    "target = df.Class\n",
    "target.head()"
   ]
  },
  {
   "cell_type": "code",
   "execution_count": 11,
   "metadata": {},
   "outputs": [
    {
     "name": "stdout",
     "output_type": "stream",
     "text": [
      "<class 'pandas.core.frame.DataFrame'>\n",
      "RangeIndex: 284807 entries, 0 to 284806\n",
      "Data columns (total 31 columns):\n",
      " #   Column  Non-Null Count   Dtype  \n",
      "---  ------  --------------   -----  \n",
      " 0   Time    284807 non-null  float64\n",
      " 1   V1      284807 non-null  float64\n",
      " 2   V2      284807 non-null  float64\n",
      " 3   V3      284807 non-null  float64\n",
      " 4   V4      284807 non-null  float64\n",
      " 5   V5      284807 non-null  float64\n",
      " 6   V6      284807 non-null  float64\n",
      " 7   V7      284807 non-null  float64\n",
      " 8   V8      284807 non-null  float64\n",
      " 9   V9      284807 non-null  float64\n",
      " 10  V10     284807 non-null  float64\n",
      " 11  V11     284807 non-null  float64\n",
      " 12  V12     284807 non-null  float64\n",
      " 13  V13     284807 non-null  float64\n",
      " 14  V14     284807 non-null  float64\n",
      " 15  V15     284807 non-null  float64\n",
      " 16  V16     284807 non-null  float64\n",
      " 17  V17     284807 non-null  float64\n",
      " 18  V18     284807 non-null  float64\n",
      " 19  V19     284807 non-null  float64\n",
      " 20  V20     284807 non-null  float64\n",
      " 21  V21     284807 non-null  float64\n",
      " 22  V22     284807 non-null  float64\n",
      " 23  V23     284807 non-null  float64\n",
      " 24  V24     284807 non-null  float64\n",
      " 25  V25     284807 non-null  float64\n",
      " 26  V26     284807 non-null  float64\n",
      " 27  V27     284807 non-null  float64\n",
      " 28  V28     284807 non-null  float64\n",
      " 29  Amount  284807 non-null  float64\n",
      " 30  Class   284807 non-null  int64  \n",
      "dtypes: float64(30), int64(1)\n",
      "memory usage: 67.4 MB\n"
     ]
    }
   ],
   "source": [
    "df.info()"
   ]
  },
  {
   "cell_type": "markdown",
   "metadata": {},
   "source": [
    "### Data Exploration"
   ]
  },
  {
   "cell_type": "code",
   "execution_count": 15,
   "metadata": {},
   "outputs": [
    {
     "data": {
      "text/plain": [
       "Text(0, 0.5, 'Frequency')"
      ]
     },
     "execution_count": 15,
     "metadata": {},
     "output_type": "execute_result"
    },
    {
     "data": {
      "image/png": "[encoded data removed]",
      "text/plain": [
       "<Figure size 432x288 with 1 Axes>"
      ]
     },
     "metadata": {
      "needs_background": "light"
     },
     "output_type": "display_data"
    }
   ],
   "source": [
    "import matplotlib.pyplot as plt\n",
    "class_count = pd.value_counts(df.Class, sort=True)\n",
    "class_count.plot(kind='bar')\n",
    "\n",
    "plt.title(\"Class Distribution\")\n",
    "plt.xticks([0, 1], [\"Normal\", \"fraud\"])\n",
    "plt.xlabel('Class')\n",
    "plt.ylabel('Frequency')"
   ]
  },
  {
   "cell_type": "code",
   "execution_count": 18,
   "metadata": {},
   "outputs": [
    {
     "name": "stdout",
     "output_type": "stream",
     "text": [
      "(492, 31) (284315, 31)\n"
     ]
    }
   ],
   "source": [
    "fraud = df[df.Class == 1]\n",
    "normal = df[df.Class == 0]\n",
    "print(fraud.shape, normal.shape)"
   ]
  },
  {
   "cell_type": "code",
   "execution_count": 19,
   "metadata": {},
   "outputs": [
    {
     "data": {
      "text/plain": [
       "count     492.000000\n",
       "mean      122.211321\n",
       "std       256.683288\n",
       "min         0.000000\n",
       "25%         1.000000\n",
       "50%         9.250000\n",
       "75%       105.890000\n",
       "max      2125.870000\n",
       "Name: Amount, dtype: float64"
      ]
     },
     "execution_count": 19,
     "metadata": {},
     "output_type": "execute_result"
    }
   ],
   "source": [
    "fraud.Amount.describe()"
   ]
  },
  {
   "cell_type": "code",
   "execution_count": 20,
   "metadata": {},
   "outputs": [
    {
     "data": {
      "text/plain": [
       "count    284315.000000\n",
       "mean         88.291022\n",
       "std         250.105092\n",
       "min           0.000000\n",
       "25%           5.650000\n",
       "50%          22.000000\n",
       "75%          77.050000\n",
       "max       25691.160000\n",
       "Name: Amount, dtype: float64"
      ]
     },
     "execution_count": 20,
     "metadata": {},
     "output_type": "execute_result"
    }
   ],
   "source": [
    "normal.Amount.describe()"
   ]
  },
  {
   "cell_type": "code",
   "execution_count": 30,
   "metadata": {},
   "outputs": [
    {
     "data": {
      "image/png": "[encoded data removed]",
      "text/plain": [
       "<Figure size 1440x360 with 1 Axes>"
      ]
     },
     "metadata": {
      "needs_background": "light"
     },
     "output_type": "display_data"
    }
   ],
   "source": [
    "plt.figure(figsize=(20,5))\n",
    "bins=50\n",
    "plt.title('Fraud Amount Distribution')\n",
    "plt.xlabel('Amount')\n",
    "plt.ylabel('Number of Transactions')\n",
    "plt.hist(fraud.Amount, bins=bins)\n",
    "plt.show()"
   ]
  },
  {
   "cell_type": "code",
   "execution_count": 29,
   "metadata": {},
   "outputs": [
    {
     "data": {
      "image/png": "[encoded data removed]",
      "text/plain": [
       "<Figure size 1440x360 with 1 Axes>"
      ]
     },
     "metadata": {
      "needs_background": "light"
     },
     "output_type": "display_data"
    }
   ],
   "source": [
    "plt.figure(figsize=(20, 5))\n",
    "plt.title(\"Time of Transaction vs Amount\")\n",
    "plt.scatter(fraud.Time, fraud.Amount)\n",
    "plt.show()"
   ]
  },
  {
   "cell_type": "code",
   "execution_count": 32,
   "metadata": {},
   "outputs": [
    {
     "name": "stdout",
     "output_type": "stream",
     "text": [
      "fraud / all transactions (%):  0.001727485630620034\n"
     ]
    }
   ],
   "source": [
    "print(\"fraud / all transactions (%): \", len(fraud) / (len(fraud) + len(normal)))"
   ]
  },
  {
   "cell_type": "markdown",
   "metadata": {},
   "source": [
    "### Create train and test set"
   ]
  },
  {
   "cell_type": "code",
   "execution_count": 33,
   "metadata": {},
   "outputs": [
    {
     "name": "stdout",
     "output_type": "stream",
     "text": [
      "(227845, 30) (227845,) (56962, 30) (56962,)\n"
     ]
    }
   ],
   "source": [
    "from sklearn.model_selection import train_test_split\n",
    "train_X, test_X, train_Y, test_Y = train_test_split(inputs, target, test_size=0.2)\n",
    "print(train_X.shape, train_Y.shape, test_X.shape, test_Y.shape)"
   ]
  },
  {
   "cell_type": "code",
   "execution_count": 37,
   "metadata": {},
   "outputs": [
    {
     "name": "stdout",
     "output_type": "stream",
     "text": [
      "number of fraud in the train set:  392\n",
      "number of fraud in the test set:  100\n"
     ]
    }
   ],
   "source": [
    "print(\"number of fraud in the train set: \", len(train_Y[train_Y == 1]))\n",
    "print(\"number of fraud in the test set: \", len(test_Y[test_Y == 1]))"
   ]
  },
  {
   "cell_type": "markdown",
   "metadata": {},
   "source": [
    "### Support vector machine:"
   ]
  },
  {
   "cell_type": "code",
   "execution_count": 38,
   "metadata": {},
   "outputs": [],
   "source": [
    "from sklearn.svm import OneClassSVM"
   ]
  },
  {
   "cell_type": "markdown",
   "metadata": {},
   "source": [
    "### Local Outlier Factor (LOF) Algorithm:"
   ]
  },
  {
   "cell_type": "code",
   "execution_count": 44,
   "metadata": {},
   "outputs": [
    {
     "name": "stdout",
     "output_type": "stream",
     "text": [
      "(227845,)\n",
      "prediction : [1 1 1 1 1 1 1 1 1 1]\n",
      "real :  59791     0\n",
      "262991    0\n",
      "78599     0\n",
      "194478    0\n",
      "57955     0\n",
      "191350    0\n",
      "249488    0\n",
      "190919    0\n",
      "254580    0\n",
      "137100    0\n",
      "Name: Class, dtype: int64\n"
     ]
    }
   ],
   "source": [
    "from sklearn.neighbors import LocalOutlierFactor\n",
    "lof_model = LocalOutlierFactor(n_neighbors=20, metric='minkowski', algorithm='auto', leaf_size=20)\n",
    "y_pred = lof_model.fit_predict(train_X)\n",
    "print(y_pred.shape)\n",
    "print(\"prediction :\", y_pred[:10])\n",
    "print(\"real : \", train_Y[:10])"
   ]
  },
  {
   "cell_type": "code",
   "execution_count": 45,
   "metadata": {},
   "outputs": [
    {
     "name": "stdout",
     "output_type": "stream",
     "text": [
      "[-1  1]\n",
      "[0 1]\n"
     ]
    }
   ],
   "source": [
    "print(np.unique(y_pred))\n",
    "print(np.unique(np.array(train_Y)))"
   ]
  },
  {
   "cell_type": "code",
   "execution_count": 46,
   "metadata": {},
   "outputs": [
    {
     "name": "stdout",
     "output_type": "stream",
     "text": [
      "[0 1]\n"
     ]
    }
   ],
   "source": [
    "y_pred_ = [0 if i == 1 else 1 for i in y_pred]\n",
    "print(np.unique(y_pred_))"
   ]
  },
  {
   "cell_type": "code",
   "execution_count": 55,
   "metadata": {},
   "outputs": [
    {
     "name": "stdout",
     "output_type": "stream",
     "text": [
      "223712\n"
     ]
    }
   ],
   "source": [
    "y_true = np.array(train_Y)\n",
    "true_pred = np.sum(y_true == y_pred_)\n",
    "print(true_pred)"
   ]
  },
  {
   "cell_type": "code",
   "execution_count": 71,
   "metadata": {},
   "outputs": [
    {
     "name": "stdout",
     "output_type": "stream",
     "text": [
      "accuracy fraud: 15.306122448979592%\n"
     ]
    }
   ],
   "source": [
    "temp = np.array([2 if c == 0 else 1 for c in y_true])\n",
    "true_pred_fraud = np.sum(y_pred_ == temp)\n",
    "print(\"accuracy fraud: {}%\".format((true_pred_fraud / len(y_true[y_true == 1]))*100))"
   ]
  },
  {
   "cell_type": "code",
   "execution_count": 72,
   "metadata": {},
   "outputs": [
    {
     "name": "stdout",
     "output_type": "stream",
     "text": [
      "accuracy normal: 98.32888552799919%\n"
     ]
    }
   ],
   "source": [
    "temp_ = np.array([2 if c == 1 else 0 for c in y_true])\n",
    "true_pred_normal = np.sum(y_pred_ == temp_)\n",
    "print(\"accuracy normal: {}%\".format((true_pred_normal / len(y_true[y_true == 0]))*100))"
   ]
  },
  {
   "cell_type": "code",
   "execution_count": 74,
   "metadata": {},
   "outputs": [
    {
     "name": "stdout",
     "output_type": "stream",
     "text": [
      "accuracy overall: 98.18604753231364%\n"
     ]
    }
   ],
   "source": [
    "print(\"accuracy overall: {}%\".format((true_pred / len(y_pred_)*100)))"
   ]
  },
  {
   "cell_type": "markdown",
   "metadata": {},
   "source": [
    "### Isolation Forest Algorithm:"
   ]
  },
  {
   "cell_type": "code",
   "execution_count": 78,
   "metadata": {},
   "outputs": [],
   "source": [
    "from sklearn.ensemble import IsolationForest\n",
    "if_model = IsolationForest(n_estimators=100, max_samples=len(train_X), contamination='auto',\n",
    "                           random_state=123, verbose=1)"
   ]
  },
  {
   "cell_type": "code",
   "execution_count": 79,
   "metadata": {},
   "outputs": [
    {
     "name": "stderr",
     "output_type": "stream",
     "text": [
      "[Parallel(n_jobs=1)]: Using backend SequentialBackend with 1 concurrent workers.\n",
      "[Parallel(n_jobs=1)]: Done   1 out of   1 | elapsed:   12.9s finished\n"
     ]
    }
   ],
   "source": [
    "if_model.fit(train_X)\n",
    "y_pred_if = if_model.predict(train_X)"
   ]
  },
  {
   "cell_type": "code",
   "execution_count": 92,
   "metadata": {},
   "outputs": [
    {
     "name": "stdout",
     "output_type": "stream",
     "text": [
      "[0 1]\n",
      "[-1  1]\n"
     ]
    }
   ],
   "source": [
    "print(np.unique(y_true))\n",
    "print(np.unique(y_pred_if))"
   ]
  },
  {
   "cell_type": "code",
   "execution_count": 88,
   "metadata": {},
   "outputs": [
    {
     "name": "stdout",
     "output_type": "stream",
     "text": [
      "[0 1]\n"
     ]
    }
   ],
   "source": [
    "y_pred_if_ = [0 if i == 1 else 1 for i in y_pred_if]\n",
    "print(np.unique(y_pred_if_))"
   ]
  },
  {
   "cell_type": "code",
   "execution_count": 93,
   "metadata": {},
   "outputs": [
    {
     "name": "stdout",
     "output_type": "stream",
     "text": [
      "[0 1]\n",
      "[0 1]\n"
     ]
    }
   ],
   "source": [
    "print(np.unique(y_true))\n",
    "print(np.unique(y_pred_if_))"
   ]
  },
  {
   "cell_type": "code",
   "execution_count": 94,
   "metadata": {},
   "outputs": [
    {
     "name": "stdout",
     "output_type": "stream",
     "text": [
      "227233\n"
     ]
    }
   ],
   "source": [
    "true_pred_if = np.sum(y_true == y_pred_if_)\n",
    "print(true_pred_if)"
   ]
  },
  {
   "cell_type": "code",
   "execution_count": 95,
   "metadata": {},
   "outputs": [
    {
     "name": "stdout",
     "output_type": "stream",
     "text": [
      "accuracy fraud: 37.755102040816325%\n"
     ]
    }
   ],
   "source": [
    "temp = np.array([2 if c == 0 else 1 for c in y_true])\n",
    "true_pred_fraud = np.sum(y_pred_if_ == temp)\n",
    "print(\"accuracy fraud: {}%\".format((true_pred_fraud / len(y_true[y_true == 1]))*100))"
   ]
  },
  {
   "cell_type": "code",
   "execution_count": 96,
   "metadata": {},
   "outputs": [
    {
     "name": "stdout",
     "output_type": "stream",
     "text": [
      "accuracy normal: 99.83820833315015%\n"
     ]
    }
   ],
   "source": [
    "temp_ = np.array([2 if c == 1 else 0 for c in y_true])\n",
    "true_pred_normal = np.sum(y_pred_if_ == temp_)\n",
    "print(\"accuracy normal: {}%\".format((true_pred_normal / len(y_true[y_true == 0]))*100))"
   ]
  },
  {
   "cell_type": "code",
   "execution_count": 97,
   "metadata": {},
   "outputs": [
    {
     "name": "stdout",
     "output_type": "stream",
     "text": [
      "accuracy overall: 99.7313963440058%\n"
     ]
    }
   ],
   "source": [
    "print(\"accuracy overall: {}%\".format((true_pred_if / len(y_pred_if)*100)))"
   ]
  },
  {
   "cell_type": "markdown",
   "metadata": {},
   "source": [
    "### Neural Networks:"
   ]
  },
  {
   "cell_type": "code",
   "execution_count": 100,
   "metadata": {},
   "outputs": [
    {
     "data": {
      "text/plain": [
       "count    2.848070e+05\n",
       "mean     1.165980e-15\n",
       "std      1.958696e+00\n",
       "min     -5.640751e+01\n",
       "25%     -9.203734e-01\n",
       "50%      1.810880e-02\n",
       "75%      1.315642e+00\n",
       "max      2.454930e+00\n",
       "Name: V1, dtype: float64"
      ]
     },
     "execution_count": 100,
     "metadata": {},
     "output_type": "execute_result"
    }
   ],
   "source": [
    "inputs.Amount.describe()\n",
    "inputs.V1.describe()"
   ]
  },
  {
   "cell_type": "markdown",
   "metadata": {},
   "source": [
    "#### Normalise the data [0, 1]"
   ]
  },
  {
   "cell_type": "code",
   "execution_count": 111,
   "metadata": {},
   "outputs": [],
   "source": [
    "from sklearn.preprocessing import MinMaxScaler\n",
    "min_max_scaler = MinMaxScaler()\n",
    "\n",
    "inputs_val = inputs.values\n",
    "#print(inputs_val.shape)\n",
    "inputs_sc = min_max_scaler.fit_transform(inputs_val)\n",
    "column_names = []\n",
    "for name in inputs.columns:\n",
    "    column_names.append(name)\n",
    "#print(column_names)\n",
    "inputs_scaled = pd.DataFrame(inputs_sc, columns=column_names)"
   ]
  },
  {
   "cell_type": "code",
   "execution_count": 112,
   "metadata": {},
   "outputs": [
    {
     "data": {
      "text/plain": [
       "count    284807.000000\n",
       "mean          0.003439\n",
       "std           0.009736\n",
       "min           0.000000\n",
       "25%           0.000218\n",
       "50%           0.000856\n",
       "75%           0.003004\n",
       "max           1.000000\n",
       "Name: Amount, dtype: float64"
      ]
     },
     "execution_count": 112,
     "metadata": {},
     "output_type": "execute_result"
    }
   ],
   "source": [
    "inputs_scaled.Amount.describe()\n",
    "#inputs_scaled.V1.describe()"
   ]
  },
  {
   "cell_type": "code",
   "execution_count": 113,
   "metadata": {},
   "outputs": [
    {
     "name": "stdout",
     "output_type": "stream",
     "text": [
      "all data :  (284807, 30)\n",
      "train set: (227845, 30), target train set: (227845,)\n",
      "test set: (56962, 30), target test set: (56962,)\n"
     ]
    }
   ],
   "source": [
    "values = inputs_scaled.values\n",
    "print(\"all data : \", values.shape)\n",
    "X, test_X, Y, test_Y = train_test_split(values, target, test_size=0.2)\n",
    "print(\"train set: {}, target train set: {}\".format(X.shape, Y.shape))\n",
    "print(\"test set: {}, target test set: {}\".format(test_X.shape, test_Y.shape))"
   ]
  },
  {
   "cell_type": "code",
   "execution_count": 132,
   "metadata": {},
   "outputs": [
    {
     "name": "stdout",
     "output_type": "stream",
     "text": [
      "TRAIN SET:\n",
      "Number of normal samples in training data: 401 (0.18% of total)\n",
      "TEST SET:\n",
      "Number of normal samples in training data: 91 (0.16% of total)\n"
     ]
    }
   ],
   "source": [
    "print(\"TRAIN SET:\")\n",
    "counts_normal = len(Y[Y == 0])\n",
    "counts_fraud = len(Y[Y == 1])\n",
    "print(\n",
    "    \"Number of normal samples in training data: {} ({:.2f}% of total)\".format(\n",
    "        counts_fraud, 100 * float(counts_fraud) / len(Y)\n",
    "    )\n",
    ")\n",
    "\n",
    "weight_for_0 = 1.0 / counts_normal\n",
    "weight_for_1 = 1.0 / counts_fraud\n",
    "\n",
    "print(\"TEST SET:\")\n",
    "counts_normal = len(test_Y[test_Y == 0])\n",
    "counts_fraud = len(test_Y[test_Y == 1])\n",
    "print(\n",
    "    \"Number of normal samples in training data: {} ({:.2f}% of total)\".format(\n",
    "        counts_fraud, 100 * float(counts_fraud) / len(test_Y)\n",
    "    )\n",
    ")"
   ]
  },
  {
   "cell_type": "code",
   "execution_count": 133,
   "metadata": {},
   "outputs": [
    {
     "name": "stdout",
     "output_type": "stream",
     "text": [
      "4.396686656935333e-06\n",
      "0.0024937655860349127\n"
     ]
    }
   ],
   "source": [
    "print(weight_for_0)\n",
    "print(weight_for_1)"
   ]
  },
  {
   "cell_type": "markdown",
   "metadata": {},
   "source": [
    "### Build the model:"
   ]
  },
  {
   "cell_type": "code",
   "execution_count": 144,
   "metadata": {},
   "outputs": [
    {
     "name": "stdout",
     "output_type": "stream",
     "text": [
      "Model: \"sequential_1\"\n",
      "_________________________________________________________________\n",
      "Layer (type)                 Output Shape              Param #   \n",
      "=================================================================\n",
      "dense_4 (Dense)              (None, 256)               7936      \n",
      "_________________________________________________________________\n",
      "dense_5 (Dense)              (None, 256)               65792     \n",
      "_________________________________________________________________\n",
      "dropout_2 (Dropout)          (None, 256)               0         \n",
      "_________________________________________________________________\n",
      "dense_6 (Dense)              (None, 256)               65792     \n",
      "_________________________________________________________________\n",
      "dropout_3 (Dropout)          (None, 256)               0         \n",
      "_________________________________________________________________\n",
      "dense_7 (Dense)              (None, 1)                 257       \n",
      "=================================================================\n",
      "Total params: 139,777\n",
      "Trainable params: 139,777\n",
      "Non-trainable params: 0\n",
      "_________________________________________________________________\n"
     ]
    }
   ],
   "source": [
    "from tensorflow import keras\n",
    "\n",
    "model = keras.Sequential(\n",
    "[\n",
    "    keras.layers.Dense(256, activation='relu', input_shape=(X.shape[-1],)),\n",
    "    keras.layers.Dense(256, activation='relu'),\n",
    "    keras.layers.Dropout(0.3),\n",
    "    keras.layers.Dense(256, activation='relu'),\n",
    "    keras.layers.Dropout(0.3),\n",
    "    keras.layers.Dense(1, activation='sigmoid')\n",
    "])\n",
    "model.summary()"
   ]
  },
  {
   "cell_type": "code",
   "execution_count": 145,
   "metadata": {},
   "outputs": [
    {
     "name": "stdout",
     "output_type": "stream",
     "text": [
      "Epoch 1/30\n",
      "223/223 [==============================] - 5s 23ms/step - loss: 0.0146 - fn: 302.0000 - fp: 544.0000 - tn: 226900.0000 - tp: 99.0000 - precision: 0.1540 - recall: 0.2469 - val_loss: 0.0048 - val_fn: 39.0000 - val_fp: 9.0000 - val_tn: 56862.0000 - val_tp: 52.0000 - val_precision: 0.8525 - val_recall: 0.5714\n",
      "Epoch 2/30\n",
      "223/223 [==============================] - 5s 23ms/step - loss: 0.0047 - fn: 140.0000 - fp: 50.0000 - tn: 227394.0000 - tp: 261.0000 - precision: 0.8392 - recall: 0.6509 - val_loss: 0.0073 - val_fn: 44.0000 - val_fp: 8.0000 - val_tn: 56863.0000 - val_tp: 47.0000 - val_precision: 0.8545 - val_recall: 0.5165\n",
      "Epoch 3/30\n",
      "223/223 [==============================] - 5s 21ms/step - loss: 0.0043 - fn: 111.0000 - fp: 54.0000 - tn: 227390.0000 - tp: 290.0000 - precision: 0.8430 - recall: 0.7232 - val_loss: 0.0043 - val_fn: 25.0000 - val_fp: 12.0000 - val_tn: 56859.0000 - val_tp: 66.0000 - val_precision: 0.8462 - val_recall: 0.7253\n",
      "Epoch 4/30\n",
      "223/223 [==============================] - 5s 23ms/step - loss: 0.0044 - fn: 112.0000 - fp: 46.0000 - tn: 227398.0000 - tp: 289.0000 - precision: 0.8627 - recall: 0.7207 - val_loss: 0.0038 - val_fn: 23.0000 - val_fp: 18.0000 - val_tn: 56853.0000 - val_tp: 68.0000 - val_precision: 0.7907 - val_recall: 0.7473\n",
      "Epoch 5/30\n",
      "223/223 [==============================] - 6s 28ms/step - loss: 0.0046 - fn: 118.0000 - fp: 50.0000 - tn: 227394.0000 - tp: 283.0000 - precision: 0.8498 - recall: 0.7057 - val_loss: 0.0040 - val_fn: 23.0000 - val_fp: 17.0000 - val_tn: 56854.0000 - val_tp: 68.0000 - val_precision: 0.8000 - val_recall: 0.7473\n",
      "Epoch 6/30\n",
      "223/223 [==============================] - 6s 25ms/step - loss: 0.0043 - fn: 114.0000 - fp: 56.0000 - tn: 227388.0000 - tp: 287.0000 - precision: 0.8367 - recall: 0.7157 - val_loss: 0.0041 - val_fn: 25.0000 - val_fp: 9.0000 - val_tn: 56862.0000 - val_tp: 66.0000 - val_precision: 0.8800 - val_recall: 0.7253\n",
      "Epoch 7/30\n",
      "223/223 [==============================] - 5s 24ms/step - loss: 0.0042 - fn: 105.0000 - fp: 62.0000 - tn: 227382.0000 - tp: 296.0000 - precision: 0.8268 - recall: 0.7382 - val_loss: 0.0047 - val_fn: 21.0000 - val_fp: 27.0000 - val_tn: 56844.0000 - val_tp: 70.0000 - val_precision: 0.7216 - val_recall: 0.7692\n",
      "Epoch 8/30\n",
      "223/223 [==============================] - 5s 24ms/step - loss: 0.0037 - fn: 100.0000 - fp: 53.0000 - tn: 227391.0000 - tp: 301.0000 - precision: 0.8503 - recall: 0.7506 - val_loss: 0.0039 - val_fn: 28.0000 - val_fp: 9.0000 - val_tn: 56862.0000 - val_tp: 63.0000 - val_precision: 0.8750 - val_recall: 0.6923\n",
      "Epoch 9/30\n",
      "223/223 [==============================] - 5s 24ms/step - loss: 0.0047 - fn: 125.0000 - fp: 53.0000 - tn: 227391.0000 - tp: 276.0000 - precision: 0.8389 - recall: 0.6883 - val_loss: 0.0039 - val_fn: 21.0000 - val_fp: 23.0000 - val_tn: 56848.0000 - val_tp: 70.0000 - val_precision: 0.7527 - val_recall: 0.7692\n",
      "Epoch 10/30\n",
      "223/223 [==============================] - 5s 24ms/step - loss: 0.0040 - fn: 99.0000 - fp: 57.0000 - tn: 227387.0000 - tp: 302.0000 - precision: 0.8412 - recall: 0.7531 - val_loss: 0.0040 - val_fn: 23.0000 - val_fp: 9.0000 - val_tn: 56862.0000 - val_tp: 68.0000 - val_precision: 0.8831 - val_recall: 0.7473\n",
      "Epoch 11/30\n",
      "223/223 [==============================] - 5s 24ms/step - loss: 0.0038 - fn: 97.0000 - fp: 60.0000 - tn: 227384.0000 - tp: 304.0000 - precision: 0.8352 - recall: 0.7581 - val_loss: 0.0037 - val_fn: 21.0000 - val_fp: 24.0000 - val_tn: 56847.0000 - val_tp: 70.0000 - val_precision: 0.7447 - val_recall: 0.7692\n",
      "Epoch 12/30\n",
      "223/223 [==============================] - 5s 24ms/step - loss: 0.0043 - fn: 103.0000 - fp: 54.0000 - tn: 227390.0000 - tp: 298.0000 - precision: 0.8466 - recall: 0.7431 - val_loss: 0.0043 - val_fn: 45.0000 - val_fp: 8.0000 - val_tn: 56863.0000 - val_tp: 46.0000 - val_precision: 0.8519 - val_recall: 0.5055\n",
      "Epoch 13/30\n",
      "223/223 [==============================] - 5s 23ms/step - loss: 0.0040 - fn: 104.0000 - fp: 52.0000 - tn: 227392.0000 - tp: 297.0000 - precision: 0.8510 - recall: 0.7406 - val_loss: 0.0038 - val_fn: 23.0000 - val_fp: 9.0000 - val_tn: 56862.0000 - val_tp: 68.0000 - val_precision: 0.8831 - val_recall: 0.7473\n",
      "Epoch 14/30\n",
      "223/223 [==============================] - 5s 24ms/step - loss: 0.0038 - fn: 93.0000 - fp: 58.0000 - tn: 227386.0000 - tp: 308.0000 - precision: 0.8415 - recall: 0.7681 - val_loss: 0.0041 - val_fn: 23.0000 - val_fp: 21.0000 - val_tn: 56850.0000 - val_tp: 68.0000 - val_precision: 0.7640 - val_recall: 0.7473\n",
      "Epoch 15/30\n",
      "223/223 [==============================] - 5s 25ms/step - loss: 0.0037 - fn: 92.0000 - fp: 59.0000 - tn: 227385.0000 - tp: 309.0000 - precision: 0.8397 - recall: 0.7706 - val_loss: 0.0037 - val_fn: 21.0000 - val_fp: 22.0000 - val_tn: 56849.0000 - val_tp: 70.0000 - val_precision: 0.7609 - val_recall: 0.7692\n",
      "Epoch 16/30\n",
      "223/223 [==============================] - 5s 23ms/step - loss: 0.0039 - fn: 92.0000 - fp: 60.0000 - tn: 227384.0000 - tp: 309.0000 - precision: 0.8374 - recall: 0.7706 - val_loss: 0.0039 - val_fn: 24.0000 - val_fp: 9.0000 - val_tn: 56862.0000 - val_tp: 67.0000 - val_precision: 0.8816 - val_recall: 0.7363\n",
      "Epoch 17/30\n",
      "223/223 [==============================] - 5s 24ms/step - loss: 0.0039 - fn: 101.0000 - fp: 55.0000 - tn: 227389.0000 - tp: 300.0000 - precision: 0.8451 - recall: 0.7481 - val_loss: 0.0039 - val_fn: 21.0000 - val_fp: 13.0000 - val_tn: 56858.0000 - val_tp: 70.0000 - val_precision: 0.8434 - val_recall: 0.7692\n",
      "Epoch 18/30\n",
      "223/223 [==============================] - 5s 24ms/step - loss: 0.0036 - fn: 90.0000 - fp: 59.0000 - tn: 227385.0000 - tp: 311.0000 - precision: 0.8405 - recall: 0.7756 - val_loss: 0.0036 - val_fn: 21.0000 - val_fp: 15.0000 - val_tn: 56856.0000 - val_tp: 70.0000 - val_precision: 0.8235 - val_recall: 0.7692\n",
      "Epoch 19/30\n",
      "223/223 [==============================] - 5s 23ms/step - loss: 0.0037 - fn: 89.0000 - fp: 55.0000 - tn: 227389.0000 - tp: 312.0000 - precision: 0.8501 - recall: 0.7781 - val_loss: 0.0036 - val_fn: 22.0000 - val_fp: 15.0000 - val_tn: 56856.0000 - val_tp: 69.0000 - val_precision: 0.8214 - val_recall: 0.7582\n",
      "Epoch 20/30\n",
      "223/223 [==============================] - 6s 27ms/step - loss: 0.0038 - fn: 97.0000 - fp: 49.0000 - tn: 227395.0000 - tp: 304.0000 - precision: 0.8612 - recall: 0.7581 - val_loss: 0.0038 - val_fn: 23.0000 - val_fp: 9.0000 - val_tn: 56862.0000 - val_tp: 68.0000 - val_precision: 0.8831 - val_recall: 0.7473\n",
      "Epoch 21/30\n",
      "223/223 [==============================] - 5s 23ms/step - loss: 0.0037 - fn: 95.0000 - fp: 51.0000 - tn: 227393.0000 - tp: 306.0000 - precision: 0.8571 - recall: 0.7631 - val_loss: 0.0039 - val_fn: 23.0000 - val_fp: 13.0000 - val_tn: 56858.0000 - val_tp: 68.0000 - val_precision: 0.8395 - val_recall: 0.7473\n",
      "Epoch 22/30\n",
      "223/223 [==============================] - 5s 23ms/step - loss: 0.0036 - fn: 86.0000 - fp: 55.0000 - tn: 227389.0000 - tp: 315.0000 - precision: 0.8514 - recall: 0.7855 - val_loss: 0.0038 - val_fn: 26.0000 - val_fp: 9.0000 - val_tn: 56862.0000 - val_tp: 65.0000 - val_precision: 0.8784 - val_recall: 0.7143\n",
      "Epoch 23/30\n",
      "223/223 [==============================] - 5s 24ms/step - loss: 0.0035 - fn: 88.0000 - fp: 53.0000 - tn: 227391.0000 - tp: 313.0000 - precision: 0.8552 - recall: 0.7805 - val_loss: 0.0036 - val_fn: 21.0000 - val_fp: 13.0000 - val_tn: 56858.0000 - val_tp: 70.0000 - val_precision: 0.8434 - val_recall: 0.7692\n",
      "Epoch 24/30\n",
      "223/223 [==============================] - 6s 26ms/step - loss: 0.0037 - fn: 94.0000 - fp: 57.0000 - tn: 227387.0000 - tp: 307.0000 - precision: 0.8434 - recall: 0.7656 - val_loss: 0.0054 - val_fn: 26.0000 - val_fp: 9.0000 - val_tn: 56862.0000 - val_tp: 65.0000 - val_precision: 0.8784 - val_recall: 0.7143\n",
      "Epoch 25/30\n",
      "223/223 [==============================] - 5s 23ms/step - loss: 0.0042 - fn: 100.0000 - fp: 63.0000 - tn: 227381.0000 - tp: 301.0000 - precision: 0.8269 - recall: 0.7506 - val_loss: 0.0042 - val_fn: 23.0000 - val_fp: 11.0000 - val_tn: 56860.0000 - val_tp: 68.0000 - val_precision: 0.8608 - val_recall: 0.7473\n",
      "Epoch 26/30\n",
      "223/223 [==============================] - 5s 24ms/step - loss: 0.0035 - fn: 83.0000 - fp: 55.0000 - tn: 227389.0000 - tp: 318.0000 - precision: 0.8525 - recall: 0.7930 - val_loss: 0.0035 - val_fn: 23.0000 - val_fp: 11.0000 - val_tn: 56860.0000 - val_tp: 68.0000 - val_precision: 0.8608 - val_recall: 0.7473\n"
     ]
    },
    {
     "name": "stdout",
     "output_type": "stream",
     "text": [
      "Epoch 27/30\n",
      "223/223 [==============================] - 5s 22ms/step - loss: 0.0037 - fn: 85.0000 - fp: 49.0000 - tn: 227395.0000 - tp: 316.0000 - precision: 0.8658 - recall: 0.7880 - val_loss: 0.0036 - val_fn: 23.0000 - val_fp: 10.0000 - val_tn: 56861.0000 - val_tp: 68.0000 - val_precision: 0.8718 - val_recall: 0.7473\n",
      "Epoch 28/30\n",
      "223/223 [==============================] - 5s 21ms/step - loss: 0.0038 - fn: 104.0000 - fp: 52.0000 - tn: 227392.0000 - tp: 297.0000 - precision: 0.8510 - recall: 0.7406 - val_loss: 0.0039 - val_fn: 21.0000 - val_fp: 17.0000 - val_tn: 56854.0000 - val_tp: 70.0000 - val_precision: 0.8046 - val_recall: 0.7692\n",
      "Epoch 29/30\n",
      "223/223 [==============================] - 5s 21ms/step - loss: 0.0041 - fn: 103.0000 - fp: 69.0000 - tn: 227375.0000 - tp: 298.0000 - precision: 0.8120 - recall: 0.7431 - val_loss: 0.0034 - val_fn: 22.0000 - val_fp: 12.0000 - val_tn: 56859.0000 - val_tp: 69.0000 - val_precision: 0.8519 - val_recall: 0.7582\n",
      "Epoch 30/30\n",
      "223/223 [==============================] - 5s 20ms/step - loss: 0.0038 - fn: 96.0000 - fp: 65.0000 - tn: 227379.0000 - tp: 305.0000 - precision: 0.8243 - recall: 0.7606 - val_loss: 0.0038 - val_fn: 21.0000 - val_fp: 17.0000 - val_tn: 56854.0000 - val_tp: 70.0000 - val_precision: 0.8046 - val_recall: 0.7692\n"
     ]
    }
   ],
   "source": [
    "metrics = [\n",
    "    keras.metrics.FalseNegatives(name=\"fn\"),\n",
    "    keras.metrics.FalsePositives(name=\"fp\"),\n",
    "    keras.metrics.TrueNegatives(name=\"tn\"),\n",
    "    keras.metrics.TruePositives(name=\"tp\"),\n",
    "    keras.metrics.Precision(name=\"precision\"),\n",
    "    keras.metrics.Recall(name=\"recall\"),\n",
    "]\n",
    "\n",
    "model.compile(\n",
    "    optimizer=keras.optimizers.Adam(1e-2), loss=\"binary_crossentropy\", metrics=metrics\n",
    ")\n",
    "\n",
    "class_weight = {0: 1.0, 1: 1.0}\n",
    "\n",
    "history = model.fit(\n",
    "                    X,\n",
    "                    Y,\n",
    "                    batch_size=1024,\n",
    "                    epochs=30,\n",
    "                    verbose=1,\n",
    "                    validation_data=(test_X, test_Y),\n",
    "                    class_weight=class_weight,\n",
    "                    )\n"
   ]
  },
  {
   "cell_type": "code",
   "execution_count": 151,
   "metadata": {},
   "outputs": [
    {
     "data": {
      "text/plain": [
       "Text(0, 0.5, 'values')"
      ]
     },
     "execution_count": 151,
     "metadata": {},
     "output_type": "execute_result"
    },
    {
     "data": {
      "image/png": "[encoded data removed]",
      "text/plain": [
       "<Figure size 432x288 with 1 Axes>"
      ]
     },
     "metadata": {
      "needs_background": "light"
     },
     "output_type": "display_data"
    }
   ],
   "source": [
    "metric = 'tn'\n",
    "plt.plot(history.history[metric])\n",
    "plt.title(metric)\n",
    "plt.xlabel('epochs')\n",
    "plt.ylabel('values')"
   ]
  },
  {
   "cell_type": "markdown",
   "metadata": {},
   "source": [
    "#### Train set prediciton:"
   ]
  },
  {
   "cell_type": "code",
   "execution_count": 181,
   "metadata": {},
   "outputs": [],
   "source": [
    "y_pred = model.predict(X)"
   ]
  },
  {
   "cell_type": "code",
   "execution_count": 182,
   "metadata": {},
   "outputs": [
    {
     "name": "stdout",
     "output_type": "stream",
     "text": [
      "227444\n",
      "401\n"
     ]
    }
   ],
   "source": [
    "y_pred_int = np.around(y_pred.reshape(-1)).astype(int)\n",
    "print(len(y_pred_int[y_pred_int == 0]))\n",
    "print(len(y_pred_int[y_pred_int == 1]))"
   ]
  },
  {
   "cell_type": "code",
   "execution_count": 183,
   "metadata": {},
   "outputs": [
    {
     "name": "stdout",
     "output_type": "stream",
     "text": [
      "accuracy fraud: 82.04488778054862%\n"
     ]
    }
   ],
   "source": [
    "temp = np.array([2 if c == 0 else 1 for c in Y])\n",
    "true_pred_fraud = np.sum(y_pred_int == temp)\n",
    "print(\"accuracy fraud: {}%\".format((true_pred_fraud / len(Y[Y == 1]))*100))"
   ]
  },
  {
   "cell_type": "code",
   "execution_count": 184,
   "metadata": {},
   "outputs": [
    {
     "name": "stdout",
     "output_type": "stream",
     "text": [
      "accuracy normal: 99.96834385607006%\n"
     ]
    }
   ],
   "source": [
    "temp_ = np.array([2 if c == 1 else 0 for c in Y])\n",
    "true_pred_normal = np.sum(y_pred_int == temp_)\n",
    "print(\"accuracy normal: {}%\".format((true_pred_normal / len(Y[Y == 0]))*100))"
   ]
  },
  {
   "cell_type": "code",
   "execution_count": 185,
   "metadata": {},
   "outputs": [
    {
     "name": "stdout",
     "output_type": "stream",
     "text": [
      "accuracy overall: 99.93679913976607%\n"
     ]
    }
   ],
   "source": [
    "print(\"accuracy overall: {}%\".format((np.sum(y_pred_int == Y) / len(Y)*100)))"
   ]
  },
  {
   "cell_type": "markdown",
   "metadata": {},
   "source": [
    "#### Test set prediction:"
   ]
  },
  {
   "cell_type": "code",
   "execution_count": 186,
   "metadata": {},
   "outputs": [],
   "source": [
    "y_pred = model.predict(test_X)"
   ]
  },
  {
   "cell_type": "code",
   "execution_count": 187,
   "metadata": {},
   "outputs": [
    {
     "name": "stdout",
     "output_type": "stream",
     "text": [
      "(56962, 1)\n"
     ]
    }
   ],
   "source": [
    "print(y_pred.shape)"
   ]
  },
  {
   "cell_type": "code",
   "execution_count": 188,
   "metadata": {},
   "outputs": [
    {
     "name": "stdout",
     "output_type": "stream",
     "text": [
      "56875\n",
      "87\n"
     ]
    }
   ],
   "source": [
    "y_pred_int = np.around(y_pred.reshape(-1)).astype(int)\n",
    "print(len(y_pred_int[y_pred_int == 0]))\n",
    "print(len(y_pred_int[y_pred_int == 1]))"
   ]
  },
  {
   "cell_type": "code",
   "execution_count": 189,
   "metadata": {},
   "outputs": [
    {
     "name": "stdout",
     "output_type": "stream",
     "text": [
      "accuracy fraud: 76.92307692307693%\n"
     ]
    }
   ],
   "source": [
    "temp = np.array([2 if c == 0 else 1 for c in test_Y])\n",
    "true_pred_fraud = np.sum(y_pred_int == temp)\n",
    "print(\"accuracy fraud: {}%\".format((true_pred_fraud / len(test_Y[test_Y == 1]))*100))"
   ]
  },
  {
   "cell_type": "code",
   "execution_count": 190,
   "metadata": {},
   "outputs": [
    {
     "name": "stdout",
     "output_type": "stream",
     "text": [
      "accuracy normal: 99.97010778780046%\n"
     ]
    }
   ],
   "source": [
    "temp_ = np.array([2 if c == 1 else 0 for c in test_Y])\n",
    "true_pred_normal = np.sum(y_pred_int == temp_)\n",
    "print(\"accuracy normal: {}%\".format((true_pred_normal / len(test_Y[test_Y == 0]))*100))"
   ]
  },
  {
   "cell_type": "code",
   "execution_count": 191,
   "metadata": {},
   "outputs": [
    {
     "name": "stdout",
     "output_type": "stream",
     "text": [
      "accuracy overall: 99.93328885923948%\n"
     ]
    }
   ],
   "source": [
    "print(\"accuracy overall: {}%\".format((np.sum(y_pred_int == test_Y) / len(test_Y)*100)))"
   ]
  },
  {
   "cell_type": "code",
   "execution_count": null,
   "metadata": {},
   "outputs": [],
   "source": []
  }
 ],
 "metadata": {
  "kernelspec": {
   "display_name": "Python 3",
   "language": "python",
   "name": "python3"
  },
  "language_info": {
   "codemirror_mode": {
    "name": "ipython",
    "version": 3
   },
   "file_extension": ".py",
   "mimetype": "text/x-python",
   "name": "python",
   "nbconvert_exporter": "python",
   "pygments_lexer": "ipython3",
   "version": "3.8.5"
  }
 },
 "nbformat": 4,
 "nbformat_minor": 4
}
